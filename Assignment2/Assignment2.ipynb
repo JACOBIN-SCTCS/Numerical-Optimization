{
 "cells": [
  {
   "cell_type": "markdown",
   "metadata": {},
   "source": [
    "### Problem 1\n",
    "\n",
    "a) Code the Conjugate Gradient Method and apply it to solve a simple $$Hx=b$$ system, with H’s dimension as 10×10."
   ]
  },
  {
   "cell_type": "code",
   "execution_count": null,
   "metadata": {},
   "outputs": [],
   "source": [
    "import numpy as np\n",
    "import matplotlib.pyplot as plt\n",
    "\n",
    "# Threshhold for the gradient for termination\n",
    "epsilon_threshhold = 0.001\n",
    "\n",
    "def conjugate_gradient(H,b,initial_point = np.array([[3],[1]])):\n",
    "\n",
    "    x_k = initial_point\n",
    "    # Compute gradient\n",
    "    r_k = np.matmul(H,initial_point) - b\n",
    "    # Descent Direction\n",
    "    p_k = -r_k\n",
    "    \n",
    "    iterations = 0\n",
    "    iterates = []\n",
    "    iterates.append(x_k.copy())\n",
    "    while np.linalg.norm(r_k) > epsilon_threshhold:\n",
    "        \n",
    "        # Calculate the exact step length to take in the descent direction\n",
    "        a_k_num = -np.matmul(r_k.T,p_k)\n",
    "        a_k_denom = np.matmul(p_k.T,np.matmul(H,p_k))\n",
    "        a_k = a_k_num / a_k_denom\n",
    "\n",
    "        # Perform Descent\n",
    "        x_k = x_k + a_k*p_k\n",
    "\n",
    "        # Compute the gradient at the newly arrived point\n",
    "        r_k = np.matmul(H,x_k) - b\n",
    "\n",
    "        # Calculating beta_k such that p_(k-1) and p_k are conjguate with respect to H\n",
    "        b_k_num = np.matmul(p_k.T,np.matmul(H,r_k))\n",
    "        b_k_denom = np.matmul(p_k.T,np.matmul(H,p_k))\n",
    "        b_k = b_k_num / b_k_denom\n",
    "\n",
    "        # The new Conjugate Descent Direction\n",
    "        p_k = -r_k + b_k*p_k\n",
    "        iterates.append(x_k.copy())\n",
    "        iterations+=1\n",
    "        \n",
    "    return iterations,x_k,iterates"
   ]
  },
  {
   "cell_type": "code",
   "execution_count": null,
   "metadata": {},
   "outputs": [],
   "source": [
    "# H (10*10 Matrix)\n",
    "H = np.array([ [27,    4,    -4,   -12,    -3,    -3,     6,   -13,     5,     9],\n",
    "               [4,    12,     5,    -7,    -7,    -8,    -8,    -9,     3,    -2,],\n",
    "               [-4,    5,    18,     3,    -6,    -7,     3,     6,    -1,     3],\n",
    "               [-12,  -7,     3,    22,     6,     6,     1,    10,    -2,   -15],\n",
    "               [-3,   -7,    -6,     6,    23,     4,     7,    12,    -7,    -1],\n",
    "               [-3,   -8,    -7,     6,     4,    20,     5,     1,     0,    -3],\n",
    "               [6,    -8,     3,     1,     7,     5,    22,     2,    -5,    10],\n",
    "               [-13,  -9,     6,    10,    12,     1,     2,    27,    -8,     3],\n",
    "               [5,     3,    -1,    -2,    -7,     0,    -5,    -8,    14,    -2],\n",
    "               [9,    -2,     3,   -15,    -1,    -3,    10,     3,    -2,    25]])\n",
    "\n",
    "\n",
    "b = np.array([ [-67],[-264],[27],[199],[323],[218],[316],[356],[-121],[120]])\n",
    "initial_point = np.zeros((10,1))\n",
    "iterations, ans , iterates = conjugate_gradient(H,b,initial_point)\n",
    "\n",
    "lib_ans = np.linalg.solve(H,b)\n",
    "\n",
    "print(\"Solution returned by Conjugate Gradient custom implementation\")\n",
    "print(\"--------\")\n",
    "print(str(ans))\n",
    "print(\"\\nSolution returned by numpy.linalg.solve\")\n",
    "print(\"--------\")\n",
    "print(str(lib_ans))"
   ]
  },
  {
   "cell_type": "markdown",
   "metadata": {},
   "source": [
    "b) Construct  matrices  with  various  eigenvalue  distributions  (clustered  and  non-clustered)and apply the above CG method to them.  Comment on the behaviour of the CG method in terms of convergence."
   ]
  },
  {
   "cell_type": "code",
   "execution_count": null,
   "metadata": {},
   "outputs": [],
   "source": [
    "clustered_H = np.array([[ 1.39483303,  0.07722347,  0.02239186, -0.08948538,  0.09937066, -0.11190367,  0.05140957, -0.02461725, -0.00884831],\n",
    "                       [ 0.07722347,  1.29643756, -0.0584237 ,  0.08280484,  0.02913479, -0.00234796, -0.01233273,  0.09293059,  0.07818916],\n",
    "                       [ 0.02239186, -0.0584237 ,  1.31438343,  0.00585098,  0.05210147, -0.08849494, -0.10609887,  0.05051076, -0.06765619],\n",
    "                       [-0.08948538,  0.08280484,  0.00585098,  1.45607645, -0.01753098,  0.01500413,  0.03735634, -0.0252064 , -0.09095963],\n",
    "                       [ 0.09937066,  0.02913479,  0.05210147, -0.01753098,  1.29421765,  0.11667466, -0.13008429, -0.10317063,  0.07007971],\n",
    "                       [-0.11190367, -0.00234796, -0.08849494,  0.01500413,  0.11667466,  1.23335634, -0.01660951, -0.0403706 ,  0.06972046],\n",
    "                       [ 0.05140957, -0.01233273, -0.10609887,  0.03735634, -0.13008429, -0.01660951,  1.21876815, -0.08396157, -0.06122478],\n",
    "                       [-0.02461725,  0.09293059,  0.05051076, -0.0252064 , -0.10317063, -0.0403706 , -0.08396157,  1.27702921,  0.05919603],\n",
    "                       [-0.00884831,  0.07818916, -0.06765619, -0.09095963,  0.07007971,  0.06972046, -0.06122478,  0.05919603,  1.24089818]])\n",
    "\n",
    "non_clustered_H = np.array([[ 2.92585425e+00,  4.36120408e-01,  1.39704153e-01, -5.39244412e-01,  5.18248845e-01, -6.34121451e-01, 1.98142174e-01, -4.20478870e-02, -1.18921648e-01],\n",
    "                            [ 4.36120408e-01,  2.28085749e+00, -1.56904426e-01, 4.81871805e-01,  2.86155420e-01,  1.30756625e-01, -5.09600144e-04,  3.69023383e-01,  3.43338032e-01],\n",
    "                            [ 1.39704153e-01, -1.56904426e-01,  2.32351346e+00, -1.47939089e-01,  9.56376525e-02, -4.49014734e-01, -2.93651592e-01,  2.53272741e-01, -2.36265947e-01],\n",
    "                            [-5.39244412e-01,  4.81871805e-01, -1.47939089e-01, 3.21728437e+00, -2.20068555e-01, -2.43561629e-03, 2.30780070e-01, -1.24244538e-01, -3.88387060e-01],\n",
    "                            [ 5.18248845e-01,  2.86155420e-01,  9.56376525e-02, -2.20068555e-01,  2.22938001e+00,  6.33216342e-01, -6.73156565e-01, -3.50629023e-01,  4.91740275e-01],\n",
    "                            [-6.34121451e-01,  1.30756625e-01, -4.49014734e-01, -2.43561629e-03,  6.33216342e-01,  2.27686947e+00, -7.47954221e-02, -4.78484345e-02,  1.85484789e-01],\n",
    "                            [ 1.98142174e-01, -5.09600144e-04, -2.93651592e-01, 2.30780070e-01, -6.73156565e-01, -7.47954221e-02, 1.96110872e+00, -4.33962850e-01, -3.84164030e-01],\n",
    "                            [-4.20478870e-02,  3.69023383e-01,  2.53272741e-01, -1.24244538e-01, -3.50629023e-01, -4.78484345e-02, -4.33962850e-01,  2.06571431e+00,  8.60087911e-03],\n",
    "                            [-1.18921648e-01,  3.43338032e-01, -2.36265947e-01, -3.88387060e-01,  4.91740275e-01,  1.85484789e-01, -3.84164030e-01,  8.60087911e-03,  2.31941793e+00]])\n",
    "\n",
    "initial_point = np.zeros((9,1))\n",
    "\n",
    "# Setting the value of b such that the optimal points x* is the same for both cases\n",
    "b_clustered = np.array([[1],[3],[4],[5],[6],[2],[9],[8],[7]])\n",
    "b_non_clustered = np.array([[ 2.97096766],[10.69015604],[ 5.5811995 ],[ 9.46025185],[ 7.61789955],[ 4.95850308],[ 8.39644356],[ 9.40582796],[11.03959373]])\n",
    "\n",
    "optimal_solution_clustered = np.linalg.solve(clustered_H,b_clustered)\n",
    "optimal_solution_non_clustered = np.linalg.solve(non_clustered_H,b_non_clustered)\n"
   ]
  },
  {
   "cell_type": "code",
   "execution_count": null,
   "metadata": {},
   "outputs": [],
   "source": [
    "# Determine the eigen values of the Hessian Matrices defined.\n",
    "eig_val_cl , eig_vec_cl = np.linalg.eig(clustered_H)\n",
    "eig_val_ncl, eig_vec_ncl = np.linalg.eig(non_clustered_H)\n",
    "eig_val_cl[::-1].sort()\n",
    "eig_val_ncl[::-1].sort()"
   ]
  },
  {
   "cell_type": "code",
   "execution_count": null,
   "metadata": {},
   "outputs": [],
   "source": [
    "# Showing the Distribution of Eigen Values\n",
    "indices = np.arange(1,clustered_H.shape[0]+1,dtype=np.int64)\n",
    "plt.plot(indices,eig_val_cl,label=\"Clustered\")\n",
    "plt.plot(indices,eig_val_ncl,label=\"Non-Clustered\")\n",
    "plt.legend(loc='upper right')\n",
    "plt.xlabel('Eigen Value Index')\n",
    "plt.ylabel('Eigen Value')\n",
    "plt.show()"
   ]
  },
  {
   "cell_type": "code",
   "execution_count": null,
   "metadata": {},
   "outputs": [],
   "source": [
    "# Obtain the solutions from the Conjugate Desecent method\n",
    "\n",
    "it_cl,ans_cl,iterates_cl = conjugate_gradient(clustered_H,b_clustered,initial_point)\n",
    "it_ncl,ans_ncl,iterates_ncl = conjugate_gradient(non_clustered_H,b_non_clustered,initial_point)\n",
    "\n",
    "print(\"Iterations taken to converge (Clustered Hessian) = \" + str(it_cl))\n",
    "print(\"Iterations taken to converge (Non-Clustered Hessian) = \" + str(it_ncl))"
   ]
  },
  {
   "cell_type": "code",
   "execution_count": null,
   "metadata": {},
   "outputs": [],
   "source": [
    "distance_to_optima_cl = []\n",
    "distance_to_optima_ncl = []\n",
    "\n",
    "for i in range(len(iterates_cl)):\n",
    "    distance_to_optima_cl.append(np.linalg.norm(iterates_cl[i]- optimal_solution_clustered))\n",
    "\n",
    "for i in range(len(iterates_ncl)):\n",
    "    distance_to_optima_ncl.append(np.linalg.norm(iterates_ncl[i]-optimal_solution_non_clustered))\n",
    "\n",
    "indices_1 = np.arange(len(distance_to_optima_cl))\n",
    "plt.plot(indices_1,distance_to_optima_cl,label='Clustered Eigen Values')\n",
    "indices_2 = np.arange(len(distance_to_optima_ncl))\n",
    "plt.plot(indices_2,distance_to_optima_ncl,label='Non-Clustered Eigen Values')\n",
    "\n",
    "plt.xlabel(\"Iterations\")\n",
    "plt.ylabel(\"|| x - x* ||\")\n",
    "plt.legend(loc='upper right')\n",
    "plt.show()"
   ]
  },
  {
   "cell_type": "markdown",
   "metadata": {},
   "source": [
    "\n",
    "### Iterations\n",
    "\n",
    "| Eigen Value Distribution \t|  Iterations \t|\n",
    "|---\t|---\t|\n",
    "|  Clustered Eigen Values Hessian \t|   4\t| \n",
    "|  Non-Clustered Eigen Values Hessian \t|   8\t|   \t"
   ]
  },
  {
   "cell_type": "markdown",
   "metadata": {},
   "source": [
    "From the plot above above we see\n",
    "- The convergence when  H has Non-Clustered Eigen Values is slower compared to the case eigen values are Clustered.\n",
    "\n",
    "- We could see a case of steep decrease in the error plot when H has Clustered Eigen Values, The decrease in error with iterations is much uniform in the Non-Clustered Case."
   ]
  },
  {
   "cell_type": "markdown",
   "metadata": {},
   "source": []
  },
  {
   "cell_type": "markdown",
   "metadata": {},
   "source": [
    "-------\n",
    "### Question 2\n",
    "\n",
    " Your start-up will face the cash requirements shown in Table 1 in the next eight quarters(positive entries represent cash needs while negative entries represent cash surpluses).The company has three borrowing possibilities.\n",
    "\n",
    "|   Q1\t|   Q2\t|  Q3 \t|   Q4\t|   Q5\t| Q6  | Q7 | Q8 |  \n",
    "|---\t|---\t|---\t|---\t|---\t|---  |--- |--- |\n",
    "|   100\t|   500\t|  100 \t|  -600 \t|  -500 \t|  200  | 600   | -900   |\n",
    "\n",
    "- a 2-year loan available at the beginning of Q1, with a 1% interest per quarter.\n",
    "- The other two borrowing opportunities are available at the beginning of every quarter: a 6-monthloan with a 1.8% interest per quarter, and a quarterly loan with a 2.5% interest for the quarter.\n",
    "\n",
    "a)  Write a program that implements the revised simplex algorithm.\n"
   ]
  },
  {
   "cell_type": "code",
   "execution_count": null,
   "metadata": {},
   "outputs": [],
   "source": [
    "import numpy as np\n",
    "def revised_simplex_method(A,b,c,b_vars,nb_vars):\n",
    "\n",
    "    final_ans = np.zeros((len(b_vars)+len(nb_vars),))\n",
    "    iterations = 0\n",
    "    while True:\n",
    "        \n",
    "        print(\"Basic Variables bef =\" + str(b_vars))\n",
    "        print(\"Non Basic Variables bef = \" + str(nb_vars))\n",
    "\n",
    "        B = A[:,b_vars]\n",
    "        N = A[:,nb_vars]\n",
    "        c_B = c[b_vars,:]\n",
    "        c_N = c[nb_vars,:]\n",
    "\n",
    "        print(B.shape)\n",
    "        print(b.shape)\n",
    "        x_B = np.linalg.solve(B,b)\n",
    "        lambda_ = np.linalg.solve(B.T,c_B)\n",
    "        s_N =c_N - np.matmul(N.T,lambda_)\n",
    "\n",
    "        print(\"x_B = \" + str(x_B) )\n",
    "        print(\"lambda = \" + str(lambda_))\n",
    "        print(\"s_N = \" + str(s_N))\n",
    "\n",
    "        if np.all(s_N>=0) :\n",
    "            final_ans[b_vars] = x_B.squeeze(1)\n",
    "            return True,final_ans\n",
    "\n",
    "        q = int(np.argmin(s_N,axis=0))\n",
    "        A_q = np.expand_dims(A[:,nb_vars[q]],axis=1)\n",
    "        d = np.linalg.solve(B,A_q)\n",
    "\n",
    "        print(\"q = \" + str(q))\n",
    "        print(\"d = \" + str(d))\n",
    "\n",
    "        if np.all(d<=0):\n",
    "            print(\"Feasible Region Unbounded\")\n",
    "            return False,np.zeros((len(b_vars)+len(nb_vars),)) \n",
    "\n",
    "        x_q = np.inf\n",
    "        p = x_B.shape[0]\n",
    "        d_positive = d>0\n",
    "        for i in range(x_B.shape[0]):\n",
    "            if d_positive[i,0]:\n",
    "                ratio = x_B[i,0] / d[i,0]\n",
    "                if ratio < x_q:\n",
    "                    x_q = ratio\n",
    "                    p = i\n",
    "        \n",
    "        tmp = b_vars[p]\n",
    "        b_vars[p] = nb_vars[q]\n",
    "        nb_vars[q] = tmp\n",
    "\n",
    "        b_vars.sort()\n",
    "        nb_vars.sort()\n",
    "\n",
    "        print(\"Basic Variables = \" + str(b_vars))\n",
    "        print(\"Non Basic Variables = \" + str(nb_vars))\n",
    "        print(\"---------\")\n",
    "\n"
   ]
  },
  {
   "cell_type": "code",
   "execution_count": null,
   "metadata": {},
   "outputs": [],
   "source": [
    "def find_initial_point(A,b,c):\n",
    "    \n",
    "    e = np.zeros((A.shape[1]+A.shape[0],1))\n",
    "    e[A.shape[1]:,:] = 1\n",
    "    print(e)\n",
    "    A_new = np.zeros((A.shape[0],A.shape[1]+A.shape[0]))\n",
    "    A_new[:A.shape[0],:A.shape[1]] = A.copy()\n",
    "\n",
    "    for i in range(b.shape[0]):\n",
    "        if b[i,0] < 0:\n",
    "            A_new[i,A.shape[1]+i] = -1\n",
    "        else:\n",
    "            A_new[i,A.shape[1]+i] = 1\n",
    "    print(A_new)\n",
    "    \n",
    "    b_vars = [ i for i in range(A.shape[1],A.shape[1]+A.shape[0]) ]\n",
    "    nb_vars = [ i for i in range(A.shape[1])]\n",
    "    flag,solution = revised_simplex_method(A_new,b,e,b_vars,nb_vars)\n",
    "    return flag,solution\n",
    "    \n",
    "    "
   ]
  },
  {
   "cell_type": "code",
   "execution_count": null,
   "metadata": {},
   "outputs": [],
   "source": [
    "'''A = np.array([[1,1,1,0],[2,0.5,0,1]])\n",
    "b = np.array([[5],[8]])\n",
    "c = np.array([[-4],[-2],[0],[0]])'''\n",
    "\n",
    "'''A = np.array([[10,20,1,0],[8,8,0,1]])\n",
    "b = np.array([[120],[80]])\n",
    "c = np.array([[-12],[-16],[0],[0]])'''\n",
    "'''\n",
    "A = np.array([[1,1,-1,0,0],[1,-1,0,1,0],[3,1,0,0,1]])\n",
    "b = np.array([[1],[0],[6]])\n",
    "c = np.array([[-2],[-1],[0],[0],[0]])'''\n",
    "'''A = np.array([[2,1,1,0],[1,2,0,1]],dtype=np.float32)\n",
    "b = np.array([[12],[9]],dtype=np.float32)\n",
    "c = np.array([[-1],[-1],[0],[0]],dtype=np.float32)'''\n",
    "'''A = np.array([[-3,2,1,1],[-2,1,1,3]],dtype=np.int64)\n",
    "b = np.array([[7],[1]],dtype=np.int64)\n",
    "c = np.array([[1],[1],[-1],[-1]],dtype=np.int64)'''\n",
    " \n",
    "'''A = np.array([[2,1,1,1],[1,-1,-1,1]])\n",
    "b = np.array([[2],[-1]])\n",
    "c = np.array([[3],[1],[1],[0],[0]])'''\n",
    "\n",
    "'''A = np.array([[1,1,-1,0,0],[2,-1,0,1,0],[0,1,0,0,1]])\n",
    "b = np.array([[1],[1],[2.0/3]])\n",
    "c = np.array([[6],[3],[0],[0],[0]])\n",
    "'''\n",
    "'''flag,point = get_initial_point(A,b,c)\n",
    "if flag == False:\n",
    "    print(\"Could not Find an Initial Feasible Point. No solution for the LPP problem\")\n",
    "else:\n",
    "    b_vars =[]\n",
    "    nb_vars = []\n",
    "\n",
    "    for i in range(point.shape[0]- A.shape[0]):\n",
    "        if point[i]==True:\n",
    "            nb_vars.append(i)\n",
    "        else:\n",
    "            b_vars.append(i)\n",
    "\n",
    "    ans = revised_simplex(A,b,c,b_vars,nb_vars)\n",
    "    print(ans)'''\n",
    "\n",
    "'''A = np.array([[1,1,1,-1,0,0],[1,-2,0,0,-1,0],[0,0,1,0,0,-1]])\n",
    "b = np.array([[1000],[0],[340]])\n",
    "c = np.array([[10],[15],[25],[0],[0],[0]])'''\n",
    "\n",
    "'''A = np.array([[4,3,1,0],[2,1,0,1]])\n",
    "b = np.array([[240],[100]])\n",
    "c = np.array([[7],[5],[0],[0]])'''\n",
    "'''\n",
    "b_vars = [2,3]\n",
    "nb_vars = [0,1]\n",
    "'''\n",
    "\n",
    "'''A = np.array([[1,1,1,0],[2,1,0,1]])\n",
    "b = np.array([[12],[16]])\n",
    "c = np.array([[-40],[-30],[0],[0]])'''\n",
    "\n",
    "\n",
    "A = np.array([ [ 2, 3, 0],[0, 2, 5],[3, 2, 4] ])\n",
    "\n",
    "b = np.array([[8],[10],[15]])\n",
    "c = np.array([[-3],[-5],[-4]])\n",
    "\n",
    "flag,initial_solution = find_initial_point(A,b,c)\n",
    "if (not np.all(np.isclose(initial_solution[A.shape[1]:],np.zeros((A.shape[0],)))))or(not flag):\n",
    "    print(\"No Initial Feasible Solution; Solution doesnt exist\")\n",
    "else:\n",
    "    b_vars = []\n",
    "    nb_vars = []\n",
    "\n",
    "\n",
    "    for i in range(A.shape[1]):\n",
    "        if initial_solution[i] == 0.0:\n",
    "            nb_vars.append(i)\n",
    "        else:\n",
    "            b_vars.append(i)\n",
    "    print(\"#############\")\n",
    "    flag,ans = revised_simplex_method(A,b,c,b_vars,nb_vars)\n",
    "    if flag:\n",
    "       print(ans) \n",
    "\n",
    "#ans = revised_simplex_method(A,b,c,b_vars,nb_vars)\n",
    "#print(ans)\n"
   ]
  },
  {
   "cell_type": "markdown",
   "metadata": {},
   "source": [
    "b) Solve the above LP using your program and report the final results."
   ]
  },
  {
   "cell_type": "code",
   "execution_count": null,
   "metadata": {},
   "outputs": [],
   "source": []
  },
  {
   "cell_type": "markdown",
   "metadata": {},
   "source": [
    "c)   Use  PuLP  and  scipy.optimize.linprog  to  verify  your  answer.   Change  the  optimization algorithm  used  by  the  solver  -  try  interior  point,  revised-simplex  and  dual-simplex.   Comment  on findings."
   ]
  },
  {
   "cell_type": "markdown",
   "metadata": {},
   "source": [
    "#### PULP"
   ]
  },
  {
   "cell_type": "code",
   "execution_count": null,
   "metadata": {},
   "outputs": [],
   "source": [
    "from pulp import *\n",
    "\n",
    "model = LpProblem(\"FurnitureProblem\", LpMaximize)\n",
    "\n",
    "x1 = LpVariable(\"tables\", 0, None, LpInteger)\n",
    "x2 = LpVariable(\"chairs\", 0, None, LpInteger) \n",
    "x3 = LpVariable(\"bookcases\", 0, None, LpInteger)"
   ]
  },
  {
   "cell_type": "code",
   "execution_count": null,
   "metadata": {},
   "outputs": [],
   "source": [
    "model += 40 * x1 + 30 * x2 + 45 * x3 \n",
    "model += 2 * x1 + 1 * x2 + 2.5 * x3 <= 60, \"Labour\"\n",
    "model += 0.8 * x1 + 0.6 * x2 + 1.0 * x3 <= 16, \"Machine\"\n",
    "model += 30 * x1 + 20 * x2 + 30 * x3 <= 400, \"wood\"\n",
    "model += x1 >= 10, \"tables\""
   ]
  },
  {
   "cell_type": "code",
   "execution_count": null,
   "metadata": {},
   "outputs": [],
   "source": [
    "# The problem is solved using PuLP's choice of Solver\n",
    "model.solve()\n",
    "\n",
    "# Each of the variables is printed with it's resolved optimum value\n",
    "for v in model.variables():\n",
    "    print(v.name, \"=\", v.varValue)"
   ]
  },
  {
   "cell_type": "markdown",
   "metadata": {},
   "source": [
    "### scipy.optimize"
   ]
  },
  {
   "cell_type": "code",
   "execution_count": null,
   "metadata": {},
   "outputs": [],
   "source": [
    "from scipy.optimize import linprog\n",
    "\n",
    "c = np.array([2,1])\n",
    "A_ub = np.array([[-1,1],[-1,-1],[1,-2]])\n",
    "b_ub = np.array([1,-2,4])\n",
    "bounds = (0,None)\n",
    "method = 'revised simplex'\n",
    "ans = linprog(c,A_ub,b_ub,bounds=bounds,method=method)\n"
   ]
  },
  {
   "cell_type": "code",
   "execution_count": null,
   "metadata": {},
   "outputs": [],
   "source": [
    "ans"
   ]
  },
  {
   "cell_type": "markdown",
   "metadata": {},
   "source": [
    "------\n",
    "### Question 3\n",
    "\n",
    "a) Consider the problem\n",
    "\n",
    "$$\n",
    "min \\text{  } x_{1}^{2}+ 2x_{2}^{2} − 2x_{1}−6x_{2}−2x_{1}x_{2},\n",
    "$$\n",
    "\n",
    "such that\n",
    "$$\n",
    "x_{1} + x_{2} \\le 2\n",
    "$$\n",
    "$$\n",
    "-x_{1} + 2x_{2} \\le 2\n",
    "\n",
    "$$\n",
    "\n",
    "$$\n",
    "x_{1},x_{2} >= 0 \n",
    "$$\n",
    "\n",
    "Solve geometrically (Plot the geometry and solution points to visualize)"
   ]
  },
  {
   "cell_type": "code",
   "execution_count": 1,
   "metadata": {},
   "outputs": [
    {
     "data": {
      "image/png": "[encoded data removed]",
      "text/plain": [
       "<Figure size 432x288 with 1 Axes>"
      ]
     },
     "metadata": {
      "needs_background": "light"
     },
     "output_type": "display_data"
    }
   ],
   "source": [
    "import matplotlib.pyplot as plt\n",
    "import numpy as np\n",
    "\n",
    "UPPER_LIMIT = 3\n",
    "CONTOUR_LEVELS = 48\n",
    "d = np.linspace(0,UPPER_LIMIT,1000)\n",
    "x1,x2 = np.meshgrid(d,d)\n",
    "\n",
    "# Show the Feasible Region\n",
    "plt.imshow( (( (x1 + x2) <= 2) & ((-x1 + 2*x2) <= 2) & (x1>=0) & (x2>=0) ).astype(int) , \n",
    "                extent=(x1.min(),x2.max(),x2.min(),x2.max()),origin=\"lower\", cmap=\"Greys\", alpha = 0.3)\n",
    "\n",
    "# Plot lines for the feasible region boundary\n",
    "x1_ = np.linspace(0,UPPER_LIMIT,500)\n",
    "x2_1 = 2 - x1_ \n",
    "x2_2 = (2 + x1_)/2\n",
    "\n",
    "# Objective Function\n",
    "z = x1**2 + 2*(x2**2) - 2*x1 - 6*x2 - 2*x1*x2 \n",
    "\n",
    "cs = plt.contour(x1,x2,z,levels=CONTOUR_LEVELS)\n",
    "plt.plot(x1_,x2_1, label=r'$x1+x2\\leq2$')\n",
    "plt.plot(x1_,x2_2, label=r'$-x1+2x2\\leq2$')\n",
    "plt.clabel(cs,inline=True, fontsize='smaller')\n",
    "plt.xlim(0,UPPER_LIMIT)\n",
    "plt.ylim(0,UPPER_LIMIT)\n",
    "\n",
    "plt.show()"
   ]
  },
  {
   "cell_type": "markdown",
   "metadata": {},
   "source": [
    "- The function value increases as one moves away from $(5,4)$ which is the global minimum (Objective Function value = -17).\n",
    "- The contour line corresponding to the objective function value $-7.2$ just touches the boundary of the feasible region.\n",
    "\n",
    "- The contour line interesects the boundary line whose equation is $x_1 + x_2 = 2$\n",
    "\n",
    "- Solving by pen and paper by substituting $x_2 = 2 - x_1$ in \n",
    "$$ \n",
    "    x_{1}^{2}+ 2x_{2}^{2} − 2x_{1}−6x_{2}−2x_{1}x_{2} = -7.2\n",
    "$$\n",
    "\n",
    "we get \n",
    "$$\n",
    "x_1 = 0.8\n",
    "$$\n",
    "and \n",
    "$$\n",
    "x_2 = 1.2\n",
    "$$\n",
    "\n",
    "which is the solution to the quadractic program"
   ]
  },
  {
   "cell_type": "markdown",
   "metadata": {},
   "source": [
    "b) Implement the active set method for quadratic programs (Algo 16.3 in Nocedal and Wright(2006))."
   ]
  },
  {
   "cell_type": "code",
   "execution_count": 2,
   "metadata": {},
   "outputs": [],
   "source": [
    "\n",
    "# Function for formulating the KKT System of Equations\n",
    "def create_KKT_Matrix(G,A_ne,b_ne,c,active_indices,point):\n",
    "    \n",
    "    #  Form the matrix [[G A^T],[A 0]]\n",
    "    KKT_matrix = np.zeros((G.shape[0]+len(active_indices),G.shape[1]+len(active_indices)))\n",
    "    KKT_matrix[:G.shape[0],:G.shape[1]] = G.copy()\n",
    "    KKT_matrix[:G.shape[0],G.shape[1]:] = A_ne[active_indices].T\n",
    "    KKT_matrix[G.shape[0]:,:G.shape[1]] = A_ne[active_indices]\n",
    "    \n",
    "    # Form the vector [ [Gx + c], [Ax - b] ]\n",
    "    rhs = np.zeros((c.shape[0]+b_ne[active_indices].shape[0],1))\n",
    "    \n",
    "    Gx_plus_c = np.matmul(G,point) + c\n",
    "    Ax_minus_b  = np.matmul(A_ne[active_indices],point) - b_ne[active_indices]\n",
    "    rhs[:c.shape[0],:] = Gx_plus_c\n",
    "    rhs[c.shape[0]:,:] = Ax_minus_b\n",
    "\n",
    "\n",
    "    return KKT_matrix,rhs\n",
    "\n",
    "# Funtion for calculating the step length to take when\n",
    "# moving from one point to the next.\n",
    "def compute_step_length(p,A_ne,b_ne,active_indices,current_point):\n",
    "    step_length = 1.0\n",
    "    \n",
    "    for i in range(A_ne.shape[0]):\n",
    "        if i not in active_indices:\n",
    "            # Calculate only for the ith inequality which satisfied a_i^T p_k < 0\n",
    "            if (np.all(np.matmul(A_ne[i,:],p) < 0)):\n",
    "                \n",
    "                # Step length using the formula in Nocedal Wright\n",
    "                numerator = b_ne[i,0] - np.matmul(A_ne[i,:],current_point)\n",
    "                denominator = np.matmul(A_ne[i,:],p)\n",
    "                #print(\"Numerator = \" + str(numerator))\n",
    "                #print(\"Denominator = \" + str(denominator))\n",
    "                step = float(numerator/denominator)\n",
    "                step_length = min(step,step_length)\n",
    "    \n",
    "    return step_length\n",
    "\n",
    "\n",
    "def active_set_method(G,c,A_ne,b_ne,initial_point):\n",
    "\n",
    "    #  A_ne , b_ne , H , initial_point\n",
    "    current_point = initial_point.copy()\n",
    "    reached_new_point = True\n",
    "    active_indices = []\n",
    "    #print(active_indices)\n",
    "    iterations = 0\n",
    "    \n",
    "    while True:\n",
    "        if reached_new_point:\n",
    "           \n",
    "            # Determining the constraints which are active at the current point reached\n",
    "            Ax =  np.matmul(A_ne,current_point)\n",
    "            Ax_diff = (Ax - b_ne).squeeze(1)\n",
    "            active_indices = np.where(Ax_diff==0)[0].tolist()\n",
    "        \n",
    "        # Formulate the KKT System of Equations and solve it\n",
    "        mat = create_KKT_Matrix(G,A_ne,b_ne,c,active_indices,current_point)\n",
    "        sol_vector = np.linalg.solve(mat[0],mat[1])\n",
    "        \n",
    "        #print(sol_vector)\n",
    "        \n",
    "        # Get the direction to move and the value of Lagrange Multipliers\n",
    "        p = sol_vector[:G.shape[0],:]\n",
    "        lambda_ = sol_vector[G.shape[0]:,:]\n",
    "    \n",
    "        #print(\"current_point = \" + str(current_point))\n",
    "        #print(\"increment = \" + str(p))\n",
    "        #print(\"lambda = \" + str(lambda_))\n",
    "        \n",
    "        # If p = 0\n",
    "        if ( np.all(np.isclose(p,np.zeros((p.shape[0],p.shape[1]))))):\n",
    "            \n",
    "            reached_new_point=False\n",
    "            if np.all(lambda_>=0):\n",
    "                # If the value of all Lagrange Multipliers are positive we got a solution \n",
    "                return iterations,current_point\n",
    "            else:\n",
    "                # Remove an active constraint from the working set\n",
    "                rm_constraint_idx = int(np.argmin(lambda_,axis=0))\n",
    "                del active_indices[rm_constraint_idx]\n",
    "                active_indices\n",
    "        else:\n",
    "            # Compute the step length to take along p\n",
    "            alpha = compute_step_length(-p,A_ne,b_ne,active_indices,current_point)  \n",
    "            #print(\"Alpha value =\" + str(alpha) )\n",
    "  \n",
    "            new_point = current_point + alpha*(-p)\n",
    "            current_point = new_point\n",
    "            reached_new_point=True\n",
    "        \n",
    "        #print(\"----------\")\n",
    "        iterations+=1\n"
   ]
  },
  {
   "cell_type": "code",
   "execution_count": 3,
   "metadata": {},
   "outputs": [
    {
     "name": "stdout",
     "output_type": "stream",
     "text": [
      "Iterations taken to converge Initial_point = [[0], [0]]] = 6\n",
      "Solution Returned by the Active Set Method [Initial_point =  [[0], [0]]]\n",
      "[[0.8]\n",
      " [1.2]]\n",
      "-------------------------------\n",
      "Iterations taken to converge Initial_point = [[0.2], [1.1]]] = 3\n",
      "Solution Returned by the Active Set Method [Initial_point =  [[0.2], [1.1]]]\n",
      "[[0.8]\n",
      " [1.2]]\n",
      "-------------------------------\n",
      "Iterations taken to converge Initial_point = [[0.6], [0.7]]] = 3\n",
      "Solution Returned by the Active Set Method [Initial_point =  [[0.6], [0.7]]]\n",
      "[[0.8]\n",
      " [1.2]]\n"
     ]
    }
   ],
   "source": [
    "G = np.array([[2,-2],[-2,4]])\n",
    "c = np.array([[-2],[-6]])\n",
    "A_ne = np.array([[-1,-1],[1,-2],[1.0,0.0],[0.0,1.0]])  #Convert constraints to the form in Nocedal Wright\n",
    "b_ne = np.array([[-2],[-2],[0],[0]])\n",
    "\n",
    "\n",
    "initial_point_vertex = np.array([[0],[0]])       # Vertex point \n",
    "initial_point_edge = np.array([[0.2],[1.1]])     # Point on the edge of the boundary\n",
    "initial_point_interior = np.array([[0.6],[0.7]]) # Point on the interior of the Feasible Region\n",
    "\n",
    "\n",
    "it, sol = active_set_method(G,c,A_ne,b_ne,initial_point_vertex)\n",
    "print(\"Iterations taken to converge Initial_point = \" + str(initial_point_vertex.tolist()) + \"] = \" + str(it))\n",
    "print(\"Solution Returned by the Active Set Method [Initial_point =  \" + str(initial_point_vertex.tolist()) + \"]\" )\n",
    "print(str(sol))\n",
    "\n",
    "\n",
    "print(\"-------------------------------\")\n",
    "it, sol = active_set_method(G,c,A_ne,b_ne,initial_point_edge)\n",
    "print(\"Iterations taken to converge Initial_point = \" + str(initial_point_edge.tolist()) + \"] = \" + str(it))\n",
    "print(\"Solution Returned by the Active Set Method [Initial_point =  \" + str(initial_point_edge.tolist()) + \"]\" )\n",
    "print(str(sol))\n",
    "print(\"-------------------------------\")\n",
    "\n",
    "it, sol = active_set_method(G,c,A_ne,b_ne,initial_point_interior)\n",
    "print(\"Iterations taken to converge Initial_point = \" + str(initial_point_interior.tolist()) + \"] = \" + str(it))\n",
    "print(\"Solution Returned by the Active Set Method [Initial_point =  \" + str(initial_point_interior.tolist()) + \"]\" )\n",
    "print(str(sol))"
   ]
  },
  {
   "cell_type": "markdown",
   "metadata": {},
   "source": [
    "c) Choose  three  initial  starting  points:  \n",
    "- one  in  the  interior  of  the  feasible  region\n",
    "- one  at the vertex \n",
    "- one at a non-vertex point on the boundary of the feasible region.\n",
    "\n",
    "Comment on the convergence properties"
   ]
  },
  {
   "cell_type": "markdown",
   "metadata": {},
   "source": [
    "#### Interior of the Feasible Region"
   ]
  },
  {
   "cell_type": "markdown",
   "metadata": {},
   "source": [
    "Taking several initial_points in the interior and averaging the number of iterations taken to converge"
   ]
  },
  {
   "cell_type": "code",
   "execution_count": 4,
   "metadata": {},
   "outputs": [
    {
     "name": "stdout",
     "output_type": "stream",
     "text": [
      "Average Number of Iterations taken to converge (Interior Initial Points) = 2.7142857142857144\n"
     ]
    }
   ],
   "source": [
    "interior_points_chosen = [\n",
    "    np.array([[0.5],[0.5]]),\n",
    "    np.array([[0.667],[0.1]]),    \n",
    "    np.array([[0.4],[0.1]]),    \n",
    "    np.array([[0.1],[0.1]]),\n",
    "    np.array([[0.7],[0.8]]),\n",
    "    np.array([[0.9],[0.3]]),\n",
    "    np.array([[0.6],[0.7]]), \n",
    "]\n",
    "\n",
    "it_avg = 0\n",
    "\n",
    "for i in range(len(interior_points_chosen)):\n",
    "    it,sol = active_set_method(G,c,A_ne,b_ne,interior_points_chosen[i])\n",
    "    it_avg+=it\n",
    "print(\"Average Number of Iterations taken to converge (Interior Initial Points) = \" + str(it_avg/len(interior_points_chosen)))"
   ]
  },
  {
   "cell_type": "markdown",
   "metadata": {},
   "source": [
    "#### Vertex of the Feasible Region\n",
    "\n",
    "Considering all the vertices and averaging the number of iterations taken to converge"
   ]
  },
  {
   "cell_type": "code",
   "execution_count": 5,
   "metadata": {},
   "outputs": [
    {
     "name": "stdout",
     "output_type": "stream",
     "text": [
      "Average Number of Iterations taken to converge (Vertices) = 4.0\n"
     ]
    }
   ],
   "source": [
    "vertices_chosen = [\n",
    "    np.array([[0],[0]]),\n",
    "    np.array([[0.667],[0.333]]),    \n",
    "    np.array([[0],[1]]),    \n",
    "    np.array([[2],[0]]),\n",
    "]\n",
    "\n",
    "it_avg = 0\n",
    "\n",
    "for i in range(len(vertices_chosen)):\n",
    "    it,sol = active_set_method(G,c,A_ne,b_ne,vertices_chosen[i])\n",
    "    it_avg+=it\n",
    "\n",
    "print(\"Average Number of Iterations taken to converge (Vertices) = \" + str(it_avg/len(vertices_chosen)))\n",
    "\n"
   ]
  },
  {
   "cell_type": "markdown",
   "metadata": {},
   "source": [
    "#### NonVertex Point on the boundary of the Feasible Region\n",
    "\n",
    "Taking several initial_points in the interior and averaging the number of iterations taken to converge"
   ]
  },
  {
   "cell_type": "code",
   "execution_count": 6,
   "metadata": {},
   "outputs": [
    {
     "name": "stdout",
     "output_type": "stream",
     "text": [
      "Average Number of Iterations taken to converge (Vertices) = 3.75\n"
     ]
    }
   ],
   "source": [
    "edge_vertices_chosen = [\n",
    "    np.array([[0],[0.7]]),\n",
    "    np.array([[0],[0.3]]),\n",
    "    np.array([[0.5],[1.25]]),\n",
    "    np.array([[0.3],[1.15]]),\n",
    "    np.array([[1],[1]]),\n",
    "    np.array([[1.4],[0.6]]),\n",
    "    np.array([[1.5],[0]]),\n",
    "    np.array([[0.3],[0]]),    \n",
    "   \n",
    "]\n",
    "\n",
    "it_avg = 0\n",
    "\n",
    "for i in range(len(edge_vertices_chosen)):\n",
    "    it,sol = active_set_method(G,c,A_ne,b_ne,edge_vertices_chosen[i])\n",
    "    it_avg+=it\n",
    "\n",
    "print(\"Average Number of Iterations taken to converge (Vertices) = \" + str(it_avg/len(edge_vertices_chosen)))"
   ]
  },
  {
   "cell_type": "markdown",
   "metadata": {},
   "source": [
    "\n",
    "### Iterations\n",
    "\n",
    "| Nature of Initial Point \t|  Iterations(Averaged)\t|\n",
    "|---\t|---\t|\n",
    "|  Interior of Feasible Region \t|   2.71\t| \n",
    "|  Vertex of Feasible Region \t|   4.0\t|   \t\n",
    "|  NonVertex on Feasible Region Boundary \t|   3.75\t|   \n",
    "\n"
   ]
  },
  {
   "cell_type": "markdown",
   "metadata": {},
   "source": [
    "- The Average number of iterations taken to converge is the largest when the initial point is a vertex followed by a point on edge and an interior point.\n",
    "\n",
    "- The Behaviour could be explained due to size of the active set at each point, we might need to drop some constraints from the active set which accounts for the extra iterations taken.\n",
    "\n",
    "- The size of the active set is 2 for a vertex, 1 for a point on edge and 0 for an interior point."
   ]
  },
  {
   "cell_type": "markdown",
   "metadata": {},
   "source": [
    "d) Use CVXOPT and solve the above QP. What algorithm does CVXOPT use to solve QP? Understand and comment on your findings."
   ]
  },
  {
   "cell_type": "code",
   "execution_count": 12,
   "metadata": {},
   "outputs": [
    {
     "name": "stdout",
     "output_type": "stream",
     "text": [
      "     pcost       dcost       gap    pres   dres\n",
      " 0: -9.7394e+00 -9.9108e+00  2e+01  1e+00  9e-01\n",
      " 1: -6.8303e+00 -8.8469e+00  2e+00  1e-16  3e-16\n",
      " 2: -7.1760e+00 -7.3253e+00  1e-01  1e-16  2e-16\n",
      " 3: -7.1998e+00 -7.2072e+00  7e-03  1e-16  2e-15\n",
      " 4: -7.2000e+00 -7.2001e+00  9e-05  1e-16  7e-15\n",
      " 5: -7.2000e+00 -7.2000e+00  9e-07  2e-16  1e-14\n",
      "Optimal solution found.\n"
     ]
    }
   ],
   "source": [
    "from cvxopt import matrix, solvers\n",
    "\n",
    "P_list =  np.array([[2.0,-2.0],[-2.0,4.0]])\n",
    "q_list = np.array([-2.0,-6.0])\n",
    "g_list = np.array([[-1.0,0.0],[0.0,-1.0],[1.0,1.0],[-1.0,2.0]])\n",
    "h_list = np.array([[0.0],[0.0],[2.0],[2.0]])\n",
    "\n",
    "\n",
    "P = matrix(P_list)\n",
    "q = matrix(q_list)\n",
    "g = matrix(g_list)\n",
    "h = matrix(h_list)\n",
    "solution = solvers.qp(P,q,g,h)"
   ]
  },
  {
   "cell_type": "code",
   "execution_count": 13,
   "metadata": {},
   "outputs": [
    {
     "name": "stdout",
     "output_type": "stream",
     "text": [
      "Solution Returned by the CVXOPT Solver\n",
      "[ 8.00e-01]\n",
      "[ 1.20e+00]\n",
      "\n"
     ]
    }
   ],
   "source": [
    "print(\"Solution Returned by the CVXOPT Solver\")\n",
    "print(str(solution['x']))"
   ]
  },
  {
   "cell_type": "markdown",
   "metadata": {},
   "source": []
  }
 ],
 "metadata": {
  "kernelspec": {
   "display_name": "Python 3.9.13 ('gymenv')",
   "language": "python",
   "name": "python3"
  },
  "language_info": {
   "codemirror_mode": {
    "name": "ipython",
    "version": 3
   },
   "file_extension": ".py",
   "mimetype": "text/x-python",
   "name": "python",
   "nbconvert_exporter": "python",
   "pygments_lexer": "ipython3",
   "version": "3.9.13"
  },
  "orig_nbformat": 4,
  "vscode": {
   "interpreter": {
    "hash": "d1b0110cf1cb03549be737c5657a86ea4daeeb81469a7991ed915d907f3e629c"
   }
  }
 },
 "nbformat": 4,
 "nbformat_minor": 2
}
