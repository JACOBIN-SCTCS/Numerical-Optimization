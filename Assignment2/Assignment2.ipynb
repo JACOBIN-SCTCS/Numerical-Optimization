{
 "cells": [
  {
   "cell_type": "markdown",
   "metadata": {},
   "source": [
    "### Problem 1\n",
    "\n",
    "a) Code the Conjugate Gradient Method and apply it to solve a simple $$Hx=b$$ system, with H’s dimension as 10×10."
   ]
  },
  {
   "cell_type": "code",
   "execution_count": 2,
   "metadata": {},
   "outputs": [
    {
     "name": "stdout",
     "output_type": "stream",
     "text": [
      "[[0.09090909]\n",
      " [0.63636364]]\n"
     ]
    }
   ],
   "source": [
    "# r_k = Hx - b\n",
    "import numpy as np\n",
    "\n",
    "epsilon_threshhold = 0.001\n",
    "\n",
    "def conjugate_gradient(H,b,initial_point = np.array([[3],[1]])):\n",
    "\n",
    "    x_k = initial_point\n",
    "    r_k = np.matmul(H,initial_point) - b\n",
    "    p_k = -r_k\n",
    "\n",
    "    while np.linalg.norm(r_k) > epsilon_threshhold:\n",
    "        \n",
    "        a_k_num = -np.matmul(r_k.T,p_k)\n",
    "        a_k_denom = np.matmul(p_k.T,np.matmul(H,p_k))\n",
    "        a_k = a_k_num / a_k_denom\n",
    "\n",
    "\n",
    "        x_k = x_k + a_k*p_k\n",
    "        r_k = np.matmul(H,x_k) - b\n",
    "\n",
    "        b_k_num = np.matmul(p_k.T,np.matmul(H,r_k))\n",
    "        b_k_denom = np.matmul(p_k.T,np.matmul(H,p_k))\n",
    "\n",
    "        b_k = b_k_num / b_k_denom\n",
    "\n",
    "        p_k = -r_k + b_k*p_k\n",
    "\n",
    "\n",
    "    print(x_k)\n",
    "\n",
    "\n",
    "\n",
    "#H = np.array([[8,-2],[-2,2]])\n",
    "#initial_point = np.array([[3],[1]])\n",
    "#b = np.array([[1],[1]])\n",
    "\n",
    "\n",
    "'''H = np.array([[ 2.5409,-0.0113],\n",
    "  [-0.0113,0.5287]])\n",
    "b = np.array([[1.3864], [0.3719]])\n",
    "initial_point  = np.array([[-3],[-4]])\n",
    "'''\n",
    "\n",
    "H = np.array([[4,1],[1,3]])\n",
    "b = np.array([[1],[2]])\n",
    "initial_point = np.array([[2],[1]])\n",
    "conjugate_gradient(H,b,initial_point)\n"
   ]
  },
  {
   "cell_type": "markdown",
   "metadata": {},
   "source": [
    "b) Construct  matrices  with  various  eigenvalue  distributions  (clustered  and  non-clustered)and apply the above CG method to them.  Comment on the behaviour of the CG method in terms of convergence."
   ]
  },
  {
   "cell_type": "code",
   "execution_count": null,
   "metadata": {},
   "outputs": [],
   "source": []
  },
  {
   "cell_type": "code",
   "execution_count": null,
   "metadata": {},
   "outputs": [],
   "source": []
  },
  {
   "cell_type": "markdown",
   "metadata": {},
   "source": [
    "### Question 2\n",
    "\n",
    " Your start-up will face the cash requirements shown in Table 1 in the next eight quarters(positive entries represent cash needs while negative entries represent cash surpluses).The company has three borrowing possibilities.\n",
    "\n",
    "|   Q1\t|   Q2\t|  Q3 \t|   Q4\t|   Q5\t| Q6  | Q7 | Q8 |  \n",
    "|---\t|---\t|---\t|---\t|---\t|---  |--- |--- |\n",
    "|   100\t|   500\t|  100 \t|  -600 \t|  -500 \t|  200  | 600   | -900   |\n",
    "\n",
    "- a 2-year loan available at the beginning of Q1, with a 1% interest per quarter.\n",
    "- The other two borrowing opportunities are available at the beginning of every quarter: a 6-monthloan with a 1.8% interest per quarter, and a quarterly loan with a 2.5% interest for the quarter.\n",
    "\n",
    "a)  Write a program that implements the revised simplex algorithm.\n"
   ]
  },
  {
   "cell_type": "code",
   "execution_count": 1,
   "metadata": {},
   "outputs": [],
   "source": [
    "import numpy as np\n",
    "def revised_simplex_method(A,b,c,b_vars,nb_vars):\n",
    "\n",
    "    final_ans = np.zeros((len(b_vars)+len(nb_vars),))\n",
    "    iterations = 0\n",
    "    while True:\n",
    "        \n",
    "        print(\"Basic Variables bef =\" + str(b_vars))\n",
    "        print(\"Non Basic Variables bef = \" + str(nb_vars))\n",
    "\n",
    "        B = A[:,b_vars]\n",
    "        N = A[:,nb_vars]\n",
    "        c_B = c[b_vars,:]\n",
    "        c_N = c[nb_vars,:]\n",
    "\n",
    "        print(B.shape)\n",
    "        print(b.shape)\n",
    "        x_B = np.linalg.solve(B,b)\n",
    "        lambda_ = np.linalg.solve(B.T,c_B)\n",
    "        s_N =c_N - np.matmul(N.T,lambda_)\n",
    "\n",
    "        print(\"x_B = \" + str(x_B) )\n",
    "        print(\"lambda = \" + str(lambda_))\n",
    "        print(\"s_N = \" + str(s_N))\n",
    "\n",
    "        if np.all(s_N>=0) :\n",
    "            final_ans[b_vars] = x_B.squeeze(1)\n",
    "            return True,final_ans\n",
    "\n",
    "        q = int(np.argmin(s_N,axis=0))\n",
    "        A_q = np.expand_dims(A[:,nb_vars[q]],axis=1)\n",
    "        d = np.linalg.solve(B,A_q)\n",
    "\n",
    "        print(\"q = \" + str(q))\n",
    "        print(\"d = \" + str(d))\n",
    "\n",
    "        if np.all(d<=0):\n",
    "            print(\"Feasible Region Unbounded\")\n",
    "            return False,np.zeros((len(b_vars)+len(nb_vars),)) \n",
    "\n",
    "        x_q = np.inf\n",
    "        p = -1\n",
    "        d_positive = d>0\n",
    "        for i in range(x_B.shape[0]):\n",
    "            if d_positive[i,0]:\n",
    "                ratio = x_B[i,0] / d[i,0]\n",
    "                if ratio > x_q:\n",
    "                    ratio = x_q\n",
    "                    p = i\n",
    "        \n",
    "        tmp = b_vars[p]\n",
    "        b_vars[p] = nb_vars[q]\n",
    "        nb_vars[q] = tmp\n",
    "\n",
    "        b_vars.sort()\n",
    "        nb_vars.sort()\n",
    "\n",
    "        print(\"Basic Variables = \" + str(b_vars))\n",
    "        print(\"Non Basic Variables = \" + str(nb_vars))\n",
    "        iterations+=1\n",
    "        if iterations==10:\n",
    "            break\n",
    "        print(\"---------\")\n",
    "\n"
   ]
  },
  {
   "cell_type": "code",
   "execution_count": 2,
   "metadata": {},
   "outputs": [],
   "source": [
    "def find_initial_point(A,b,c):\n",
    "    \n",
    "    e = np.zeros((A.shape[1]+A.shape[0],1))\n",
    "    e[A.shape[1]:,:] = 1\n",
    "    print(e)\n",
    "    A_new = np.zeros((A.shape[0],A.shape[1]+A.shape[0]))\n",
    "    A_new[:A.shape[0],:A.shape[1]] = A.copy()\n",
    "\n",
    "    for i in range(b.shape[0]):\n",
    "        if b[i,0] < 0:\n",
    "            A_new[i,A.shape[1]+i] = -1\n",
    "        else:\n",
    "            A_new[i,A.shape[1]+i] = 1\n",
    "    print(A_new)\n",
    "    \n",
    "    b_vars = [ i for i in range(A.shape[1],A.shape[1]+A.shape[0]) ]\n",
    "    nb_vars = [ i for i in range(A.shape[1])]\n",
    "    flag,solution = revised_simplex_method(A_new,b,e,b_vars,nb_vars)\n",
    "    return flag,solution\n",
    "    \n",
    "    "
   ]
  },
  {
   "cell_type": "code",
   "execution_count": 4,
   "metadata": {},
   "outputs": [
    {
     "name": "stdout",
     "output_type": "stream",
     "text": [
      "[[0.]\n",
      " [0.]\n",
      " [0.]\n",
      " [0.]\n",
      " [1.]\n",
      " [1.]]\n",
      "[[1.  1.  1.  0.  1.  0. ]\n",
      " [2.  0.5 0.  1.  0.  1. ]]\n",
      "Basic Variables bef =[4, 5]\n",
      "Non Basic Variables bef = [0, 1, 2, 3]\n",
      "(2, 2)\n",
      "(2, 1)\n",
      "x_B = [[5.]\n",
      " [8.]]\n",
      "lambda = [[1.]\n",
      " [1.]]\n",
      "s_N = [[-3. ]\n",
      " [-1.5]\n",
      " [-1. ]\n",
      " [-1. ]]\n",
      "q = 0\n",
      "d = [[1.]\n",
      " [2.]]\n",
      "Basic Variables = [0, 4]\n",
      "Non Basic Variables = [1, 2, 3, 5]\n",
      "---------\n",
      "Basic Variables bef =[0, 4]\n",
      "Non Basic Variables bef = [1, 2, 3, 5]\n",
      "(2, 2)\n",
      "(2, 1)\n",
      "x_B = [[4.]\n",
      " [1.]]\n",
      "lambda = [[ 1. ]\n",
      " [-0.5]]\n",
      "s_N = [[-0.75]\n",
      " [-1.  ]\n",
      " [ 0.5 ]\n",
      " [ 1.5 ]]\n",
      "q = 1\n",
      "d = [[0.]\n",
      " [1.]]\n",
      "Basic Variables = [0, 2]\n",
      "Non Basic Variables = [1, 3, 4, 5]\n",
      "---------\n",
      "Basic Variables bef =[0, 2]\n",
      "Non Basic Variables bef = [1, 3, 4, 5]\n",
      "(2, 2)\n",
      "(2, 1)\n",
      "x_B = [[4.]\n",
      " [1.]]\n",
      "lambda = [[ 0.]\n",
      " [-0.]]\n",
      "s_N = [[0.]\n",
      " [0.]\n",
      " [1.]\n",
      " [1.]]\n",
      "#############\n",
      "Basic Variables bef =[0, 2]\n",
      "Non Basic Variables bef = [1, 3]\n",
      "(2, 2)\n",
      "(2, 1)\n",
      "x_B = [[4.]\n",
      " [1.]]\n",
      "lambda = [[ 0.]\n",
      " [-2.]]\n",
      "s_N = [[-1.]\n",
      " [ 2.]]\n",
      "q = 0\n",
      "d = [[0.25]\n",
      " [0.75]]\n",
      "Basic Variables = [0, 1]\n",
      "Non Basic Variables = [2, 3]\n",
      "---------\n",
      "Basic Variables bef =[0, 1]\n",
      "Non Basic Variables bef = [2, 3]\n",
      "(2, 2)\n",
      "(2, 1)\n",
      "x_B = [[3.66666667]\n",
      " [1.33333333]]\n",
      "lambda = [[-1.33333333]\n",
      " [-1.33333333]]\n",
      "s_N = [[1.33333333]\n",
      " [1.33333333]]\n",
      "[3.66666667 1.33333333 0.         0.        ]\n"
     ]
    }
   ],
   "source": [
    "A = np.array([[1,1,1,0],[2,0.5,0,1]])\n",
    "b = np.array([[5],[8]])\n",
    "c = np.array([[-4],[-2],[0],[0]])\n",
    "\n",
    "'''A = np.array([[10,20,1,0],[8,8,0,1]])\n",
    "b = np.array([[120],[80]])\n",
    "c = np.array([[-12],[-16],[0],[0]])\n",
    "'''\n",
    "'''A = np.array([[1,1,-1,0,0],[1,-1,0,1,0],[3,1,0,0,1]])\n",
    "b = np.array([[1],[0],[6]])\n",
    "c = np.array([[-2],[-1],[0],[0],[0]])'''\n",
    "'''A = np.array([[2,1,1,0],[1,2,0,1]],dtype=np.float32)\n",
    "b = np.array([[12],[9]],dtype=np.float32)\n",
    "c = np.array([[-1],[-1],[0],[0]],dtype=np.float32)'''\n",
    "'''A = np.array([[-3,2,1,1],[-2,1,1,3]],dtype=np.int64)\n",
    "b = np.array([[7],[1]],dtype=np.int64)\n",
    "c = np.array([[1],[1],[-1],[-1]],dtype=np.int64)'''\n",
    "\n",
    "'''A = np.array([[2,1,1,1],[1,-1,-1,1]])\n",
    "b = np.array([[2],[-1]])\n",
    "c = np.array([[3],[1],[1],[0],[0]])'''\n",
    "\n",
    "'''A = np.array([[1,1,-1,0,0],[2,-1,0,1,0],[0,1,0,0,1]])\n",
    "b = np.array([[1],[1],[2.0/3]])\n",
    "c = np.array([[6],[3],[0],[0],[0]])'''\n",
    "\n",
    "'''flag,point = get_initial_point(A,b,c)\n",
    "if flag == False:\n",
    "    print(\"Could not Find an Initial Feasible Point. No solution for the LPP problem\")\n",
    "else:\n",
    "    b_vars =[]\n",
    "    nb_vars = []\n",
    "\n",
    "    for i in range(point.shape[0]- A.shape[0]):\n",
    "        if point[i]==True:\n",
    "            nb_vars.append(i)\n",
    "        else:\n",
    "            b_vars.append(i)\n",
    "\n",
    "    ans = revised_simplex(A,b,c,b_vars,nb_vars)\n",
    "    print(ans)'''\n",
    "'''\n",
    "A = np.array([[1,1,1,-1,0,0],[1,-2,0,0,-1,0],[0,0,1,0,0,-1]])\n",
    "b = np.array([[1000],[0],[340]])\n",
    "c = np.array([[10],[15],[25],[0],[0],[0]])'''\n",
    "\n",
    "'''A = np.array([[4,3,1,0],[2,1,0,1]])\n",
    "b = np.array([[240],[100]])\n",
    "c = np.array([[7],[5],[0],[0]])'''\n",
    "'''\n",
    "b_vars = [2,3]\n",
    "nb_vars = [0,1]\n",
    "'''\n",
    "\n",
    "flag,initial_solution = find_initial_point(A,b,c)\n",
    "if (not np.all(np.isclose(initial_solution[A.shape[1]:],np.zeros((A.shape[0],)))))or(not flag):\n",
    "    print(\"No Initial Feasible Solution; Solution doesnt exist\")\n",
    "else:\n",
    "    b_vars = []\n",
    "    nb_vars = []\n",
    "\n",
    "\n",
    "    for i in range(A.shape[1]):\n",
    "        if initial_solution[i] == 0.0:\n",
    "            nb_vars.append(i)\n",
    "        else:\n",
    "            b_vars.append(i)\n",
    "    print(\"#############\")\n",
    "    flag,ans = revised_simplex_method(A,b,c,b_vars,nb_vars)\n",
    "    if flag:\n",
    "       print(ans) \n",
    "\n",
    "#ans = revised_simplex_method(A,b,c,b_vars,nb_vars)\n",
    "#print(ans)\n"
   ]
  },
  {
   "cell_type": "code",
   "execution_count": 21,
   "metadata": {},
   "outputs": [],
   "source": [
    "import numpy as np\n",
    "def revised_simplex(A,b,c,b_vars,nb_vars):\n",
    "\n",
    "    # For storing the final result\n",
    "    final_ans = np.zeros((len(b_vars) + len(nb_vars),))\n",
    "    while True:\n",
    "\n",
    "        # Get the Basis Matrix B and NonBasis Matrix N\n",
    "        B = A[:,b_vars]\n",
    "        N = A[:,nb_vars]\n",
    "\n",
    "        # Compute x_B , lambda and s_N\n",
    "        B_inverse = np.linalg.inv(B)\n",
    "        x_B = np.matmul(B_inverse,b)\n",
    "        print(x_B)\n",
    "        lambda_ = np.matmul(B_inverse.T,c[b_vars,:])\n",
    "        s_N = c[nb_vars,:] - np.matmul(N.T,lambda_)\n",
    "\n",
    "        # Check if we have reached a solution\n",
    "        if (s_N>=0).all():\n",
    "            for i in range(len(b_vars)):\n",
    "                final_ans[b_vars[i]] = x_B[i]\n",
    "            \n",
    "            return final_ans\n",
    "        \n",
    "        qidx = int(np.argmin(s_N,axis=0))\n",
    "        q = nb_vars[qidx]\n",
    "    \n",
    "        d = np.matmul(B_inverse,np.expand_dims(A[:,q],axis=1))\n",
    "\n",
    "        # Check if feasible region is bounded or not\n",
    "        if (d<=0).all():\n",
    "            print(\"The Feasible Region is Unbounded\")\n",
    "            return np.zeros((len(b_vars) + len(nb_vars),))\n",
    "\n",
    "\n",
    "        \n",
    "        xq_plus = float(np.min(x_B/d,axis=0)[0])\n",
    "        pidx = np.argmin(x_B/d,axis=0)[0]\n",
    "        p = b_vars[pidx]\n",
    "        \n",
    "        # Update the solution vector x\n",
    "        x_B_plus = x_B - xq_plus*d\n",
    "        # Compute the solution vector x\n",
    "        final_ans = np.zeros((len(b_vars) + len(nb_vars),))\n",
    "        for i in range(len(x_B_plus)):\n",
    "            final_ans[b_vars[i]] = x_B_plus[i,0]\n",
    "        final_ans[q] = xq_plus\n",
    "        #print(final_ans)\n",
    "        # Swap between p and q \n",
    "        tmp = b_vars[pidx]\n",
    "        b_vars[pidx] = nb_vars[qidx]\n",
    "        nb_vars[qidx] = tmp\n",
    "\n",
    "        # Sort the indices of the Basic and Non Basic Variables\n",
    "        b_vars.sort()\n",
    "        nb_vars.sort()\n"
   ]
  },
  {
   "cell_type": "markdown",
   "metadata": {},
   "source": [
    "b) Solve the above LP using your program and report the final results."
   ]
  },
  {
   "cell_type": "code",
   "execution_count": null,
   "metadata": {},
   "outputs": [],
   "source": []
  },
  {
   "cell_type": "markdown",
   "metadata": {},
   "source": [
    "c)   Use  PuLP  and  scipy.optimize.linprog  to  verify  your  answer.   Change  the  optimization algorithm  used  by  the  solver  -  try  interior  point,  revised-simplex  and  dual-simplex.   Comment  on findings."
   ]
  },
  {
   "cell_type": "markdown",
   "metadata": {},
   "source": [
    "#### PULP"
   ]
  },
  {
   "cell_type": "code",
   "execution_count": 15,
   "metadata": {},
   "outputs": [],
   "source": [
    "from pulp import *\n",
    "\n",
    "model = LpProblem(\"FurnitureProblem\", LpMaximize)\n",
    "\n",
    "x1 = LpVariable(\"tables\", 0, None, LpInteger)\n",
    "x2 = LpVariable(\"chairs\", 0, None, LpInteger) \n",
    "x3 = LpVariable(\"bookcases\", 0, None, LpInteger)"
   ]
  },
  {
   "cell_type": "code",
   "execution_count": 16,
   "metadata": {},
   "outputs": [],
   "source": [
    "model += 40 * x1 + 30 * x2 + 45 * x3 \n",
    "model += 2 * x1 + 1 * x2 + 2.5 * x3 <= 60, \"Labour\"\n",
    "model += 0.8 * x1 + 0.6 * x2 + 1.0 * x3 <= 16, \"Machine\"\n",
    "model += 30 * x1 + 20 * x2 + 30 * x3 <= 400, \"wood\"\n",
    "model += x1 >= 10, \"tables\""
   ]
  },
  {
   "cell_type": "code",
   "execution_count": null,
   "metadata": {},
   "outputs": [],
   "source": [
    "# The problem is solved using PuLP's choice of Solver\n",
    "model.solve()\n",
    "\n",
    "# Each of the variables is printed with it's resolved optimum value\n",
    "for v in model.variables():\n",
    "    print(v.name, \"=\", v.varValue)"
   ]
  },
  {
   "cell_type": "markdown",
   "metadata": {},
   "source": [
    "### scipy.optimize"
   ]
  },
  {
   "cell_type": "code",
   "execution_count": 74,
   "metadata": {},
   "outputs": [
    {
     "name": "stderr",
     "output_type": "stream",
     "text": [
      "/var/folders/sm/_xvm618541nc11hb7mv_kpj40000gn/T/ipykernel_26994/3912944025.py:8: DeprecationWarning: `method='revised simplex'` is deprecated and will be removed in SciPy 1.11.0. Please use one of the HiGHS solvers (e.g. `method='highs'`) in new code.\n",
      "  ans = linprog(c,A_ub,b_ub,bounds=bounds,method=method)\n"
     ]
    }
   ],
   "source": [
    "from scipy.optimize import linprog\n",
    "\n",
    "c = np.array([2,1])\n",
    "A_ub = np.array([[-1,1],[-1,-1],[1,-2]])\n",
    "b_ub = np.array([1,-2,4])\n",
    "bounds = (0,None)\n",
    "method = 'revised simplex'\n",
    "ans = linprog(c,A_ub,b_ub,bounds=bounds,method=method)\n"
   ]
  },
  {
   "cell_type": "code",
   "execution_count": 75,
   "metadata": {},
   "outputs": [
    {
     "data": {
      "text/plain": [
       "     con: array([], dtype=float64)\n",
       "     fun: 2.5\n",
       " message: 'Optimization terminated successfully.'\n",
       "     nit: 2\n",
       "   slack: array([0. , 0. , 6.5])\n",
       "  status: 0\n",
       " success: True\n",
       "       x: array([0.5, 1.5])"
      ]
     },
     "execution_count": 75,
     "metadata": {},
     "output_type": "execute_result"
    }
   ],
   "source": [
    "ans"
   ]
  },
  {
   "cell_type": "markdown",
   "metadata": {},
   "source": [
    "### Question 3\n",
    "\n",
    "a) Consider the problem\n",
    "\n",
    "$$\n",
    "min \\text{  } x_{1}^{2}+ 2x_{2}^{2} − 2x_{1}−6x_{2}−2x_{1}x_{2},\n",
    "$$\n",
    "\n",
    "such that\n",
    "$$\n",
    "x_{1} + x_{2} \\le 2\n",
    "$$\n",
    "$$\n",
    "-x_{1} + 2x_{2} \\le 2\n",
    "\n",
    "$$\n",
    "\n",
    "$$\n",
    "x_{1},x_{2} >= 0 \n",
    "$$\n",
    "\n",
    "Solve geometrically (Plot the geometry and solution points to visualize)"
   ]
  },
  {
   "cell_type": "code",
   "execution_count": 27,
   "metadata": {},
   "outputs": [
    {
     "data": {
      "image/png": "[encoded data removed]",
      "text/plain": [
       "<Figure size 432x288 with 1 Axes>"
      ]
     },
     "metadata": {
      "needs_background": "light"
     },
     "output_type": "display_data"
    }
   ],
   "source": [
    "import matplotlib.pyplot as plt\n",
    "import numpy as np\n",
    "\n",
    "\n",
    "d = np.linspace(0,6,1000)\n",
    "x1,x2 = np.meshgrid(d,d)\n",
    "\n",
    "plt.imshow( (( (x1 + x2) <= 2) & ((-x1 + 2*x2) <= 2) & (x1>=0) & (x2>=0) ).astype(int) , \n",
    "                extent=(x1.min(),x2.max(),x2.min(),x2.max()),origin=\"lower\", cmap=\"Greys\", alpha = 0.3)\n",
    "\n",
    "x1_ = np.linspace(0,6,500)\n",
    "x2_1 = 2 - x1_ \n",
    "x2_2 = (2 + x1_)/2\n",
    "\n",
    "z = x1**2 + 2*(x2**2) - 2*x1 - 6*x2 - 2*x1*x2 \n",
    "\n",
    "cs = plt.contour(x1,x2,z,levels=43)\n",
    "plt.plot(x1_,x2_1, label=r'$x1+x2\\leq2$')\n",
    "plt.plot(x1_,x2_2, label=r'$-x1+2x2\\leq2$')\n",
    "plt.clabel(cs,inline=True, fontsize='smaller')\n",
    "plt.xlim(0,6)\n",
    "plt.ylim(0,6)\n",
    "\n",
    "plt.show()"
   ]
  },
  {
   "cell_type": "markdown",
   "metadata": {},
   "source": [
    "b) Implement the active set method for quadratic programs (Algo 16.3 in Nocedal and Wright(2006))."
   ]
  },
  {
   "cell_type": "code",
   "execution_count": 167,
   "metadata": {},
   "outputs": [],
   "source": [
    "\n",
    "def create_KKT_Matrix(G,A_ne,b_ne,c,active_indices,point):\n",
    "    \n",
    "    KKT_matrix = np.zeros((G.shape[0]+len(active_indices),G.shape[1]+len(active_indices)))\n",
    "    KKT_matrix[:G.shape[0],:G.shape[1]] = G.copy()\n",
    "    KKT_matrix[:G.shape[0],G.shape[1]:] = A_ne[active_indices].T\n",
    "    KKT_matrix[G.shape[0]:,:G.shape[1]] = A_ne[active_indices]\n",
    "    \n",
    "    rhs = np.zeros((c.shape[0]+b_ne[active_indices].shape[0],1))\n",
    "    Gx_plus_c = np.matmul(G,point) + c\n",
    " \n",
    "    Ax_minus_b  = np.matmul(A_ne[active_indices],point) - b_ne[active_indices]\n",
    "    rhs[:c.shape[0],:] = Gx_plus_c\n",
    "    rhs[c.shape[0]:,:] = Ax_minus_b\n",
    "    \n",
    "    return KKT_matrix,rhs\n",
    "\n",
    "def compute_step_length(p,A_ne,b_ne,active_indices,current_point):\n",
    "    step_length = 1.0\n",
    "\n",
    "    for i in range(A_ne.shape[0]):\n",
    "        if i not in active_indices:\n",
    "            if (np.all(np.matmul(A_ne[i,:],p) < 0)):\n",
    "                numerator = b_ne[i,0] - np.matmul(A_ne[i,:],current_point)\n",
    "                denominator = np.matmul(A_ne[i,:],p)\n",
    "                #print(\"Numerator = \" + str(numerator))\n",
    "                #print(\"Denominator = \" + str(denominator))\n",
    "                step = float(numerator/denominator)\n",
    "                step_length = min(step,step_length)\n",
    "    \n",
    "    return step_length\n",
    "\n",
    "\n",
    "def active_set_method(G,c,A_ne,b_ne,initial_point):\n",
    "\n",
    "    #  A_ne , b_ne , H , initial_point\n",
    "\n",
    "    current_point = initial_point.copy()\n",
    "    reached_new_point = True\n",
    "    active_indices = []\n",
    "    #print(active_indices)\n",
    "    iterations = 0\n",
    "    while True:\n",
    "        if reached_new_point:\n",
    "            Ax =  np.matmul(A_ne,current_point)\n",
    "            Ax_diff = (Ax - b_ne).squeeze(1)\n",
    "            active_indices = np.where(Ax_diff==0)[0].tolist()\n",
    "        \n",
    "        mat = create_KKT_Matrix(G,A_ne,b_ne,c,active_indices,current_point)\n",
    "        sol_vector = np.linalg.solve(mat[0],mat[1])\n",
    "        \n",
    "        #print(sol_vector)\n",
    "        \n",
    "        p = sol_vector[:G.shape[0],:]\n",
    "        lambda_ = sol_vector[G.shape[0]:,:]\n",
    "    \n",
    "        #print(\"current_point = \" + str(current_point))\n",
    "        #print(\"increment = \" + str(p))\n",
    "        #print(\"lambda = \" + str(lambda_))\n",
    "        \n",
    "        if ( np.all(np.isclose(p,np.zeros((p.shape[0],p.shape[1]))))):\n",
    "            \n",
    "            reached_new_point=False\n",
    "            if np.all(lambda_>=0):\n",
    "                return iterations,current_point\n",
    "            else:\n",
    "                rm_constraint_idx = int(np.argmin(lambda_,axis=0))\n",
    "                del active_indices[rm_constraint_idx]\n",
    "        else:\n",
    "            alpha = compute_step_length(-p,A_ne,b_ne,active_indices,current_point)  \n",
    "            #print(\"Alpha value =\" + str(alpha) )\n",
    "  \n",
    "            new_point = current_point + alpha*(-p)\n",
    "            current_point = new_point\n",
    "            reached_new_point=True\n",
    "        #print(\"----------\")\n",
    "        iterations+=1\n"
   ]
  },
  {
   "cell_type": "markdown",
   "metadata": {},
   "source": [
    "c) Choose  three  initial  starting  points:  \n",
    "- one  in  the  interior  of  the  feasible  region\n",
    "- one  at the vertex \n",
    "- one at a non-vertex point on the boundary of the feasible region.\n",
    "\n",
    "Comment on the convergence properties"
   ]
  },
  {
   "cell_type": "code",
   "execution_count": 170,
   "metadata": {},
   "outputs": [
    {
     "data": {
      "text/plain": [
       "3"
      ]
     },
     "execution_count": 170,
     "metadata": {},
     "output_type": "execute_result"
    }
   ],
   "source": [
    "G = np.array([[2,-2],[-2,4]])\n",
    "c = np.array([[-2],[-6]])\n",
    "A_ne = np.array([[-1,-1],[1,-2]])\n",
    "b_ne = np.array([[-2],[-2]])\n",
    "initial_point = np.array([[0.5],[0.5]])\n",
    "\n",
    "it, sol = active_set_method(G,c,A_ne,b_ne,initial_point)\n",
    "it"
   ]
  },
  {
   "cell_type": "markdown",
   "metadata": {},
   "source": [
    "d) Use CVXOPT and solve the above QP. What algorithm does CVXOPT use to solve QP? Understand and comment on your findings."
   ]
  },
  {
   "cell_type": "code",
   "execution_count": 19,
   "metadata": {},
   "outputs": [
    {
     "name": "stdout",
     "output_type": "stream",
     "text": [
      "     pcost       dcost       gap    pres   dres\n",
      " 0: -8.4082e+00 -1.4514e+00  9e+00  1e+00  8e-01\n",
      " 1: -4.3448e+00 -5.4301e+00  1e+00  1e-16  6e-16\n",
      " 2: -4.8946e+00 -4.9082e+00  1e-02  1e-16  0e+00\n",
      " 3: -4.8999e+00 -4.9001e+00  1e-04  4e-17  2e-16\n",
      " 4: -4.9000e+00 -4.9000e+00  1e-06  2e-16  2e-16\n",
      "Optimal solution found.\n"
     ]
    },
    {
     "data": {
      "text/plain": [
       "{'x': <2x1 matrix, tc='d'>,\n",
       " 'y': <0x1 matrix, tc='d'>,\n",
       " 's': <2x1 matrix, tc='d'>,\n",
       " 'z': <2x1 matrix, tc='d'>,\n",
       " 'status': 'optimal',\n",
       " 'gap': 1.3530627047054012e-06,\n",
       " 'relative gap': 2.761352760593931e-07,\n",
       " 'primal objective': -4.899999464082869,\n",
       " 'dual objective': -4.900000817145574,\n",
       " 'primal infeasibility': 2.3551386880256624e-16,\n",
       " 'dual infeasibility': 1.570092458683775e-16,\n",
       " 'primal slack': 2.435986776508516e-07,\n",
       " 'dual slack': 3.8911692089051155e-07,\n",
       " 'iterations': 4}"
      ]
     },
     "execution_count": 19,
     "metadata": {},
     "output_type": "execute_result"
    }
   ],
   "source": [
    "from cvxopt import matrix, solvers\n",
    "\n",
    "P = matrix([[2.0,-2.0],[-2.0,4.0]])\n",
    "q = matrix([-2.0,-6.0])\n",
    "G = matrix([[1.0,1.0],[-1.0,2.0]])\n",
    "h = matrix([2.0,2.0])\n",
    "\n",
    "solution = solvers.qp(P,q,G,h)\n",
    "solution"
   ]
  },
  {
   "cell_type": "code",
   "execution_count": null,
   "metadata": {},
   "outputs": [],
   "source": []
  }
 ],
 "metadata": {
  "kernelspec": {
   "display_name": "Python 3.9.13 ('gymenv')",
   "language": "python",
   "name": "python3"
  },
  "language_info": {
   "codemirror_mode": {
    "name": "ipython",
    "version": 3
   },
   "file_extension": ".py",
   "mimetype": "text/x-python",
   "name": "python",
   "nbconvert_exporter": "python",
   "pygments_lexer": "ipython3",
   "version": "3.9.13"
  },
  "orig_nbformat": 4,
  "vscode": {
   "interpreter": {
    "hash": "d1b0110cf1cb03549be737c5657a86ea4daeeb81469a7991ed915d907f3e629c"
   }
  }
 },
 "nbformat": 4,
 "nbformat_minor": 2
}
