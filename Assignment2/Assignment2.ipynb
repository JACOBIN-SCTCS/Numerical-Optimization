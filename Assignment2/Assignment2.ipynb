{
 "cells": [
  {
   "cell_type": "markdown",
   "metadata": {},
   "source": [
    "### Problem 1\n",
    "\n",
    "a) Code the Conjugate Gradient Method and apply it to solve a simple $$Hx=b$$ system, with H’s dimension as 10×10."
   ]
  },
  {
   "cell_type": "code",
   "execution_count": 5,
   "metadata": {},
   "outputs": [
    {
     "name": "stdout",
     "output_type": "stream",
     "text": [
      "[[0.5488139 ]\n",
      " [0.71515339]]\n"
     ]
    }
   ],
   "source": [
    "# r_k = Hx - b\n",
    "import numpy as np\n",
    "\n",
    "epsilon_threshhold = 0.001\n",
    "\n",
    "def conjugate_gradient(H,b,initial_point = np.array([[3],[1]])):\n",
    "\n",
    "    x_k = initial_point\n",
    "    r_k = np.matmul(H,initial_point) - b\n",
    "    p_k = -r_k\n",
    "\n",
    "    while np.linalg.norm(r_k) > epsilon_threshhold:\n",
    "        \n",
    "        a_k_num = -np.matmul(r_k.T,p_k)\n",
    "        a_k_denom = np.matmul(p_k.T,np.matmul(H,p_k))\n",
    "        a_k = a_k_num / a_k_denom\n",
    "\n",
    "\n",
    "        x_k = x_k + a_k*p_k\n",
    "        r_k = np.matmul(H,x_k) - b\n",
    "\n",
    "\n",
    "\n",
    "        b_k_num = np.matmul(p_k.T,np.matmul(H,r_k))\n",
    "        b_k_denom = np.matmul(p_k.T,np.matmul(H,p_k))\n",
    "\n",
    "        b_k = b_k_num / b_k_denom\n",
    "\n",
    "        p_k = -r_k + b_k*p_k\n",
    "\n",
    "\n",
    "    print(x_k)\n",
    "\n",
    "\n",
    "\n",
    "#H = np.array([[8,-2],[-2,2]])\n",
    "#initial_point = np.array([[3],[1]])\n",
    "#b = np.array([[1],[1]])\n",
    "\n",
    "H = np.array([[ 2.5409,-0.0113],\n",
    "  [-0.0113,0.5287]])\n",
    "b = np.array([[1.3864], [0.3719]])\n",
    "initial_point  = np.array([[-3],[-4]])\n",
    "\n",
    "conjugate_gradient(H,b,initial_point)\n"
   ]
  },
  {
   "cell_type": "markdown",
   "metadata": {},
   "source": [
    "b) Construct  matrices  with  various  eigenvalue  distributions  (clustered  and  non-clustered)and apply the above CG method to them.  Comment on the behaviour of the CG method in terms of convergence."
   ]
  },
  {
   "cell_type": "code",
   "execution_count": null,
   "metadata": {},
   "outputs": [],
   "source": []
  },
  {
   "cell_type": "code",
   "execution_count": null,
   "metadata": {},
   "outputs": [],
   "source": []
  },
  {
   "cell_type": "markdown",
   "metadata": {},
   "source": [
    "### Question 2\n",
    "\n",
    " Your start-up will face the cash requirements shown in Table 1 in the next eight quarters(positive entries represent cash needs while negative entries represent cash surpluses).The company has three borrowing possibilities.\n",
    "\n",
    "|   Q1\t|   Q2\t|  Q3 \t|   Q4\t|   Q5\t| Q6  | Q7 | Q8 |  \n",
    "|---\t|---\t|---\t|---\t|---\t|---  |--- |--- |\n",
    "|   100\t|   500\t|  100 \t|  -600 \t|  -500 \t|  200  | 600   | -900   |\n",
    "\n",
    "- a 2-year loan available at the beginning of Q1, with a 1% interest per quarter.\n",
    "- The other two borrowing opportunities are available at the beginning of every quarter: a 6-monthloan with a 1.8% interest per quarter, and a quarterly loan with a 2.5% interest for the quarter.\n",
    "\n",
    "a)  Write a program that implements the revised simplex algorithm.\n"
   ]
  },
  {
   "cell_type": "code",
   "execution_count": 5,
   "metadata": {},
   "outputs": [],
   "source": [
    "import numpy as np\n",
    "def revised_simplex(A,b,c,b_vars,nb_vars):\n",
    "\n",
    "    # For storing the final result\n",
    "    final_ans = np.zeros((len(b_vars) + len(nb_vars),))\n",
    "\n",
    "    while True:\n",
    "\n",
    "        # Get the Basis Matrix B and NonBasis Matrix N\n",
    "        B = A[:,b_vars]\n",
    "        N = A[:,nb_vars]\n",
    "\n",
    "        # Compute x_B , lambda and s_N\n",
    "        B_inverse = np.linalg.inv(B)\n",
    "        x_B = np.matmul(B_inverse,b)\n",
    "        lambda_ = np.matmul(B_inverse.T,c[b_vars,:])\n",
    "        s_N = c[nb_vars,:] - np.matmul(N.T,lambda_)\n",
    "\n",
    "        # Check if we have reached a solution\n",
    "        if (s_N>=0).all():\n",
    "            return final_ans\n",
    "        \n",
    "        qidx = int(np.argmin(s_N,axis=0))\n",
    "        q = nb_vars[qidx]\n",
    "    \n",
    "        d = np.matmul(B_inverse,np.expand_dims(A[:,q],axis=1))\n",
    "\n",
    "        # Check if feasible region is bounded or not\n",
    "        if (d<=0).all():\n",
    "            print(\"The Feasible Region is Unbounded\")\n",
    "            return np.zeros((len(b_vars) + len(nb_vars),))\n",
    "\n",
    "\n",
    "        \n",
    "        xq_plus = float(np.min(x_B/d,axis=0)[0])\n",
    "        pidx = np.argmin(x_B/d,axis=0)[0]\n",
    "        p = b_vars[pidx]\n",
    "        \n",
    "        # Update the solution vector x\n",
    "        x_B_plus = x_B - xq_plus*d\n",
    "        print(x_B_plus)\n",
    "        # Compute the solution vector x\n",
    "        final_ans = np.zeros((len(b_vars) + len(nb_vars),))\n",
    "        for i in range(len(x_B_plus)):\n",
    "            final_ans[b_vars[i]] = x_B_plus[i,0]\n",
    "        final_ans[q] = xq_plus\n",
    "        # Swap between p and q \n",
    "        tmp = b_vars[pidx]\n",
    "        b_vars[pidx] = nb_vars[qidx]\n",
    "        nb_vars[qidx] = tmp\n",
    "\n",
    "        # Sort the indices of the Basic and Non Basic Variables\n",
    "        b_vars.sort()\n",
    "        nb_vars.sort()\n"
   ]
  },
  {
   "cell_type": "code",
   "execution_count": 14,
   "metadata": {},
   "outputs": [],
   "source": [
    "def get_initial_feasible_point(A,b,c):\n",
    "\n",
    "    e = np.zeros((A.shape[1]+A.shape[0],1),dtype=np.int64)\n",
    "    e[A.shape[1]:,:] = 1\n",
    "    A_new = np.zeros((A.shape[0],A.shape[1]+A.shape[0]))\n",
    "    A_new[:A.shape[0],:A.shape[1]] = A.copy()\n",
    "    A_new[:A.shape[0] , A.shape[1]:] = np.eye(A_new.shape[0])\n",
    "    \n",
    "    b_vars = [i for i in range(A.shape[1],A.shape[1]+A.shape[0],1)]\n",
    "    nb_vars = [i for i in range(A.shape[1])]\n",
    "\n",
    "    solution = revised_simplex(A_new,b,c,b_vars,nb_vars)\n",
    "\n",
    "    flag = True\n",
    "    for i in range(len(nb_vars)):\n",
    "        if (float(solution[nb_vars[i]])!=float(0.0)):\n",
    "            flag = False\n",
    "            break\n",
    "\n",
    "    return flag,solution\n"
   ]
  },
  {
   "cell_type": "code",
   "execution_count": null,
   "metadata": {},
   "outputs": [],
   "source": []
  },
  {
   "cell_type": "code",
   "execution_count": 15,
   "metadata": {},
   "outputs": [
    {
     "name": "stdout",
     "output_type": "stream",
     "text": [
      "[4, 5]\n",
      "[0, 1, 2, 3]\n",
      "[[1.  1.  1.  0.  1.  0. ]\n",
      " [2.  0.5 0.  1.  0.  1. ]]\n",
      "[[0]\n",
      " [0]\n",
      " [0]\n",
      " [0]\n",
      " [1]\n",
      " [1]]\n"
     ]
    }
   ],
   "source": [
    "A = np.array([[1,1,1,0],[2,0.5,0,1]])\n",
    "b = np.array([[5],[8]])\n",
    "c = np.array([[-4],[-2],[0],[0]])\n",
    "b_vars = [2,3]\n",
    "nb_vars = [0,1]\n",
    "\n",
    "get_initial_feasible_point(A,b,c)\n",
    "#ans = revised_simplex(A,b,c,b_vars,nb_vars)"
   ]
  },
  {
   "cell_type": "code",
   "execution_count": 10,
   "metadata": {},
   "outputs": [
    {
     "data": {
      "text/plain": [
       "array([[-2. ,  1. ],\n",
       "       [ 1.5, -0.5]])"
      ]
     },
     "execution_count": 10,
     "metadata": {},
     "output_type": "execute_result"
    }
   ],
   "source": [
    "mat"
   ]
  },
  {
   "cell_type": "code",
   "execution_count": null,
   "metadata": {},
   "outputs": [],
   "source": []
  },
  {
   "cell_type": "markdown",
   "metadata": {},
   "source": [
    "### Question 3\n",
    "\n",
    "a) Consider the problem\n",
    "\n",
    "$$\n",
    "min \\text{  } x_{1}^{2}+ 2x_{2}^{2} − 2x_{1}−6x_{2}−2x_{1}x_{2},\n",
    "$$\n",
    "\n",
    "such that\n",
    "$$\n",
    "x_{1} + x_{2} \\le 2\n",
    "$$\n",
    "$$\n",
    "-x_{1} + 2x_{2} \\le 2\n",
    "\n",
    "$$\n",
    "\n",
    "$$\n",
    "x_{1},x_{2} >= 0 \n",
    "$$\n",
    "\n",
    "Solve geometrically (Plot the geometry and solution points to visualize)"
   ]
  },
  {
   "cell_type": "code",
   "execution_count": 45,
   "metadata": {},
   "outputs": [
    {
     "data": {
      "image/png": "[encoded data removed]",
      "text/plain": [
       "<Figure size 432x288 with 1 Axes>"
      ]
     },
     "metadata": {
      "needs_background": "light"
     },
     "output_type": "display_data"
    }
   ],
   "source": [
    "import matplotlib.pyplot as plt\n",
    "\n",
    "\n",
    "d = np.linspace(-0.1,4.1,5000)\n",
    "x1,x2 = np.meshgrid(d,d)\n",
    "\n",
    "plt.imshow( (( (x1 + x2) <= 2) & ((-x1 + 2*x2) <= 2) & (x1>=0) & (x2>=0) ).astype(int) , \n",
    "                extent=(x1.min(),x2.max(),x2.min(),x2.max()),origin=\"lower\", cmap=\"Greys\", alpha = 0.3)\n",
    "\n",
    "x1_ = np.linspace(-0.1,4.1,500)\n",
    "x2_1 = 2 - x1_ \n",
    "x2_2 = (2 + x1_)/2\n",
    "\n",
    "z = x1**2 + 2*(x2**2) - 2*x1 - 6*x2 - 2*x1*x2 \n",
    "\n",
    "cs = plt.contour(x1,x2,z)\n",
    "plt.plot(x1_,x2_1, label=r'$x1+x2\\leq2$')\n",
    "plt.plot(x1_,x2_2, label=r'$-x1+2x2\\leq2$')\n",
    "plt.clabel(cs,inline=True, fontsize='smaller')\n",
    "plt.xlim(-0.1,4.1)\n",
    "plt.ylim(-0.1,4.1)\n",
    "\n",
    "plt.show()"
   ]
  },
  {
   "cell_type": "code",
   "execution_count": null,
   "metadata": {},
   "outputs": [],
   "source": []
  }
 ],
 "metadata": {
  "kernelspec": {
   "display_name": "Python 3.9.13 ('gymenv')",
   "language": "python",
   "name": "python3"
  },
  "language_info": {
   "codemirror_mode": {
    "name": "ipython",
    "version": 3
   },
   "file_extension": ".py",
   "mimetype": "text/x-python",
   "name": "python",
   "nbconvert_exporter": "python",
   "pygments_lexer": "ipython3",
   "version": "3.9.13"
  },
  "orig_nbformat": 4,
  "vscode": {
   "interpreter": {
    "hash": "d1b0110cf1cb03549be737c5657a86ea4daeeb81469a7991ed915d907f3e629c"
   }
  }
 },
 "nbformat": 4,
 "nbformat_minor": 2
}
