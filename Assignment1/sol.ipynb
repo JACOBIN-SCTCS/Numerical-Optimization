{
 "cells": [
  {
   "cell_type": "markdown",
   "metadata": {},
   "source": [
    "## Question 2"
   ]
  },
  {
   "cell_type": "code",
   "execution_count": 1,
   "metadata": {},
   "outputs": [],
   "source": [
    "import numpy as np\n",
    "import matplotlib.pyplot as plt"
   ]
  },
  {
   "cell_type": "code",
   "execution_count": 2,
   "metadata": {},
   "outputs": [],
   "source": [
    "def squared_norm(x):\n",
    "    x_val = np.float64(x[0][0])\n",
    "    y_val = np.float64(x[1][0])\n",
    "    return x_val*x_val + y_val*y_val\n",
    "\n",
    "def norm(x):\n",
    "    return np.sqrt(squared_norm(x))\n",
    "\n",
    "def get_unit_vector(x):\n",
    "    norm_value = norm(x)\n",
    "    if norm_value == np.float64(0.0):\n",
    "        return x\n",
    "    return (x/norm_value).copy()"
   ]
  },
  {
   "cell_type": "code",
   "execution_count": 3,
   "metadata": {},
   "outputs": [],
   "source": [
    "def f1(x,y):\n",
    "    vec = np.array([[x],[y]])\n",
    "    A = np.array([[1,0],[0,1]])\n",
    "    h = np.matmul(vec.T,A)\n",
    "    return 0.5*np.matmul(h,vec)\n",
    "\n",
    "def f2(x,y):\n",
    "    vec = np.array([[x],[y]])\n",
    "    A = np.array([[10,8],[8,10]])\n",
    "    h = np.matmul(vec.T,A)\n",
    "    return 0.5*np.matmul(h,vec)\n",
    "    \n",
    "def gradient_f1(x):\n",
    "    x_value = np.float64(x[0][0])\n",
    "    y_value = np.float64(x[1][0])\n",
    "    return np.array([[x_value],[y_value]])\n",
    "\n",
    "def gradient_f2(x):\n",
    "    x_value = np.float64(x[0][0])\n",
    "    y_value = np.float64(x[1][0])\n",
    "    return np.array([[10*x_value + 8 *y_value],[10*y_value + 8 * x_value]])\n",
    "\n",
    "def hessian_f1(x):\n",
    "    return np.array([[1,0],[0,1]])\n",
    "\n",
    "def hessian_f2(x):\n",
    "    return np.array([[10,8],[8,10]])\n",
    "\n"
   ]
  },
  {
   "cell_type": "code",
   "execution_count": 12,
   "metadata": {},
   "outputs": [],
   "source": [
    "def steepest_descent(initial_point,function='f1'):\n",
    "\n",
    "    #initial_point = np.array([[2.0],[0.0]],dtype=np.float64)\n",
    "    fun = f1 if function == 'f1' else f2\n",
    "    gradient_fun = gradient_f1 if function == 'f1' else gradient_f2\n",
    "\n",
    "    current_point = initial_point.copy()\n",
    "    \n",
    "    c = 0.0001\n",
    "    rho = 0.9\n",
    "    iterations = 0\n",
    "    iterates = []\n",
    "\n",
    "    iterates.append(current_point)\n",
    "\n",
    "    while True:        \n",
    "        \n",
    "        iterations += 1\n",
    "        gradient = gradient_fun(current_point)\n",
    "        p = -get_unit_vector(gradient)            \n",
    "        alpha  = np.float64(1.0)\n",
    "        previous_point = current_point.copy() \n",
    "        break_inner_loop = False\n",
    "    \n",
    "        current_x = np.float64(current_point[0][0])\n",
    "        current_y = np.float64(current_point[1][0])\n",
    "\n",
    "        current_function_value = np.float64(fun(current_x,current_y).squeeze()) \n",
    "        while not break_inner_loop:\n",
    "            \n",
    "            new_point = current_point + alpha*p\n",
    "\n",
    "            new_x = np.float64(new_point[0][0])\n",
    "            new_y = np.float64(new_point[1][0])\n",
    "\n",
    "            new_function_value = np.float64(fun(new_x,new_y).squeeze())\n",
    "            increment_value = np.float64(((c*alpha)*np.dot(gradient.T,p)).squeeze())\n",
    "\n",
    "            if((new_function_value > (current_function_value + increment_value))):\n",
    "                alpha = alpha * rho\n",
    "            else:\n",
    "                break_inner_loop = True\n",
    "     \n",
    "\n",
    "        new_point = current_point + alpha*p\n",
    "        current_point = new_point.copy()\n",
    "        iterates.append(current_point)\n",
    "        if np.linalg.norm(current_point-previous_point) < 0.00001:\n",
    "            break\n",
    "    return iterations,iterates\n"
   ]
  },
  {
   "cell_type": "code",
   "execution_count": 13,
   "metadata": {},
   "outputs": [],
   "source": [
    "initial_point = np.array([[2.0],[2.0]],dtype=np.float64)\n",
    "iterations , iterates = steepest_descent(initial_point=initial_point,function='f2')"
   ]
  },
  {
   "cell_type": "code",
   "execution_count": 6,
   "metadata": {},
   "outputs": [],
   "source": [
    "def newtons_method(initial_point,function = 'f1'):\n",
    "\n",
    "    fun = f1 if function == 'f1' else f2\n",
    "    gradient_fun = gradient_f1 if function == 'f1' else gradient_f2\n",
    "    hessian_fun = hessian_f1 if function =='f1' else hessian_f2\n",
    "    current_point = initial_point.copy()\n",
    "    \n",
    "    iterations = 0\n",
    "    iterates = []\n",
    "    iterates.append(current_point)\n",
    "    c = 0.0001\n",
    "    rho = 0.9\n",
    "\n",
    "    while True:        \n",
    "        iterations+=1\n",
    "        gradient = gradient_fun(current_point)\n",
    "        hessian = hessian_fun(current_point)\n",
    "        m = np.matmul(np.linalg.inv(hessian),gradient)\n",
    "        p = -m\n",
    "        \n",
    "        break_inner_loop = False\n",
    "        alpha  = np.float64(1.0)\n",
    "\n",
    "\n",
    "        \n",
    "        \n",
    "        current_x = np.float64(current_point[0][0])\n",
    "        current_y = np.float64(current_point[1][0])\n",
    "\n",
    "        current_function_value = np.float64(fun(current_x,current_y).squeeze()) \n",
    "        \n",
    "        while not break_inner_loop:\n",
    "            new_point = current_point + alpha*p\n",
    "            new_x = np.float64(new_point[0][0])\n",
    "            new_y = np.float64(new_point[1][0])\n",
    "\n",
    "            new_function_value = np.float64(fun(new_x,new_y).squeeze())\n",
    "\n",
    "            increment_value = np.float64(((c*alpha)*np.dot(gradient.T,p)).squeeze())\n",
    "            second_order_term = (c*(alpha*alpha/2)*(np.matmul(np.matmul(p.T,hessian),p))).squeeze()\n",
    "            increment_value += np.float64(second_order_term)\n",
    "            \n",
    "            if((new_function_value > (current_function_value + increment_value))):\n",
    "                alpha = alpha * rho\n",
    "            else:\n",
    "                break_inner_loop = True\n",
    "      \n",
    "        \n",
    "        previous_point = current_point.copy() \n",
    "        new_point = current_point + alpha*p\n",
    "        current_point = new_point.copy()\n",
    "        iterates.append(current_point)\n",
    "        if np.linalg.norm(current_point-previous_point) < 0.00001:\n",
    "            break\n",
    "    \n",
    "    return iterations,iterates"
   ]
  },
  {
   "cell_type": "code",
   "execution_count": 7,
   "metadata": {},
   "outputs": [],
   "source": [
    "initial_point = np.array([[2.0],[0.0]],dtype=np.float64)\n",
    "iterations , iterates = newtons_method(initial_point=initial_point,function='f2')"
   ]
  },
  {
   "cell_type": "code",
   "execution_count": 14,
   "metadata": {},
   "outputs": [
    {
     "name": "stdout",
     "output_type": "stream",
     "text": [
      "[array([[2.],\n",
      "       [2.]]), array([[1.29289322],\n",
      "       [1.29289322]]), array([[0.58578644],\n",
      "       [0.58578644]]), array([[-0.12132034],\n",
      "       [-0.12132034]]), array([[0.10057726],\n",
      "       [0.10057726]]), array([[-0.09913058],\n",
      "       [-0.09913058]]), array([[0.08060647],\n",
      "       [0.08060647]]), array([[-0.06498054],\n",
      "       [-0.06498054]]), array([[0.05294494],\n",
      "       [0.05294494]]), array([[-0.0425747],\n",
      "       [-0.0425747]]), array([[0.03479621],\n",
      "       [0.03479621]]), array([[-0.02787423],\n",
      "       [-0.02787423]]), array([[0.02288883],\n",
      "       [0.02288883]]), array([[-0.02279792],\n",
      "       [-0.02279792]]), array([[0.01832015],\n",
      "       [0.01832015]]), array([[-0.01498549],\n",
      "       [-0.01498549]]), array([[0.01199208],\n",
      "       [0.01199208]]), array([[-0.00985975],\n",
      "       [-0.00985975]]), array([[0.0098069],\n",
      "       [0.0098069]]), array([[-0.00789309],\n",
      "       [-0.00789309]]), array([[0.0064439],\n",
      "       [0.0064439]]), array([[-0.00516906],\n",
      "       [-0.00516906]]), array([[0.00423744],\n",
      "       [0.00423744]]), array([[-0.00422841],\n",
      "       [-0.00422841]]), array([[0.00339085],\n",
      "       [0.00339085]]), array([[-0.00278075],\n",
      "       [-0.00278075]]), array([[0.00277369],\n",
      "       [0.00277369]]), array([[-0.00222531],\n",
      "       [-0.00222531]]), array([[0.00182388],\n",
      "       [0.00182388]]), array([[-0.00182039],\n",
      "       [-0.00182039]]), array([[0.00145946],\n",
      "       [0.00145946]]), array([[-0.00119722],\n",
      "       [-0.00119722]]), array([[0.00119379],\n",
      "       [0.00119379]]), array([[-0.00095812],\n",
      "       [-0.00095812]]), array([[0.00078493],\n",
      "       [0.00078493]]), array([[-0.00078381],\n",
      "       [-0.00078381]]), array([[0.00062805],\n",
      "       [0.00062805]]), array([[-0.00051556],\n",
      "       [-0.00051556]]), array([[0.00051369],\n",
      "       [0.00051369]]), array([[-0.00041263],\n",
      "       [-0.00041263]]), array([[0.00033769],\n",
      "       [0.00033769]]), array([[-0.0003376],\n",
      "       [-0.0003376]]), array([[0.00027016],\n",
      "       [0.00027016]]), array([[-0.00022213],\n",
      "       [-0.00022213]]), array([[0.00022093],\n",
      "       [0.00022093]]), array([[-0.00017782],\n",
      "       [-0.00017782]]), array([[0.00014517],\n",
      "       [0.00014517]]), array([[-0.00011645],\n",
      "       [-0.00011645]]), array([[9.54613914e-05],\n",
      "       [9.54613914e-05]]), array([[-9.5260585e-05],\n",
      "       [-9.5260585e-05]]), array([[7.63891937e-05],\n",
      "       [7.63891937e-05]]), array([[-6.2647127e-05],\n",
      "       [-6.2647127e-05]]), array([[6.24855616e-05],\n",
      "       [6.24855616e-05]]), array([[-5.01338582e-05],\n",
      "       [-5.01338582e-05]]), array([[4.10878719e-05],\n",
      "       [4.10878719e-05]]), array([[-4.10116852e-05],\n",
      "       [-4.10116852e-05]]), array([[3.28779162e-05],\n",
      "       [3.28779162e-05]]), array([[-2.69726609e-05],\n",
      "       [-2.69726609e-05]]), array([[2.68928585e-05],\n",
      "       [2.68928585e-05]]), array([[-2.1586109e-05],\n",
      "       [-2.1586109e-05]]), array([[1.76818547e-05],\n",
      "       [1.76818547e-05]]), array([[-1.76593126e-05],\n",
      "       [-1.76593126e-05]]), array([[1.41477379e-05],\n",
      "       [1.41477379e-05]]), array([[-1.1615973e-05],\n",
      "       [-1.1615973e-05]]), array([[1.15713668e-05],\n",
      "       [1.15713668e-05]]), array([[-9.29723902e-06],\n",
      "       [-9.29723902e-06]]), array([[7.60633172e-06],\n",
      "       [7.60633172e-06]]), array([[-6.08556058e-06],\n",
      "       [-6.08556058e-06]]), array([[5.00487219e-06],\n",
      "       [5.00487219e-06]]), array([[-4.9765173e-06],\n",
      "       [-4.9765173e-06]]), array([[4.00673324e-06],\n",
      "       [4.00673324e-06]]), array([[-3.2696997e-06],\n",
      "       [-3.2696997e-06]]), array([[2.62421098e-06],\n",
      "       [2.62421098e-06]])]\n"
     ]
    },
    {
     "data": {
      "image/png": "[encoded data removed]",
      "text/plain": [
       "<Figure size 432x288 with 2 Axes>"
      ]
     },
     "metadata": {
      "needs_background": "light"
     },
     "output_type": "display_data"
    }
   ],
   "source": [
    "\n",
    "\n",
    "\n",
    "\n",
    "\n",
    "\n",
    "def plot(function,iterations,iterates):\n",
    "    \n",
    "    if function == 'f1':\n",
    "        fun = f1\n",
    "    else:\n",
    "        fun = f2\n",
    "\n",
    "    res = 1000\n",
    "    x_values = np.linspace(2.1,-2.1,res)\n",
    "    y_values = np.linspace(2.1,-2.1,res)\n",
    "    \n",
    "    X,Y = np.meshgrid(x_values,y_values)\n",
    "\n",
    "    Z = np.zeros((res,res))\n",
    "    for i in range(len(X[0])):\n",
    "        for j in range(len(Y[:,0])):\n",
    "            z_value = fun(X[0,i],Y[j,0])\n",
    "            Z[i][j] = z_value\n",
    "    fig,ax=plt.subplots(1,1)\n",
    "    cp = ax.contourf(X, Y, Z)\n",
    "    fig.colorbar(cp) \n",
    "    ax.set_title('Contour Plot')\n",
    "    plt.plot(iterates[0][0,0],iterates[0][1,0],'ro')\n",
    "    for i in range(1,len(iterates)):\n",
    "        plt.arrow(iterates[i-1][0,0],iterates[i-1][1,0],dx = iterates[i][0,0] - iterates[i-1][0,0] ,dy = iterates[i][1,0] - iterates[i-1][1,0],width=0.01,head_width = 0.09)\n",
    "    plt.plot(iterates[len(iterates)-1][0,0], iterates[len(iterates)-1][1,0],'go',linewidth=0.1)\n",
    "    plt.show()\n",
    "            \n",
    "    \n",
    "\n",
    "print(iterates)\n",
    "    \n",
    "plot(function='f2',iterates= iterates, iterations =iterations)"
   ]
  },
  {
   "cell_type": "code",
   "execution_count": 11,
   "metadata": {},
   "outputs": [
    {
     "data": {
      "text/plain": [
       "(2,\n",
       " [array([[2.],\n",
       "         [2.]]),\n",
       "  array([[0.],\n",
       "         [0.]]),\n",
       "  array([[0.],\n",
       "         [0.]])])"
      ]
     },
     "execution_count": 11,
     "metadata": {},
     "output_type": "execute_result"
    }
   ],
   "source": []
  },
  {
   "cell_type": "code",
   "execution_count": null,
   "metadata": {},
   "outputs": [],
   "source": [
    "initial_point = np.array([[150.0],[20.0]],dtype=np.float64)\n",
    "newtons_method(initial_point,function='f2')"
   ]
  },
  {
   "cell_type": "code",
   "execution_count": null,
   "metadata": {},
   "outputs": [],
   "source": []
  },
  {
   "cell_type": "code",
   "execution_count": null,
   "metadata": {},
   "outputs": [],
   "source": []
  },
  {
   "cell_type": "markdown",
   "metadata": {},
   "source": [
    "### Question 3"
   ]
  },
  {
   "cell_type": "code",
   "execution_count": null,
   "metadata": {},
   "outputs": [],
   "source": []
  },
  {
   "cell_type": "code",
   "execution_count": null,
   "metadata": {},
   "outputs": [],
   "source": []
  },
  {
   "cell_type": "code",
   "execution_count": null,
   "metadata": {},
   "outputs": [],
   "source": []
  },
  {
   "cell_type": "code",
   "execution_count": null,
   "metadata": {},
   "outputs": [],
   "source": []
  },
  {
   "cell_type": "markdown",
   "metadata": {},
   "source": [
    "### Seperator"
   ]
  },
  {
   "cell_type": "code",
   "execution_count": 8,
   "metadata": {},
   "outputs": [],
   "source": [
    "import pandas as pd\n",
    "\n",
    "dataframe = pd.read_csv('./data/state_wise_daily.csv')"
   ]
  },
  {
   "cell_type": "code",
   "execution_count": 9,
   "metadata": {},
   "outputs": [],
   "source": [
    "summed_data = dataframe.sum(axis=1,numeric_only=True)"
   ]
  },
  {
   "cell_type": "code",
   "execution_count": 10,
   "metadata": {},
   "outputs": [],
   "source": [
    "infected_indices = [3*i for i in range(int(len(summed_data)/3))]\n",
    "indices = [ 3*i+1 for i in range(int(len(summed_data)/3)) ]\n",
    "indices =  indices +  [ 3*i+2 for i in range(int(len(summed_data)/3)) ]\n",
    "indices = sorted(indices)\n"
   ]
  },
  {
   "cell_type": "code",
   "execution_count": 11,
   "metadata": {},
   "outputs": [],
   "source": [
    "recovered_deceased = summed_data[indices]\n",
    "recovered_dup = recovered_deceased.groupby(recovered_deceased.index//3).transform('sum')\n",
    "rec_indices = [ 3*i + 1 for i in range(int(len(recovered_dup)//2))]\n",
    "recovered = recovered_dup[rec_indices]\n",
    "recovered = recovered.reset_index(drop = True)\n"
   ]
  },
  {
   "cell_type": "code",
   "execution_count": 12,
   "metadata": {},
   "outputs": [],
   "source": [
    "infected = summed_data[infected_indices]\n",
    "infected = infected.reset_index(drop=True)"
   ]
  },
  {
   "cell_type": "code",
   "execution_count": 13,
   "metadata": {},
   "outputs": [],
   "source": [
    "new_dataframe = pd.DataFrame({'infected' :  infected , 'recovered' : recovered})\n",
    "time_series = new_dataframe.index.array"
   ]
  },
  {
   "cell_type": "code",
   "execution_count": null,
   "metadata": {},
   "outputs": [],
   "source": []
  },
  {
   "cell_type": "code",
   "execution_count": 14,
   "metadata": {},
   "outputs": [],
   "source": [
    "time_series_df = pd.DataFrame()\n",
    "time_series_df.insert(0,\"time\",time_series)\n",
    "\n",
    "time_series_df[\"S(t)\"] = 0\n",
    "time_series_df[\"I(t)\"] = 0\n",
    "time_series_df.insert(3,\"R(t)\",new_dataframe['recovered'].cumsum())\n"
   ]
  },
  {
   "cell_type": "code",
   "execution_count": 15,
   "metadata": {},
   "outputs": [],
   "source": [
    "population = 130 * (10**7)\n",
    "time_series_df.loc[0,\"I(t)\"] =  new_dataframe.loc[0,'infected']\n",
    "time_series_df.loc[0,\"S(t)\"] =  population - new_dataframe.loc[0,'infected'] - new_dataframe.loc[0,'recovered']\n",
    "\n",
    "for i in range(1,len(new_dataframe)):\n",
    "    \n",
    "    time_series_df.loc[i,\"I(t)\"] = time_series_df.loc[i-1,\"I(t)\"] + new_dataframe.loc[i,'infected'] - new_dataframe.loc[i,'recovered']\n",
    "    time_series_df.loc[i,\"S(t)\"] = population - time_series_df.loc[i,\"I(t)\"] - time_series_df.loc[i,\"R(t)\"]\n",
    " "
   ]
  },
  {
   "cell_type": "code",
   "execution_count": 16,
   "metadata": {},
   "outputs": [
    {
     "data": {
      "image/png": "[encoded data removed]",
      "text/plain": [
       "<Figure size 1080x288 with 3 Axes>"
      ]
     },
     "metadata": {
      "needs_background": "light"
     },
     "output_type": "display_data"
    }
   ],
   "source": [
    "\n",
    "figure,axes = plt.subplots(1,3)\n",
    "figure.set_figwidth(15)\n",
    "\n",
    "axes[0].plot(time_series_df['time'],time_series_df['S(t)'] ,color='b', label = 'S(t)')\n",
    "axes[1].plot(time_series_df['time'],time_series_df['R(t)'] ,color='g', label = 'R(t)')\n",
    "axes[2].plot(time_series_df['time'],time_series_df['I(t)'] ,color='r', label = 'I(t)')\n",
    "plt.show()"
   ]
  },
  {
   "cell_type": "code",
   "execution_count": 43,
   "metadata": {},
   "outputs": [],
   "source": []
  },
  {
   "cell_type": "code",
   "execution_count": 44,
   "metadata": {},
   "outputs": [
    {
     "data": {
      "text/plain": [
       "1300000000"
      ]
     },
     "execution_count": 44,
     "metadata": {},
     "output_type": "execute_result"
    }
   ],
   "source": [
    "population"
   ]
  },
  {
   "cell_type": "code",
   "execution_count": null,
   "metadata": {},
   "outputs": [],
   "source": []
  }
 ],
 "metadata": {
  "kernelspec": {
   "display_name": "Python 3.9.13 64-bit",
   "language": "python",
   "name": "python3"
  },
  "language_info": {
   "codemirror_mode": {
    "name": "ipython",
    "version": 3
   },
   "file_extension": ".py",
   "mimetype": "text/x-python",
   "name": "python",
   "nbconvert_exporter": "python",
   "pygments_lexer": "ipython3",
   "version": "3.9.13"
  },
  "orig_nbformat": 4,
  "vscode": {
   "interpreter": {
    "hash": "d1b0110cf1cb03549be737c5657a86ea4daeeb81469a7991ed915d907f3e629c"
   }
  }
 },
 "nbformat": 4,
 "nbformat_minor": 2
}
