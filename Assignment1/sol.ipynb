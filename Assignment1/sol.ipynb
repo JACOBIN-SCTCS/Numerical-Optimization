{
 "cells": [
  {
   "cell_type": "code",
   "execution_count": 1,
   "metadata": {},
   "outputs": [],
   "source": [
    "import numpy as np\n",
    "import matplotlib.pyplot as plt"
   ]
  },
  {
   "cell_type": "code",
   "execution_count": 2,
   "metadata": {},
   "outputs": [],
   "source": [
    "def squared_norm(x):\n",
    "    x_val = np.float64(x[0][0])\n",
    "    y_val = np.float64(x[1][0])\n",
    "    return x_val*x_val + y_val*y_val\n",
    "\n",
    "def norm(x):\n",
    "    return np.sqrt(squared_norm(x))\n",
    "\n",
    "def get_unit_vector(x):\n",
    "    norm_value = norm(x)\n",
    "    if norm_value == np.float64(0.0):\n",
    "        return x\n",
    "    return (x/norm_value).copy()"
   ]
  },
  {
   "cell_type": "code",
   "execution_count": 3,
   "metadata": {},
   "outputs": [],
   "source": [
    "def f1(x):\n",
    "    A = np.array([[1,0],[0,1]])\n",
    "    h = np.matmul(x.T,A)\n",
    "    return 0.5*np.matmul(h,x)\n",
    "\n",
    "def f2(x):\n",
    "    A = np.array([[10,8],[8,10]])\n",
    "    h = np.matmul(x.T,A)\n",
    "    return 0.5*np.matmul(h,x)\n",
    "    \n",
    "def gradient_f1(x):\n",
    "    x_value = np.float64(x[0][0])\n",
    "    y_value = np.float64(x[1][0])\n",
    "    return np.array([[x_value],[y_value]])\n",
    "\n",
    "def gradient_f2(x):\n",
    "    x_value = np.float64(x[0][0])\n",
    "    y_value = np.float64(x[1][0])\n",
    "    return np.array([[10*x_value + 8 *y_value],[10*y_value + 8 * x_value]])\n",
    "\n",
    "def hessian_f1(x):\n",
    "    return np.array([[1,0],[0,1]])\n",
    "\n",
    "def hessian_f2(x):\n",
    "    return np.array([[10,8],[8,10]])\n",
    "\n"
   ]
  },
  {
   "cell_type": "code",
   "execution_count": 4,
   "metadata": {},
   "outputs": [],
   "source": [
    "def steepest_descent(initial_point,function='f1'):\n",
    "\n",
    "    #initial_point = np.array([[2.0],[0.0]],dtype=np.float64)\n",
    "    fun = f1 if function == 'f1' else f2\n",
    "    gradient_fun = gradient_f1 if function == 'f1' else gradient_f2\n",
    "\n",
    "    current_point = initial_point.copy()\n",
    "    \n",
    "    c = 0.0001\n",
    "    rho = 0.9\n",
    "    iterations = 0\n",
    "    iterates = []\n",
    "\n",
    "    iterates.append(current_point)\n",
    "\n",
    "    while True:        \n",
    "        \n",
    "        iterations += 1\n",
    "        gradient = gradient_fun(current_point)\n",
    "        p = -get_unit_vector(gradient)            \n",
    "        alpha  = np.float64(1.0)\n",
    "        previous_point = current_point.copy() \n",
    "        break_inner_loop = False\n",
    "    \n",
    "        current_function_value = np.float64(fun(current_point).squeeze()) \n",
    "        while not break_inner_loop:\n",
    "            new_point = current_point + alpha*p\n",
    "\n",
    "            new_function_value = np.float64(fun(new_point).squeeze())\n",
    "            increment_value = np.float64(((c*alpha)*np.dot(gradient.T,p)).squeeze())\n",
    "\n",
    "            if((new_function_value > (current_function_value + increment_value))):\n",
    "                alpha = alpha * rho\n",
    "            else:\n",
    "                break_inner_loop = True\n",
    "     \n",
    "\n",
    "        new_point = current_point + alpha*p\n",
    "        current_point = new_point.copy()\n",
    "        iterates.append(current_point)\n",
    "        if np.linalg.norm(current_point-previous_point) < 0.00001:\n",
    "            break\n",
    "    return iterations,iterates\n"
   ]
  },
  {
   "cell_type": "code",
   "execution_count": 5,
   "metadata": {},
   "outputs": [],
   "source": [
    "def newtons_method(initial_point,function = 'f1'):\n",
    "\n",
    "    fun = f1 if function == 'f1' else f2\n",
    "    gradient_fun = gradient_f1 if function == 'f1' else gradient_f2\n",
    "    hessian_fun = hessian_f1 if function =='f1' else hessian_f2\n",
    "    current_point = initial_point.copy()\n",
    "    \n",
    "    iterations = 0\n",
    "    iterates = []\n",
    "    iterates.append(current_point)\n",
    "    c = 0.0001\n",
    "    rho = 0.9\n",
    "\n",
    "    while True:        \n",
    "        iterations+=1\n",
    "        gradient = gradient_fun(current_point)\n",
    "        hessian = hessian_fun(current_point)\n",
    "        m = np.matmul(np.linalg.inv(hessian),gradient)\n",
    "        p = -m\n",
    "        \n",
    "        break_inner_loop = False\n",
    "        alpha  = np.float64(1.0)\n",
    "\n",
    "\n",
    "        current_function_value = np.float64(fun(current_point).squeeze()) \n",
    "        while not break_inner_loop:\n",
    "            new_point = current_point + alpha*p\n",
    "\n",
    "            new_function_value = np.float64(fun(new_point).squeeze())\n",
    "            increment_value = np.float64(((c*alpha)*np.dot(gradient.T,p)).squeeze())\n",
    "            second_order_term = (c*(alpha*alpha/2)*(np.matmul(np.matmul(p.T,hessian),p))).squeeze()\n",
    "            increment_value += np.float64(second_order_term)\n",
    "            \n",
    "            if((new_function_value > (current_function_value + increment_value))):\n",
    "                alpha = alpha * rho\n",
    "            else:\n",
    "                break_inner_loop = True\n",
    "      \n",
    "        \n",
    "        previous_point = current_point.copy() \n",
    "        new_point = current_point + alpha*p\n",
    "        current_point = new_point.copy()\n",
    "        iterates.append(current_point)\n",
    "        if np.linalg.norm(current_point-previous_point) < 0.00001:\n",
    "            break\n",
    "    \n",
    "    return iterations,iterates"
   ]
  },
  {
   "cell_type": "code",
   "execution_count": null,
   "metadata": {},
   "outputs": [],
   "source": [
    "\n",
    "\n",
    "\n"
   ]
  },
  {
   "cell_type": "code",
   "execution_count": 12,
   "metadata": {},
   "outputs": [
    {
     "data": {
      "text/plain": [
       "(2,\n",
       " [array([[150.],\n",
       "         [ 20.]]),\n",
       "  array([[0.00000000e+00],\n",
       "         [7.10542736e-15]]),\n",
       "  array([[3.94430453e-31],\n",
       "         [0.00000000e+00]])])"
      ]
     },
     "execution_count": 12,
     "metadata": {},
     "output_type": "execute_result"
    }
   ],
   "source": [
    "initial_point = np.array([[150.0],[20.0]],dtype=np.float64)\n",
    "newtons_method(initial_point,function='f2')"
   ]
  },
  {
   "cell_type": "markdown",
   "metadata": {},
   "source": [
    "### Seperator"
   ]
  },
  {
   "cell_type": "code",
   "execution_count": null,
   "metadata": {},
   "outputs": [],
   "source": [
    "import pandas as pd\n",
    "\n",
    "dataframe = pd.read_csv('./data/state_wise_daily.csv')"
   ]
  },
  {
   "cell_type": "code",
   "execution_count": null,
   "metadata": {},
   "outputs": [],
   "source": [
    "summed_data = dataframe.sum(axis=1,numeric_only=True)"
   ]
  },
  {
   "cell_type": "code",
   "execution_count": null,
   "metadata": {},
   "outputs": [],
   "source": [
    "infected_indices = [3*i for i in range(int(len(summed_data)/3))]\n",
    "indices = [ 3*i+1 for i in range(int(len(summed_data)/3)) ]\n",
    "indices =  indices +  [ 3*i+2 for i in range(int(len(summed_data)/3)) ]\n",
    "indices = sorted(indices)\n"
   ]
  },
  {
   "cell_type": "code",
   "execution_count": null,
   "metadata": {},
   "outputs": [],
   "source": [
    "recovered_deceased = summed_data[indices]\n",
    "recovered_dup = recovered_deceased.groupby(recovered_deceased.index//3).transform('sum')\n",
    "rec_indices = [ 3*i + 1 for i in range(int(len(recovered_dup)//2))]\n",
    "recovered = recovered_dup[rec_indices]\n",
    "recovered = recovered.reset_index(drop = True)\n"
   ]
  },
  {
   "cell_type": "code",
   "execution_count": null,
   "metadata": {},
   "outputs": [],
   "source": [
    "infected = summed_data[infected_indices]\n",
    "infected = infected.reset_index(drop=True)"
   ]
  },
  {
   "cell_type": "code",
   "execution_count": null,
   "metadata": {},
   "outputs": [],
   "source": [
    "new_dataframe = pd.DataFrame({'infected' :  infected , 'recovered' : recovered})"
   ]
  },
  {
   "cell_type": "code",
   "execution_count": null,
   "metadata": {},
   "outputs": [],
   "source": [
    "new_dataframe"
   ]
  },
  {
   "cell_type": "code",
   "execution_count": null,
   "metadata": {},
   "outputs": [],
   "source": []
  },
  {
   "cell_type": "code",
   "execution_count": null,
   "metadata": {},
   "outputs": [],
   "source": []
  }
 ],
 "metadata": {
  "kernelspec": {
   "display_name": "Python 3.9.13 64-bit",
   "language": "python",
   "name": "python3"
  },
  "language_info": {
   "codemirror_mode": {
    "name": "ipython",
    "version": 3
   },
   "file_extension": ".py",
   "mimetype": "text/x-python",
   "name": "python",
   "nbconvert_exporter": "python",
   "pygments_lexer": "ipython3",
   "version": "3.9.13"
  },
  "orig_nbformat": 4,
  "vscode": {
   "interpreter": {
    "hash": "d1b0110cf1cb03549be737c5657a86ea4daeeb81469a7991ed915d907f3e629c"
   }
  }
 },
 "nbformat": 4,
 "nbformat_minor": 2
}
