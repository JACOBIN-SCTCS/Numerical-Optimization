{
 "cells": [
  {
   "cell_type": "markdown",
   "metadata": {},
   "source": [
    "## Question 2"
   ]
  },
  {
   "cell_type": "code",
   "execution_count": 12,
   "metadata": {},
   "outputs": [
    {
     "name": "stderr",
     "output_type": "stream",
     "text": [
      "<frozen importlib._bootstrap>:228: RuntimeWarning: scipy._lib.messagestream.MessageStream size changed, may indicate binary incompatibility. Expected 56 from C header, got 64 from PyObject\n"
     ]
    }
   ],
   "source": [
    "import numpy as np\n",
    "import matplotlib.pyplot as plt\n",
    "from scipy.optimize import nnls\n",
    "from scipy.optimize import line_search"
   ]
  },
  {
   "cell_type": "code",
   "execution_count": null,
   "metadata": {},
   "outputs": [],
   "source": [
    "def squared_norm(x):\n",
    "    x_val = np.float64(x[0][0])\n",
    "    y_val = np.float64(x[1][0])\n",
    "    return x_val*x_val + y_val*y_val\n",
    "\n",
    "def norm(x):\n",
    "    return np.sqrt(squared_norm(x))\n",
    "\n",
    "def get_unit_vector(x):\n",
    "    norm_value = norm(x)\n",
    "    if norm_value == np.float64(0.0):\n",
    "        return x\n",
    "    return (x/norm_value).copy()"
   ]
  },
  {
   "cell_type": "code",
   "execution_count": null,
   "metadata": {},
   "outputs": [],
   "source": [
    "def f1(x,y):\n",
    "    vec = np.array([[x],[y]])\n",
    "    A = np.array([[1,0],[0,1]])\n",
    "    h = np.matmul(vec.T,A)\n",
    "    return 0.5*np.matmul(h,vec)\n",
    "\n",
    "def f2(x,y):\n",
    "    vec = np.array([[x],[y]])\n",
    "    A = np.array([[10,8],[8,10]])\n",
    "    h = np.matmul(vec.T,A)\n",
    "    return 0.5*np.matmul(h,vec)\n",
    "    \n",
    "def gradient_f1(x):\n",
    "    x_value = np.float64(x[0][0])\n",
    "    y_value = np.float64(x[1][0])\n",
    "    return np.array([[x_value],[y_value]])\n",
    "\n",
    "def gradient_f2(x):\n",
    "    x_value = np.float64(x[0][0])\n",
    "    y_value = np.float64(x[1][0])\n",
    "    return np.array([[10*x_value + 8 *y_value],[10*y_value + 8 * x_value]])\n",
    "\n",
    "def hessian_f1(x):\n",
    "    return np.array([[1,0],[0,1]])\n",
    "\n",
    "def hessian_f2(x):\n",
    "    return np.array([[10,8],[8,10]])\n",
    "\n"
   ]
  },
  {
   "cell_type": "code",
   "execution_count": null,
   "metadata": {},
   "outputs": [],
   "source": [
    "def steepest_descent(initial_point,function='f1'):\n",
    "\n",
    "    #initial_point = np.array([[2.0],[0.0]],dtype=np.float64)\n",
    "    fun = f1 if function == 'f1' else f2\n",
    "    gradient_fun = gradient_f1 if function == 'f1' else gradient_f2\n",
    "\n",
    "    current_point = initial_point.copy()\n",
    "    \n",
    "    c = 0.0001\n",
    "    rho = 0.9\n",
    "    iterations = 0\n",
    "    iterates = []\n",
    "\n",
    "    iterates.append(current_point)\n",
    "\n",
    "    while True:        \n",
    "        \n",
    "        iterations += 1\n",
    "        gradient = gradient_fun(current_point)\n",
    "        p = -get_unit_vector(gradient)            \n",
    "        alpha  = np.float64(1.0)\n",
    "        previous_point = current_point.copy() \n",
    "        break_inner_loop = False\n",
    "    \n",
    "        current_x = np.float64(current_point[0][0])\n",
    "        current_y = np.float64(current_point[1][0])\n",
    "\n",
    "        current_function_value = np.float64(fun(current_x,current_y).squeeze()) \n",
    "        while not break_inner_loop:\n",
    "            \n",
    "            new_point = current_point + alpha*p\n",
    "\n",
    "            new_x = np.float64(new_point[0][0])\n",
    "            new_y = np.float64(new_point[1][0])\n",
    "\n",
    "            new_function_value = np.float64(fun(new_x,new_y).squeeze())\n",
    "            increment_value = np.float64(((c*alpha)*np.dot(gradient.T,p)).squeeze())\n",
    "\n",
    "            if((new_function_value > (current_function_value + increment_value))):\n",
    "                alpha = alpha * rho\n",
    "            else:\n",
    "                break_inner_loop = True\n",
    "     \n",
    "\n",
    "        new_point = current_point + alpha*p\n",
    "        current_point = new_point.copy()\n",
    "        iterates.append(current_point)\n",
    "        if np.linalg.norm(current_point-previous_point) < 0.00001:\n",
    "            break\n",
    "    return iterations,iterates\n"
   ]
  },
  {
   "cell_type": "code",
   "execution_count": null,
   "metadata": {},
   "outputs": [],
   "source": [
    "initial_point = np.array([[2.0],[2.0]],dtype=np.float64)\n",
    "iterations , iterates = steepest_descent(initial_point=initial_point,function='f2')"
   ]
  },
  {
   "cell_type": "code",
   "execution_count": null,
   "metadata": {},
   "outputs": [],
   "source": [
    "def newtons_method(initial_point,function = 'f1'):\n",
    "\n",
    "    fun = f1 if function == 'f1' else f2\n",
    "    gradient_fun = gradient_f1 if function == 'f1' else gradient_f2\n",
    "    hessian_fun = hessian_f1 if function =='f1' else hessian_f2\n",
    "    current_point = initial_point.copy()\n",
    "    \n",
    "    iterations = 0\n",
    "    iterates = []\n",
    "    iterates.append(current_point)\n",
    "    c = 0.0001\n",
    "    rho = 0.9\n",
    "\n",
    "    while True:        \n",
    "        iterations+=1\n",
    "        gradient = gradient_fun(current_point)\n",
    "        hessian = hessian_fun(current_point)\n",
    "        m = np.matmul(np.linalg.inv(hessian),gradient)\n",
    "        p = -m\n",
    "        \n",
    "        break_inner_loop = False\n",
    "        alpha  = np.float64(1.0)\n",
    " \n",
    "        current_x = np.float64(current_point[0][0])\n",
    "        current_y = np.float64(current_point[1][0])\n",
    "\n",
    "        current_function_value = np.float64(fun(current_x,current_y).squeeze()) \n",
    "        \n",
    "        while not break_inner_loop:\n",
    "            new_point = current_point + alpha*p\n",
    "            new_x = np.float64(new_point[0][0])\n",
    "            new_y = np.float64(new_point[1][0])\n",
    "\n",
    "            new_function_value = np.float64(fun(new_x,new_y).squeeze())\n",
    "\n",
    "            increment_value = np.float64(((c*alpha)*np.dot(gradient.T,p)).squeeze())\n",
    "            second_order_term = (c*(alpha*alpha/2)*(np.matmul(np.matmul(p.T,hessian),p))).squeeze()\n",
    "            increment_value += np.float64(second_order_term)\n",
    "            \n",
    "            if((new_function_value > (current_function_value + increment_value))):\n",
    "                alpha = alpha * rho\n",
    "            else:\n",
    "                break_inner_loop = True\n",
    "      \n",
    "        \n",
    "        previous_point = current_point.copy() \n",
    "        new_point = current_point + alpha*p\n",
    "        current_point = new_point.copy()\n",
    "        iterates.append(current_point)\n",
    "        if np.linalg.norm(current_point-previous_point) < 0.00001:\n",
    "            break\n",
    "    \n",
    "    return iterations,iterates"
   ]
  },
  {
   "cell_type": "code",
   "execution_count": null,
   "metadata": {},
   "outputs": [],
   "source": [
    "initial_point = np.array([[2.0],[0.0]],dtype=np.float64)\n",
    "iterations , iterates = newtons_method(initial_point=initial_point,function='f2')"
   ]
  },
  {
   "cell_type": "code",
   "execution_count": null,
   "metadata": {},
   "outputs": [],
   "source": [
    "def plot(function,iterations,iterates):\n",
    "    \n",
    "    if function == 'f1':\n",
    "        fun = f1\n",
    "    else:\n",
    "        fun = f2\n",
    "\n",
    "    res = 1000\n",
    "    x_values = np.linspace(2.1,-2.1,res)\n",
    "    y_values = np.linspace(2.1,-2.1,res)\n",
    "    \n",
    "    X,Y = np.meshgrid(x_values,y_values)\n",
    "\n",
    "    Z = np.zeros((res,res))\n",
    "    for i in range(len(X[0])):\n",
    "        for j in range(len(Y[:,0])):\n",
    "            z_value = fun(X[0,i],Y[j,0])\n",
    "            Z[i][j] = z_value\n",
    "    fig,ax=plt.subplots(1,1)\n",
    "    cp = ax.contourf(X, Y, Z)\n",
    "    fig.colorbar(cp) \n",
    "    ax.set_title('Contour Plot')\n",
    "    plt.plot(iterates[0][0,0],iterates[0][1,0],'ro')\n",
    "    for i in range(1,len(iterates)):\n",
    "        plt.arrow(iterates[i-1][0,0],iterates[i-1][1,0],dx = iterates[i][0,0] - iterates[i-1][0,0] ,dy = iterates[i][1,0] - iterates[i-1][1,0],width=0.01,head_width = 0.09)\n",
    "    plt.plot(iterates[len(iterates)-1][0,0], iterates[len(iterates)-1][1,0],'go',linewidth=0.1)\n",
    "    plt.show()\n",
    "            \n",
    "    \n",
    "\n",
    "print(iterates)\n",
    "    \n",
    "plot(function='f2',iterates= iterates, iterations =iterations)"
   ]
  },
  {
   "cell_type": "code",
   "execution_count": null,
   "metadata": {},
   "outputs": [],
   "source": []
  },
  {
   "cell_type": "code",
   "execution_count": null,
   "metadata": {},
   "outputs": [],
   "source": [
    "initial_point = np.array([[150.0],[20.0]],dtype=np.float64)\n",
    "newtons_method(initial_point,function='f2')"
   ]
  },
  {
   "cell_type": "code",
   "execution_count": null,
   "metadata": {},
   "outputs": [],
   "source": []
  },
  {
   "cell_type": "code",
   "execution_count": null,
   "metadata": {},
   "outputs": [],
   "source": []
  },
  {
   "cell_type": "markdown",
   "metadata": {},
   "source": [
    "### Question 3"
   ]
  },
  {
   "cell_type": "code",
   "execution_count": null,
   "metadata": {},
   "outputs": [],
   "source": [
    "def rosenbrock(point):\n",
    "    \n",
    "    # f(x,y)=(a-x)^{2}+b(y-x^{2})^{2}\n",
    "    a = 1.0\n",
    "    b = 100.0\n",
    "    x = point[0][0]\n",
    "    y = point[1][0]\n",
    "    result = (1-x)**2\n",
    "    result += b*((y - x**2)**2)\n",
    "    return result\n",
    "\n",
    "def rosebrock_jacobian(point):\n",
    "    \n",
    "    a = 1.0\n",
    "    b = 100.0\n",
    "    x = point[0][0]\n",
    "    y = point[1][0]\n",
    "\n",
    "    result = np.zeros((2,1))\n",
    "    result[0][0] = -2.0*(a-x) - 4*b*x*(y - x**2)\n",
    "    result[1][0] = 2.0*b*(y - x**2)\n",
    "    return result\n",
    "\n",
    "\n",
    "rosebrock_jacobian(np.array([[2],[4]]))"
   ]
  },
  {
   "cell_type": "code",
   "execution_count": null,
   "metadata": {},
   "outputs": [],
   "source": [
    "def steepest_descent_rosenbrock(point):\n",
    "    pass\n",
    "\n",
    "def newton_rosenbrock(point):\n",
    "    pass\n"
   ]
  },
  {
   "cell_type": "code",
   "execution_count": null,
   "metadata": {},
   "outputs": [],
   "source": []
  },
  {
   "cell_type": "code",
   "execution_count": null,
   "metadata": {},
   "outputs": [],
   "source": []
  },
  {
   "cell_type": "markdown",
   "metadata": {},
   "source": [
    "### Seperator"
   ]
  },
  {
   "cell_type": "code",
   "execution_count": 1,
   "metadata": {},
   "outputs": [],
   "source": [
    "import pandas as pd\n",
    "\n",
    "dataframe = pd.read_csv('./data/state_wise_daily.csv')"
   ]
  },
  {
   "cell_type": "code",
   "execution_count": 2,
   "metadata": {},
   "outputs": [],
   "source": [
    "summed_data = dataframe.sum(axis=1,numeric_only=True)"
   ]
  },
  {
   "cell_type": "code",
   "execution_count": 3,
   "metadata": {},
   "outputs": [],
   "source": [
    "infected_indices = [3*i for i in range(int(len(summed_data)/3))]\n",
    "indices = [ 3*i+1 for i in range(int(len(summed_data)/3)) ]\n",
    "indices =  indices +  [ 3*i+2 for i in range(int(len(summed_data)/3)) ]\n",
    "indices = sorted(indices)\n"
   ]
  },
  {
   "cell_type": "code",
   "execution_count": 4,
   "metadata": {},
   "outputs": [
    {
     "data": {
      "text/plain": [
       "1          18\n",
       "2           4\n",
       "4           8\n",
       "5           0\n",
       "7           2\n",
       "        ...  \n",
       "1784     1102\n",
       "1786    29344\n",
       "1787      890\n",
       "1789    26304\n",
       "1790      502\n",
       "Length: 1194, dtype: int64"
      ]
     },
     "execution_count": 4,
     "metadata": {},
     "output_type": "execute_result"
    }
   ],
   "source": [
    "recovered_deceased = summed_data[indices]"
   ]
  },
  {
   "cell_type": "code",
   "execution_count": 5,
   "metadata": {},
   "outputs": [],
   "source": [
    "recovered_dup = recovered_deceased.groupby(recovered_deceased.index//3).transform('sum')\n",
    "rec_indices = [ 3*i + 1 for i in range(int(len(recovered_dup)//2))]\n",
    "recovered = recovered_dup[rec_indices]\n",
    "recovered = recovered.reset_index(drop = True)\n"
   ]
  },
  {
   "cell_type": "code",
   "execution_count": 6,
   "metadata": {},
   "outputs": [],
   "source": [
    "infected = summed_data[infected_indices]\n",
    "infected = infected.reset_index(drop=True)"
   ]
  },
  {
   "cell_type": "code",
   "execution_count": 7,
   "metadata": {},
   "outputs": [],
   "source": [
    "new_dataframe = pd.DataFrame({'infected' :  infected , 'recovered' : recovered})\n",
    "time_series = new_dataframe.index.array"
   ]
  },
  {
   "cell_type": "code",
   "execution_count": 8,
   "metadata": {},
   "outputs": [],
   "source": [
    "time_series_df = pd.DataFrame()\n",
    "time_series_df.insert(0,\"time\",time_series)\n",
    "\n",
    "time_series_df[\"S(t)\"] = 0\n",
    "time_series_df[\"I(t)\"] = 0\n",
    "time_series_df.insert(3,\"R(t)\",new_dataframe['recovered'].cumsum())\n"
   ]
  },
  {
   "cell_type": "code",
   "execution_count": 9,
   "metadata": {},
   "outputs": [],
   "source": [
    "population = 130 * (10**7)\n",
    "#time_series_df.loc[0,\"I(t)\"] =  new_dataframe.loc[0,'infected']\n",
    "#time_series_df.loc[0,\"S(t)\"] =  population - new_dataframe.loc[0,'infected'] - new_dataframe.loc[0,'recovered']\n",
    "\n",
    "time_series_df.loc[0,\"S(t)\"] = population - new_dataframe.loc[0,'infected']\n",
    "time_series_df.loc[0,\"I(t)\"] = new_dataframe.loc[0,'infected'] - new_dataframe.loc[0,'recovered'] \n",
    "\n",
    "for i in range(1,len(new_dataframe)):\n",
    "    \n",
    "    time_series_df.loc[i,\"S(t)\"] = time_series_df.loc[i-1,\"S(t)\"] - new_dataframe.loc[i,'infected']\n",
    "    time_series_df.loc[i,\"I(t)\"] = time_series_df.loc[i-1,\"I(t)\"] + (new_dataframe.loc[i,'infected'] - new_dataframe.loc[i,'recovered'])\n",
    "    #time_series_df.loc[i,\"I(t)\"] = time_series_df.loc[i-1,\"I(t)\"] + new_dataframe.loc[i,'infected'] - new_dataframe.loc[i,'recovered']\n",
    "    #time_series_df.loc[i,\"S(t)\"] = population - time_series_df.loc[i,\"I(t)\"] - time_series_df.loc[i,\"R(t)\"]\n",
    " "
   ]
  },
  {
   "cell_type": "code",
   "execution_count": 10,
   "metadata": {},
   "outputs": [
    {
     "data": {
      "text/html": [
       "<div>\n",
       "<style scoped>\n",
       "    .dataframe tbody tr th:only-of-type {\n",
       "        vertical-align: middle;\n",
       "    }\n",
       "\n",
       "    .dataframe tbody tr th {\n",
       "        vertical-align: top;\n",
       "    }\n",
       "\n",
       "    .dataframe thead th {\n",
       "        text-align: right;\n",
       "    }\n",
       "</style>\n",
       "<table border=\"1\" class=\"dataframe\">\n",
       "  <thead>\n",
       "    <tr style=\"text-align: right;\">\n",
       "      <th></th>\n",
       "      <th>time</th>\n",
       "      <th>S(t)</th>\n",
       "      <th>I(t)</th>\n",
       "      <th>R(t)</th>\n",
       "    </tr>\n",
       "  </thead>\n",
       "  <tbody>\n",
       "    <tr>\n",
       "      <th>0</th>\n",
       "      <td>0</td>\n",
       "      <td>1299999838</td>\n",
       "      <td>140</td>\n",
       "      <td>22</td>\n",
       "    </tr>\n",
       "    <tr>\n",
       "      <th>1</th>\n",
       "      <td>1</td>\n",
       "      <td>1299999784</td>\n",
       "      <td>186</td>\n",
       "      <td>30</td>\n",
       "    </tr>\n",
       "    <tr>\n",
       "      <th>2</th>\n",
       "      <td>2</td>\n",
       "      <td>1299999754</td>\n",
       "      <td>214</td>\n",
       "      <td>32</td>\n",
       "    </tr>\n",
       "    <tr>\n",
       "      <th>3</th>\n",
       "      <td>3</td>\n",
       "      <td>1299999732</td>\n",
       "      <td>232</td>\n",
       "      <td>36</td>\n",
       "    </tr>\n",
       "    <tr>\n",
       "      <th>4</th>\n",
       "      <td>4</td>\n",
       "      <td>1299999658</td>\n",
       "      <td>306</td>\n",
       "      <td>36</td>\n",
       "    </tr>\n",
       "    <tr>\n",
       "      <th>...</th>\n",
       "      <td>...</td>\n",
       "      <td>...</td>\n",
       "      <td>...</td>\n",
       "      <td>...</td>\n",
       "    </tr>\n",
       "    <tr>\n",
       "      <th>592</th>\n",
       "      <td>592</td>\n",
       "      <td>1231539219</td>\n",
       "      <td>334694</td>\n",
       "      <td>68126087</td>\n",
       "    </tr>\n",
       "    <tr>\n",
       "      <th>593</th>\n",
       "      <td>593</td>\n",
       "      <td>1231510605</td>\n",
       "      <td>335320</td>\n",
       "      <td>68154075</td>\n",
       "    </tr>\n",
       "    <tr>\n",
       "      <th>594</th>\n",
       "      <td>594</td>\n",
       "      <td>1231482175</td>\n",
       "      <td>335550</td>\n",
       "      <td>68182275</td>\n",
       "    </tr>\n",
       "    <tr>\n",
       "      <th>595</th>\n",
       "      <td>595</td>\n",
       "      <td>1231456295</td>\n",
       "      <td>331196</td>\n",
       "      <td>68212509</td>\n",
       "    </tr>\n",
       "    <tr>\n",
       "      <th>596</th>\n",
       "      <td>596</td>\n",
       "      <td>1231430481</td>\n",
       "      <td>330204</td>\n",
       "      <td>68239315</td>\n",
       "    </tr>\n",
       "  </tbody>\n",
       "</table>\n",
       "<p>597 rows × 4 columns</p>\n",
       "</div>"
      ],
      "text/plain": [
       "     time        S(t)    I(t)      R(t)\n",
       "0       0  1299999838     140        22\n",
       "1       1  1299999784     186        30\n",
       "2       2  1299999754     214        32\n",
       "3       3  1299999732     232        36\n",
       "4       4  1299999658     306        36\n",
       "..    ...         ...     ...       ...\n",
       "592   592  1231539219  334694  68126087\n",
       "593   593  1231510605  335320  68154075\n",
       "594   594  1231482175  335550  68182275\n",
       "595   595  1231456295  331196  68212509\n",
       "596   596  1231430481  330204  68239315\n",
       "\n",
       "[597 rows x 4 columns]"
      ]
     },
     "execution_count": 10,
     "metadata": {},
     "output_type": "execute_result"
    }
   ],
   "source": [
    "time_series_df"
   ]
  },
  {
   "cell_type": "code",
   "execution_count": 13,
   "metadata": {},
   "outputs": [
    {
     "data": {
      "image/png": "[encoded data removed]",
      "text/plain": [
       "<Figure size 1080x288 with 3 Axes>"
      ]
     },
     "metadata": {
      "needs_background": "light"
     },
     "output_type": "display_data"
    }
   ],
   "source": [
    "\n",
    "figure,axes = plt.subplots(1,3)\n",
    "figure.set_figwidth(15)\n",
    "\n",
    "axes[0].plot(time_series_df['time'],time_series_df['S(t)'] ,color='b', label = 'S(t)')\n",
    "axes[1].plot(time_series_df['time'],time_series_df['R(t)'] ,color='g', label = 'R(t)')\n",
    "axes[2].plot(time_series_df['time'],time_series_df['I(t)'] ,color='r', label = 'I(t)')\n",
    "plt.show()"
   ]
  },
  {
   "cell_type": "code",
   "execution_count": null,
   "metadata": {},
   "outputs": [],
   "source": [
    "new_dataframe"
   ]
  },
  {
   "cell_type": "code",
   "execution_count": null,
   "metadata": {},
   "outputs": [],
   "source": [
    "time_series_df"
   ]
  },
  {
   "cell_type": "code",
   "execution_count": null,
   "metadata": {},
   "outputs": [],
   "source": [
    "for i in range(len(time_series_df)):\n",
    "    print(time_series_df.loc[i,\"I(t)\"])"
   ]
  },
  {
   "cell_type": "code",
   "execution_count": null,
   "metadata": {},
   "outputs": [],
   "source": [
    "time_series_df.head()"
   ]
  },
  {
   "cell_type": "code",
   "execution_count": 14,
   "metadata": {},
   "outputs": [],
   "source": [
    "derivative_df = pd.DataFrame(0.0,index=np.arange(len(time_series_df)),columns=['ds/dt','di/dt','dr/dt'])"
   ]
  },
  {
   "cell_type": "code",
   "execution_count": 15,
   "metadata": {},
   "outputs": [],
   "source": [
    "for i in range(len(time_series_df)):\n",
    "    if i==0:\n",
    "        derivative_df.loc[i,\"ds/dt\"] = (time_series_df.loc[i+1,\"S(t)\"] - time_series_df.loc[i,\"S(t)\"])\n",
    "        derivative_df.loc[i,\"di/dt\"] = (time_series_df.loc[i+1,\"I(t)\"] - time_series_df.loc[i,\"I(t)\"])\n",
    "        derivative_df.loc[i,\"dr/dt\"] = (time_series_df.loc[i+1,\"R(t)\"] - time_series_df.loc[i,\"R(t)\"])\n",
    "    elif i == len(time_series_df)-1:\n",
    "        derivative_df.loc[i,\"ds/dt\"] = (time_series_df.loc[i,\"S(t)\"] - time_series_df.loc[i-1,\"S(t)\"])\n",
    "        derivative_df.loc[i,\"di/dt\"] = (time_series_df.loc[i,\"I(t)\"] - time_series_df.loc[i-1,\"I(t)\"])\n",
    "        derivative_df.loc[i,\"dr/dt\"] = (time_series_df.loc[i,\"R(t)\"] - time_series_df.loc[i-1,\"R(t)\"])\n",
    "    else:\n",
    "        derivative_df.loc[i,\"ds/dt\"] = (time_series_df.loc[i+1,\"S(t)\"] - time_series_df.loc[i-1,\"S(t)\"])/2.0\n",
    "        derivative_df.loc[i,\"di/dt\"] = (time_series_df.loc[i+1,\"I(t)\"] - time_series_df.loc[i-1,\"I(t)\"])/2.0\n",
    "        derivative_df.loc[i,\"dr/dt\"] = (time_series_df.loc[i+1,\"R(t)\"] - time_series_df.loc[i-1,\"R(t)\"])/2.0\n"
   ]
  },
  {
   "cell_type": "code",
   "execution_count": null,
   "metadata": {},
   "outputs": [],
   "source": [
    "derivative_df.head()"
   ]
  },
  {
   "cell_type": "code",
   "execution_count": 17,
   "metadata": {},
   "outputs": [],
   "source": [
    "def cholesky(A):\n",
    "    n = A.shape[0]\n",
    "    ANS = np.zeros((A.shape[0],A.shape[1]))\n",
    "    for j in range(n):\n",
    "        s = 0.0\n",
    "        for k in range(j):\n",
    "            s += ANS[j][k] * ANS[j][k]\n",
    "        \n",
    "        ANS[j][j] = np.sqrt(A[j][j] - s)\n",
    "        for i in range(j+1,n):\n",
    "            s = 0.0\n",
    "            for k in range(0,j):\n",
    "                s += ANS[i][k] * ANS[j][k]\n",
    "            ANS[i][j] = (1.0/ANS[j][j] * (A[i][j]-s))\n",
    "    return ANS\n",
    "\n",
    "def convert_to_symmetric(X):\n",
    "    return 0.5*(X + X.T)\n",
    "\n",
    "def back_substitution(A,b):\n",
    "    solution = np.zeros(A.shape[0])\n",
    "    for i in range(A.shape[0]- 1, -1,-1):\n",
    "        tmp = b[i][0]\n",
    "\n",
    "        for j in range(A.shape[0]-1,i,-1):\n",
    "            tmp -= solution[j] * A[i,j]\n",
    "        solution[i] = tmp / A[i,i]\n",
    "    return solution\n",
    "\n",
    "def forward_substitute(A,b):\n",
    "    \n",
    "    solution = np.zeros(A.shape[0])\n",
    "    for i in range(A.shape[0]):        \n",
    "        tmp = b[i][0]\n",
    "        for j in range(i):\n",
    "            tmp -= solution[j]*A[i,j]\n",
    "        solution[i] = tmp / A[i,i]\n",
    "    return solution\n",
    "\n",
    "def oneday_solve(day_param,derivative):\n",
    "    X = np.zeros((3,2))\n",
    "    y = np.zeros((3,1))\n",
    "    i_s_n = (day_param.loc['S(t)'] * day_param.loc['I(t)'])/ (population)\n",
    "    X[0,0] = -i_s_n\n",
    "    X[1,0] = i_s_n\n",
    "    X[1,1] = -day_param.loc['I(t)']\n",
    "    X[2,1] = day_param.loc['I(t)']\n",
    "\n",
    "    y[0,0] = derivative.loc['ds/dt']\n",
    "    y[1,0] = derivative.loc['di/dt']\n",
    "    y[2,0] = derivative.loc['dr/dt']\n",
    "\n",
    "    A = np.matmul(X.T,X)\n",
    "    b  = np.matmul(X.T,y)\n",
    "\n",
    "    A_sym = convert_to_symmetric(A)\n",
    "    A_tri = cholesky(A_sym)\n",
    "  \n",
    "    inter = forward_substitute(A_tri,b)\n",
    "    inter = np.expand_dims(inter,1)\n",
    "    sol = back_substitution(A_tri.T,inter)\n",
    "    solution = nnls(X,y.squeeze())\n",
    "    \n",
    "    return sol,solution[0]\n",
    "    #\n",
    "    #solution = np.linalg.solve(A,b)\n",
    "    #print(solution)\n",
    "\n"
   ]
  },
  {
   "cell_type": "code",
   "execution_count": 18,
   "metadata": {},
   "outputs": [],
   "source": [
    "indices = []\n",
    "plot_points = []\n",
    "\n",
    "for i in range(len(time_series_df)):\n",
    "\n",
    "    sol,solution = oneday_solve(time_series_df.loc[i],derivative_df.loc[i])\n",
    "    plot_points.append(sol[0]/sol[1])\n",
    "    indices.append(i+1)"
   ]
  },
  {
   "cell_type": "code",
   "execution_count": null,
   "metadata": {},
   "outputs": [],
   "source": [
    "plot_points"
   ]
  },
  {
   "cell_type": "code",
   "execution_count": 19,
   "metadata": {},
   "outputs": [
    {
     "data": {
      "text/plain": [
       "[<matplotlib.lines.Line2D at 0x12c9924f0>]"
      ]
     },
     "execution_count": 19,
     "metadata": {},
     "output_type": "execute_result"
    },
    {
     "data": {
      "image/png": "[encoded data removed]",
      "text/plain": [
       "<Figure size 432x288 with 1 Axes>"
      ]
     },
     "metadata": {
      "needs_background": "light"
     },
     "output_type": "display_data"
    }
   ],
   "source": [
    "plt.plot(indices,plot_points)"
   ]
  },
  {
   "cell_type": "code",
   "execution_count": null,
   "metadata": {},
   "outputs": [],
   "source": [
    "f = np.array([[1,-1,1],[0,2,-5],[0,0,3]])\n",
    "b = np.array([[8],[-27],[15]])\n",
    "back_substitution(f,b)"
   ]
  },
  {
   "cell_type": "code",
   "execution_count": null,
   "metadata": {},
   "outputs": [],
   "source": [
    "f = np.array([[3,0,0],[-5,2,0],[1,-1,1]])\n",
    "b = np.array([[15],[-27],[8]])\n",
    "forward_substitute(f,b)"
   ]
  },
  {
   "cell_type": "code",
   "execution_count": null,
   "metadata": {},
   "outputs": [],
   "source": [
    "0.14114212/0.07814566"
   ]
  },
  {
   "cell_type": "code",
   "execution_count": null,
   "metadata": {},
   "outputs": [],
   "source": [
    "import numpy as np\n",
    "\n",
    "\n",
    "matrix = np.array([[4,12,-16],[12,37,-43],[-16,-43,98]])  \n",
    "\n",
    "cholesky(matrix)\n"
   ]
  },
  {
   "cell_type": "code",
   "execution_count": null,
   "metadata": {},
   "outputs": [],
   "source": []
  }
 ],
 "metadata": {
  "kernelspec": {
   "display_name": "Python 3.9.13 64-bit",
   "language": "python",
   "name": "python3"
  },
  "language_info": {
   "codemirror_mode": {
    "name": "ipython",
    "version": 3
   },
   "file_extension": ".py",
   "mimetype": "text/x-python",
   "name": "python",
   "nbconvert_exporter": "python",
   "pygments_lexer": "ipython3",
   "version": "3.9.13"
  },
  "orig_nbformat": 4,
  "vscode": {
   "interpreter": {
    "hash": "d1b0110cf1cb03549be737c5657a86ea4daeeb81469a7991ed915d907f3e629c"
   }
  }
 },
 "nbformat": 4,
 "nbformat_minor": 2
}
