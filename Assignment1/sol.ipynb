{
 "cells": [
  {
   "cell_type": "markdown",
   "metadata": {},
   "source": [
    "## Question 2"
   ]
  },
  {
   "cell_type": "code",
   "execution_count": 12,
   "metadata": {},
   "outputs": [],
   "source": [
    "import numpy as np\n",
    "import matplotlib.pyplot as plt\n",
    "from scipy.optimize import nnls\n",
    "from scipy.optimize import line_search"
   ]
  },
  {
   "cell_type": "code",
   "execution_count": 13,
   "metadata": {},
   "outputs": [],
   "source": [
    "def squared_norm(x):\n",
    "    x_val = np.float64(x[0][0])\n",
    "    y_val = np.float64(x[1][0])\n",
    "    return x_val*x_val + y_val*y_val\n",
    "\n",
    "def norm(x):\n",
    "    return np.sqrt(squared_norm(x))\n",
    "\n",
    "def get_unit_vector(x):\n",
    "    norm_value = norm(x)\n",
    "    if norm_value == np.float64(0.0):\n",
    "        return x\n",
    "    return (x/norm_value).copy()"
   ]
  },
  {
   "cell_type": "code",
   "execution_count": 14,
   "metadata": {},
   "outputs": [],
   "source": [
    "def f1(x,y):\n",
    "    vec = np.array([[x],[y]])\n",
    "    A = np.array([[1,0],[0,1]])\n",
    "    h = np.matmul(vec.T,A)\n",
    "    return 0.5*np.matmul(h,vec)\n",
    "\n",
    "def f2(x,y):\n",
    "    vec = np.array([[x],[y]])\n",
    "    A = np.array([[10,8],[8,10]])\n",
    "    h = np.matmul(vec.T,A)\n",
    "    return 0.5*np.matmul(h,vec)\n",
    "    \n",
    "def gradient_f1(x):\n",
    "    x_value = np.float64(x[0][0])\n",
    "    y_value = np.float64(x[1][0])\n",
    "    return np.array([[x_value],[y_value]])\n",
    "\n",
    "def gradient_f2(x):\n",
    "    x_value = np.float64(x[0][0])\n",
    "    y_value = np.float64(x[1][0])\n",
    "    return np.array([[10*x_value + 8 *y_value],[10*y_value + 8 * x_value]])\n",
    "\n",
    "def hessian_f1(x):\n",
    "    return np.array([[1,0],[0,1]])\n",
    "\n",
    "def hessian_f2(x):\n",
    "    return np.array([[10,8],[8,10]])"
   ]
  },
  {
   "cell_type": "code",
   "execution_count": null,
   "metadata": {},
   "outputs": [],
   "source": [
    "def steepest_descent(initial_point,function='f1'):\n",
    "\n",
    "    #initial_point = np.array([[2.0],[0.0]],dtype=np.float64)\n",
    "    fun = f1 if function == 'f1' else f2\n",
    "    gradient_fun = gradient_f1 if function == 'f1' else gradient_f2\n",
    "\n",
    "    current_point = initial_point.copy()\n",
    "    \n",
    "    c = 0.0001\n",
    "    rho = 0.9\n",
    "    iterations = 0\n",
    "    iterates = []\n",
    "\n",
    "    iterates.append(current_point)\n",
    "\n",
    "    while True:        \n",
    "        \n",
    "        iterations += 1\n",
    "        gradient = gradient_fun(current_point)\n",
    "        p = -get_unit_vector(gradient)            \n",
    "        alpha  = np.float64(1.0)\n",
    "        previous_point = current_point.copy() \n",
    "        break_inner_loop = False\n",
    "    \n",
    "        current_x = np.float64(current_point[0][0])\n",
    "        current_y = np.float64(current_point[1][0])\n",
    "\n",
    "        current_function_value = np.float64(fun(current_x,current_y).squeeze()) \n",
    "        while not break_inner_loop:\n",
    "            \n",
    "            new_point = current_point + alpha*p\n",
    "\n",
    "            new_x = np.float64(new_point[0][0])\n",
    "            new_y = np.float64(new_point[1][0])\n",
    "\n",
    "            new_function_value = np.float64(fun(new_x,new_y).squeeze())\n",
    "            increment_value = np.float64(((c*alpha)*np.dot(gradient.T,p)).squeeze())\n",
    "\n",
    "            if((new_function_value > (current_function_value + increment_value))):\n",
    "                alpha = alpha * rho\n",
    "            else:\n",
    "                break_inner_loop = True\n",
    "     \n",
    "\n",
    "        new_point = current_point + alpha*p\n",
    "        current_point = new_point.copy()\n",
    "        iterates.append(current_point)\n",
    "        if np.linalg.norm(current_point-previous_point) < 0.00001:\n",
    "            break\n",
    "    return iterations,iterates\n"
   ]
  },
  {
   "cell_type": "code",
   "execution_count": null,
   "metadata": {},
   "outputs": [],
   "source": [
    "initial_point = np.array([[2.0],[2.0]],dtype=np.float64)\n",
    "iterations , iterates = steepest_descent(initial_point=initial_point,function='f2')"
   ]
  },
  {
   "cell_type": "code",
   "execution_count": null,
   "metadata": {},
   "outputs": [],
   "source": [
    "def newtons_method(initial_point,function = 'f1'):\n",
    "\n",
    "    fun = f1 if function == 'f1' else f2\n",
    "    gradient_fun = gradient_f1 if function == 'f1' else gradient_f2\n",
    "    hessian_fun = hessian_f1 if function =='f1' else hessian_f2\n",
    "    current_point = initial_point.copy()\n",
    "    \n",
    "    iterations = 0\n",
    "    iterates = []\n",
    "    iterates.append(current_point)\n",
    "    c = 0.0001\n",
    "    rho = 0.9\n",
    "\n",
    "    while True:        \n",
    "        iterations+=1\n",
    "        gradient = gradient_fun(current_point)\n",
    "        hessian = hessian_fun(current_point)\n",
    "        m = np.matmul(np.linalg.inv(hessian),gradient)\n",
    "        p = -m\n",
    "        \n",
    "        break_inner_loop = False\n",
    "        alpha  = np.float64(1.0)\n",
    " \n",
    "        current_x = np.float64(current_point[0][0])\n",
    "        current_y = np.float64(current_point[1][0])\n",
    "\n",
    "        current_function_value = np.float64(fun(current_x,current_y).squeeze()) \n",
    "        \n",
    "        while not break_inner_loop:\n",
    "            new_point = current_point + alpha*p\n",
    "            new_x = np.float64(new_point[0][0])\n",
    "            new_y = np.float64(new_point[1][0])\n",
    "\n",
    "            new_function_value = np.float64(fun(new_x,new_y).squeeze())\n",
    "\n",
    "            increment_value = np.float64(((c*alpha)*np.dot(gradient.T,p)).squeeze())\n",
    "            second_order_term = (c*(alpha*alpha/2)*(np.matmul(np.matmul(p.T,hessian),p))).squeeze()\n",
    "            increment_value += np.float64(second_order_term)\n",
    "            \n",
    "            if((new_function_value > (current_function_value + increment_value))):\n",
    "                alpha = alpha * rho\n",
    "            else:\n",
    "                break_inner_loop = True\n",
    "      \n",
    "        \n",
    "        previous_point = current_point.copy() \n",
    "        new_point = current_point + alpha*p\n",
    "        current_point = new_point.copy()\n",
    "        iterates.append(current_point)\n",
    "        if np.linalg.norm(current_point-previous_point) < 0.00001:\n",
    "            break\n",
    "    \n",
    "    return iterations,iterates"
   ]
  },
  {
   "cell_type": "code",
   "execution_count": null,
   "metadata": {},
   "outputs": [],
   "source": [
    "initial_point = np.array([[2.0],[0.0]],dtype=np.float64)\n",
    "iterations , iterates = newtons_method(initial_point=initial_point,function='f2')"
   ]
  },
  {
   "cell_type": "code",
   "execution_count": 97,
   "metadata": {},
   "outputs": [
    {
     "name": "stdout",
     "output_type": "stream",
     "text": [
      "[array([[-1.2],\n",
      "       [ 1. ]]), array([[-1.20177419],\n",
      "       [ 1.22425806]]), array([[-1.20360991],\n",
      "       [ 1.33867187]]), array([[-1.20547588],\n",
      "       [ 1.39816615]]), array([[-1.20735522],\n",
      "       [ 1.43020012]]), array([[-1.20923917],\n",
      "       [ 1.44850256]]), array([[-1.21112328],\n",
      "       [ 1.45993766]]), array([[-1.21112328],\n",
      "       [ 1.45993766]])]\n"
     ]
    },
    {
     "data": {
      "image/png": "[encoded data removed]",
      "text/plain": [
       "<Figure size 432x288 with 2 Axes>"
      ]
     },
     "metadata": {
      "needs_background": "light"
     },
     "output_type": "display_data"
    }
   ],
   "source": [
    "def plot(function,iterations,iterates):\n",
    "    \n",
    "    if function == 'f1':\n",
    "        fun = f1\n",
    "    else:\n",
    "        fun = f2\n",
    "\n",
    "    res = 1000\n",
    "    x_values = np.linspace(2.1,-2.1,res)\n",
    "    y_values = np.linspace(2.1,-2.1,res)\n",
    "    \n",
    "    X,Y = np.meshgrid(x_values,y_values)\n",
    "\n",
    "    Z = np.zeros((res,res))\n",
    "    for i in range(len(X[0])):\n",
    "        for j in range(len(Y[:,0])):\n",
    "            z_value = fun(X[0,i],Y[j,0])\n",
    "            Z[i][j] = z_value\n",
    "    fig,ax=plt.subplots(1,1)\n",
    "    cp = ax.contourf(X, Y, Z)\n",
    "    fig.colorbar(cp) \n",
    "    ax.set_title('Contour Plot')\n",
    "    plt.plot(iterates[0][0,0],iterates[0][1,0],'ro')\n",
    "    for i in range(1,len(iterates)):\n",
    "        plt.arrow(iterates[i-1][0,0],iterates[i-1][1,0],dx = iterates[i][0,0] - iterates[i-1][0,0] ,dy = iterates[i][1,0] - iterates[i-1][1,0],width=0.01,head_width = 0.09)\n",
    "    plt.plot(iterates[len(iterates)-1][0,0], iterates[len(iterates)-1][1,0],'go',linewidth=0.1)\n",
    "    plt.show()\n",
    "            \n",
    "    \n",
    "\n",
    "print(iterates)\n",
    "    \n",
    "plot(function='f2',iterates= iterates, iterations =iterations)"
   ]
  },
  {
   "cell_type": "code",
   "execution_count": null,
   "metadata": {},
   "outputs": [],
   "source": []
  },
  {
   "cell_type": "code",
   "execution_count": null,
   "metadata": {},
   "outputs": [],
   "source": [
    "initial_point = np.array([[150.0],[20.0]],dtype=np.float64)\n",
    "newtons_method(initial_point,function='f2')"
   ]
  },
  {
   "cell_type": "code",
   "execution_count": null,
   "metadata": {},
   "outputs": [],
   "source": [
    "min"
   ]
  },
  {
   "cell_type": "code",
   "execution_count": null,
   "metadata": {},
   "outputs": [],
   "source": []
  },
  {
   "cell_type": "markdown",
   "metadata": {},
   "source": [
    "### Question 3"
   ]
  },
  {
   "cell_type": "code",
   "execution_count": null,
   "metadata": {},
   "outputs": [],
   "source": [
    "from scipy.optimize import rosen,rosen_der\n",
    "from scipy.optimize import line_search\n",
    "from scipy.optimize import minimize"
   ]
  },
  {
   "cell_type": "code",
   "execution_count": null,
   "metadata": {},
   "outputs": [],
   "source": [
    "\n",
    "def rosenbrock(point):\n",
    "    a = 1.0\n",
    "    b = 100.0\n",
    "    x = point[0]\n",
    "    y = point[1]\n",
    "    result = (1-x)**2\n",
    "    result += b*((y - x**2)**2)\n",
    "    return result\n",
    "\n",
    "def rosenbrock_jacobian(point):\n",
    "    a = 1.0\n",
    "    b = 100.0\n",
    "    x = point[0]\n",
    "    y = point[1]\n",
    "    result = np.zeros((2,))\n",
    "    result[0] = -2.0*(a-x) - 4*b*x*(y - x**2)\n",
    "    result[1] = 2.0*b*(y - x**2)\n",
    "    return result\n",
    "\n",
    "def rosenbrock_hessian(point):\n",
    "    a = 1.0\n",
    "    b = 100.0\n",
    "    x = point[0]\n",
    "    y = point[1]\n",
    "    hessian = np.zeros((2,2))\n",
    "    hessian[0][0] = 2*b*y - 2*b*x*x\n",
    "    hessian[0][1] = -4*b*x\n",
    "    hessian[1][0] = -4*b*x\n",
    "    hessian[1][1] = 2*b \n",
    "    return hessian\n"
   ]
  },
  {
   "cell_type": "code",
   "execution_count": 85,
   "metadata": {},
   "outputs": [],
   "source": [
    "def steepest_descent_rosenbrock(point):\n",
    "\n",
    "    fun = rosenbrock\n",
    "    gradient_fun = rosenbrock_jacobian\n",
    "    \n",
    "    current_point = point.copy()\n",
    "    c = 0.0001\n",
    "    rho = 0.9\n",
    "    iterations = 0\n",
    "    \n",
    "    step_sizes = []\n",
    "    iterates = []\n",
    "    function_values = []\n",
    "    \n",
    "    iterates.append(current_point)\n",
    "    function_values.append(np.float64(fun(current_point.squeeze()).squeeze()))\n",
    "\n",
    "    while True:        \n",
    "        iterations += 1\n",
    "        gradient = gradient_fun(current_point)\n",
    "        gradient = np.expand_dims(gradient,axis=1)\n",
    "        p = -get_unit_vector(gradient)            \n",
    "        alpha  = np.float64(1.0)\n",
    "        previous_point = current_point.copy() \n",
    "        break_inner_loop = False\n",
    "    \n",
    "        current_function_value = np.float64(fun(current_point.squeeze()).squeeze()) \n",
    "        while not break_inner_loop:\n",
    "            \n",
    "            new_point = current_point + alpha*p\n",
    "\n",
    "            new_function_value = np.float64(fun(new_point.squeeze()).squeeze())\n",
    "            increment_value = np.float64(((c*alpha)*np.dot(gradient.T,p)).squeeze())\n",
    "\n",
    "            if((new_function_value > (current_function_value + increment_value))):\n",
    "                alpha = alpha * rho\n",
    "            else:\n",
    "                break_inner_loop = True\n",
    "     \n",
    "        step_sizes.append(alpha)\n",
    "        new_point = current_point + alpha*p\n",
    "        current_point = new_point.copy()\n",
    "        iterates.append(current_point)\n",
    "        function_values.append(np.float64(fun(new_point.squeeze()).squeeze()))\n",
    "\n",
    "        if np.linalg.norm(current_point-previous_point) < 0.00001:\n",
    "            break\n",
    "    return iterations,iterates, function_values, step_sizes\n",
    "    \n",
    "iterations, iterates, function_values , step_sizes = steepest_descent_rosenbrock(np.array([[-1.2],[1.0]]))"
   ]
  },
  {
   "cell_type": "code",
   "execution_count": 98,
   "metadata": {},
   "outputs": [],
   "source": [
    "def newton_rosenbrock(point):\n",
    "\n",
    "    fun = rosenbrock\n",
    "    gradient_fun = rosenbrock_jacobian\n",
    "    hessian_fun = rosenbrock_hessian\n",
    "    current_point = point.copy()\n",
    "    \n",
    "    iterations = 0\n",
    "    function_values = []\n",
    "    iterates = []\n",
    "    step_sizes = []\n",
    "\n",
    "    iterates.append(current_point)\n",
    "    function_values.append(np.float64(fun(current_point.squeeze()).squeeze()))\n",
    "\n",
    "    \n",
    "    c = 0.0001\n",
    "    rho = 0.9\n",
    "\n",
    "    while True:        \n",
    "        iterations+=1\n",
    "        gradient = np.expand_dims(gradient_fun(current_point.squeeze()),axis=1)\n",
    "        hessian = hessian_fun(current_point.squeeze())\n",
    "\n",
    "\n",
    "        m = np.matmul(np.linalg.inv(hessian),gradient)\n",
    "        p = -m\n",
    "        \n",
    "        break_inner_loop = False\n",
    "        alpha  = np.float64(0.5)\n",
    " \n",
    "        current_function_value = np.float64(fun(current_point.squeeze()).squeeze()) \n",
    "        while not break_inner_loop:\n",
    "\n",
    "            new_point = current_point + alpha*p\n",
    "            new_function_value = np.float64(fun(new_point.squeeze()).squeeze())\n",
    "            increment_value = np.float64(((c*alpha)*np.dot(gradient.T,p)).squeeze())\n",
    "            second_order_term = (c*(alpha*alpha/2)*(np.matmul(np.matmul(p.T,hessian),p))).squeeze()\n",
    "            increment_value += np.float64(second_order_term)\n",
    "            \n",
    "\n",
    "            if((new_function_value > (current_function_value + increment_value))):\n",
    "                alpha = alpha * rho\n",
    "            else:\n",
    "                break_inner_loop = True\n",
    "\n",
    "        \n",
    "        previous_point = current_point.copy() \n",
    "        new_point = current_point + alpha*p\n",
    "        current_point = new_point.copy()\n",
    "        \n",
    "        step_sizes.append(alpha)\n",
    "        function_values.append(np.float64(fun(new_point.squeeze()).squeeze()))\n",
    "        iterates.append(current_point)\n",
    "        \n",
    "        if np.linalg.norm(current_point-previous_point) < 0.00001:\n",
    "            break\n",
    "    \n",
    "    return iterations,iterates,function_values,step_sizes\n",
    "\n",
    "iterations, iterates, function_values , step_sizes= newton_rosenbrock(np.array([[-1.2],[1.0]]))"
   ]
  },
  {
   "cell_type": "code",
   "execution_count": 100,
   "metadata": {},
   "outputs": [
    {
     "data": {
      "text/plain": [
       "     fun: 0.09826317757025695\n",
       "     jac: array([-0.48207287, -0.10665028])\n",
       " message: 'Warning: Maximum number of iterations has been exceeded.'\n",
       "    nfev: 406\n",
       "    nhev: 400\n",
       "     nit: 400\n",
       "    njev: 406\n",
       "  status: 1\n",
       " success: False\n",
       "       x: array([0.68786739, 0.47026947])"
      ]
     },
     "execution_count": 100,
     "metadata": {},
     "output_type": "execute_result"
    }
   ],
   "source": [
    "minimize(rosenbrock,np.array([-1.2,1.0]),method='Newton-CG',jac=rosenbrock_jacobian,hess=rosenbrock_hessian)"
   ]
  },
  {
   "cell_type": "code",
   "execution_count": null,
   "metadata": {},
   "outputs": [],
   "source": [
    "def steepest_descent_rosenbrock_scipy(point):\n",
    "\n",
    "    current_point = point.copy()\n",
    "    previous_point = point.copy()\n",
    "\n",
    "    iterations =0\n",
    "    iterates = []\n",
    "\n",
    "    while True:\n",
    "        iterations+=1\n",
    "        iterates.append(current_point)\n",
    "      \n",
    "        previous_point = current_point.copy()\n",
    "        current_gradient = np.expand_dims(rosenbrock_jacobian(current_point.squeeze()),1)\n",
    "        step_length = line_search(rosenbrock,rosenbrock_jacobian,current_point.squeeze(),-get_unit_vector(current_gradient).squeeze())\n",
    "        print(step_length[0])\n",
    "        if step_length[0] == None:\n",
    "            break\n",
    "        \n",
    "        current_point += step_length[0]*(-get_unit_vector(current_gradient))\n",
    "\n",
    "    return iterations,iterates\n",
    "\n"
   ]
  },
  {
   "cell_type": "code",
   "execution_count": null,
   "metadata": {},
   "outputs": [],
   "source": [
    "minimize(rosenbrock,np.array([1.2,1.2]),method='Newton-CG',jac=rosenbrock_jacobian,hess=rosenbrock_hessian)"
   ]
  },
  {
   "cell_type": "markdown",
   "metadata": {},
   "source": []
  },
  {
   "cell_type": "code",
   "execution_count": 96,
   "metadata": {},
   "outputs": [
    {
     "data": {
      "image/png": "[encoded data removed]",
      "text/plain": [
       "<Figure size 432x288 with 1 Axes>"
      ]
     },
     "metadata": {
      "needs_background": "light"
     },
     "output_type": "display_data"
    }
   ],
   "source": [
    "def plot_values(function_values):\n",
    "    time = [i for i in range(len(function_values))]\n",
    "    plt.plot(time[:100],function_values[:100])\n",
    "    plt.show()\n",
    "\n",
    "\n",
    "\n",
    "plot_values(function_values)\n"
   ]
  },
  {
   "cell_type": "markdown",
   "metadata": {},
   "source": [
    "### Seperator"
   ]
  },
  {
   "cell_type": "code",
   "execution_count": null,
   "metadata": {},
   "outputs": [],
   "source": [
    "import pandas as pd\n",
    "\n",
    "dataframe = pd.read_csv('./data/state_wise_daily.csv')"
   ]
  },
  {
   "cell_type": "code",
   "execution_count": null,
   "metadata": {},
   "outputs": [],
   "source": [
    "summed_data = dataframe.sum(axis=1,numeric_only=True)"
   ]
  },
  {
   "cell_type": "code",
   "execution_count": null,
   "metadata": {},
   "outputs": [],
   "source": [
    "infected_indices = [3*i for i in range(int(len(summed_data)/3))]\n",
    "indices = [ 3*i+1 for i in range(int(len(summed_data)/3)) ]\n",
    "indices =  indices +  [ 3*i+2 for i in range(int(len(summed_data)/3)) ]\n",
    "indices = sorted(indices)\n"
   ]
  },
  {
   "cell_type": "code",
   "execution_count": null,
   "metadata": {},
   "outputs": [],
   "source": [
    "recovered_deceased = summed_data[indices]"
   ]
  },
  {
   "cell_type": "code",
   "execution_count": null,
   "metadata": {},
   "outputs": [],
   "source": [
    "recovered_dup = recovered_deceased.groupby(recovered_deceased.index//3).transform('sum')\n",
    "rec_indices = [ 3*i + 1 for i in range(int(len(recovered_dup)//2))]\n",
    "recovered = recovered_dup[rec_indices]\n",
    "recovered = recovered.reset_index(drop = True)\n"
   ]
  },
  {
   "cell_type": "code",
   "execution_count": null,
   "metadata": {},
   "outputs": [],
   "source": [
    "infected = summed_data[infected_indices]\n",
    "infected = infected.reset_index(drop=True)"
   ]
  },
  {
   "cell_type": "code",
   "execution_count": null,
   "metadata": {},
   "outputs": [],
   "source": [
    "new_dataframe = pd.DataFrame({'infected' :  infected , 'recovered' : recovered})\n",
    "time_series = new_dataframe.index.array"
   ]
  },
  {
   "cell_type": "code",
   "execution_count": null,
   "metadata": {},
   "outputs": [],
   "source": [
    "time_series_df = pd.DataFrame()\n",
    "time_series_df.insert(0,\"time\",time_series)\n",
    "\n",
    "time_series_df[\"S(t)\"] = 0\n",
    "time_series_df[\"I(t)\"] = 0\n",
    "time_series_df.insert(3,\"R(t)\",new_dataframe['recovered'].cumsum())\n"
   ]
  },
  {
   "cell_type": "code",
   "execution_count": null,
   "metadata": {},
   "outputs": [],
   "source": [
    "population = 130 * (10**7)\n",
    "#time_series_df.loc[0,\"I(t)\"] =  new_dataframe.loc[0,'infected']\n",
    "#time_series_df.loc[0,\"S(t)\"] =  population - new_dataframe.loc[0,'infected'] - new_dataframe.loc[0,'recovered']\n",
    "\n",
    "time_series_df.loc[0,\"S(t)\"] = population - new_dataframe.loc[0,'infected']\n",
    "time_series_df.loc[0,\"I(t)\"] = new_dataframe.loc[0,'infected'] - new_dataframe.loc[0,'recovered'] \n",
    "\n",
    "for i in range(1,len(new_dataframe)):\n",
    "    \n",
    "    time_series_df.loc[i,\"S(t)\"] = time_series_df.loc[i-1,\"S(t)\"] - new_dataframe.loc[i,'infected']\n",
    "    time_series_df.loc[i,\"I(t)\"] = time_series_df.loc[i-1,\"I(t)\"] + (new_dataframe.loc[i,'infected'] - new_dataframe.loc[i,'recovered'])\n",
    "    #time_series_df.loc[i,\"I(t)\"] = time_series_df.loc[i-1,\"I(t)\"] + new_dataframe.loc[i,'infected'] - new_dataframe.loc[i,'recovered']\n",
    "    #time_series_df.loc[i,\"S(t)\"] = population - time_series_df.loc[i,\"I(t)\"] - time_series_df.loc[i,\"R(t)\"]\n",
    " "
   ]
  },
  {
   "cell_type": "code",
   "execution_count": null,
   "metadata": {},
   "outputs": [],
   "source": [
    "time_series_df"
   ]
  },
  {
   "cell_type": "code",
   "execution_count": null,
   "metadata": {},
   "outputs": [],
   "source": [
    "\n",
    "figure,axes = plt.subplots(1,3)\n",
    "figure.set_figwidth(15)\n",
    "\n",
    "axes[0].plot(time_series_df['time'],time_series_df['S(t)'] ,color='b', label = 'S(t)')\n",
    "axes[1].plot(time_series_df['time'],time_series_df['R(t)'] ,color='g', label = 'R(t)')\n",
    "axes[2].plot(time_series_df['time'],time_series_df['I(t)'] ,color='r', label = 'I(t)')\n",
    "plt.show()"
   ]
  },
  {
   "cell_type": "code",
   "execution_count": null,
   "metadata": {},
   "outputs": [],
   "source": [
    "new_dataframe"
   ]
  },
  {
   "cell_type": "code",
   "execution_count": null,
   "metadata": {},
   "outputs": [],
   "source": [
    "time_series_df"
   ]
  },
  {
   "cell_type": "code",
   "execution_count": null,
   "metadata": {},
   "outputs": [],
   "source": [
    "for i in range(len(time_series_df)):\n",
    "    print(time_series_df.loc[i,\"I(t)\"])"
   ]
  },
  {
   "cell_type": "code",
   "execution_count": null,
   "metadata": {},
   "outputs": [],
   "source": [
    "time_series_df.head()"
   ]
  },
  {
   "cell_type": "code",
   "execution_count": null,
   "metadata": {},
   "outputs": [],
   "source": [
    "derivative_df = pd.DataFrame(0.0,index=np.arange(len(time_series_df)),columns=['ds/dt','di/dt','dr/dt'])"
   ]
  },
  {
   "cell_type": "code",
   "execution_count": null,
   "metadata": {},
   "outputs": [],
   "source": [
    "for i in range(len(time_series_df)):\n",
    "    if i==0:\n",
    "        derivative_df.loc[i,\"ds/dt\"] = (time_series_df.loc[i+1,\"S(t)\"] - time_series_df.loc[i,\"S(t)\"])\n",
    "        derivative_df.loc[i,\"di/dt\"] = (time_series_df.loc[i+1,\"I(t)\"] - time_series_df.loc[i,\"I(t)\"])\n",
    "        derivative_df.loc[i,\"dr/dt\"] = (time_series_df.loc[i+1,\"R(t)\"] - time_series_df.loc[i,\"R(t)\"])\n",
    "    elif i == len(time_series_df)-1:\n",
    "        derivative_df.loc[i,\"ds/dt\"] = (time_series_df.loc[i,\"S(t)\"] - time_series_df.loc[i-1,\"S(t)\"])\n",
    "        derivative_df.loc[i,\"di/dt\"] = (time_series_df.loc[i,\"I(t)\"] - time_series_df.loc[i-1,\"I(t)\"])\n",
    "        derivative_df.loc[i,\"dr/dt\"] = (time_series_df.loc[i,\"R(t)\"] - time_series_df.loc[i-1,\"R(t)\"])\n",
    "    else:\n",
    "        derivative_df.loc[i,\"ds/dt\"] = (time_series_df.loc[i+1,\"S(t)\"] - time_series_df.loc[i-1,\"S(t)\"])/2.0\n",
    "        derivative_df.loc[i,\"di/dt\"] = (time_series_df.loc[i+1,\"I(t)\"] - time_series_df.loc[i-1,\"I(t)\"])/2.0\n",
    "        derivative_df.loc[i,\"dr/dt\"] = (time_series_df.loc[i+1,\"R(t)\"] - time_series_df.loc[i-1,\"R(t)\"])/2.0\n"
   ]
  },
  {
   "cell_type": "code",
   "execution_count": null,
   "metadata": {},
   "outputs": [],
   "source": [
    "derivative_df.head()"
   ]
  },
  {
   "cell_type": "code",
   "execution_count": null,
   "metadata": {},
   "outputs": [],
   "source": [
    "def cholesky(A):\n",
    "    n = A.shape[0]\n",
    "    ANS = np.zeros((A.shape[0],A.shape[1]))\n",
    "    for j in range(n):\n",
    "        s = 0.0\n",
    "        for k in range(j):\n",
    "            s += ANS[j][k] * ANS[j][k]\n",
    "        \n",
    "        ANS[j][j] = np.sqrt(A[j][j] - s)\n",
    "        for i in range(j+1,n):\n",
    "            s = 0.0\n",
    "            for k in range(0,j):\n",
    "                s += ANS[i][k] * ANS[j][k]\n",
    "            ANS[i][j] = (1.0/ANS[j][j] * (A[i][j]-s))\n",
    "    return ANS\n",
    "\n",
    "def convert_to_symmetric(X):\n",
    "    return 0.5*(X + X.T)\n",
    "\n",
    "def back_substitution(A,b):\n",
    "    solution = np.zeros(A.shape[0])\n",
    "    for i in range(A.shape[0]- 1, -1,-1):\n",
    "        tmp = b[i][0]\n",
    "\n",
    "        for j in range(A.shape[0]-1,i,-1):\n",
    "            tmp -= solution[j] * A[i,j]\n",
    "        solution[i] = tmp / A[i,i]\n",
    "    return solution\n",
    "\n",
    "def forward_substitute(A,b):\n",
    "    \n",
    "    solution = np.zeros(A.shape[0])\n",
    "    for i in range(A.shape[0]):        \n",
    "        tmp = b[i][0]\n",
    "        for j in range(i):\n",
    "            tmp -= solution[j]*A[i,j]\n",
    "        solution[i] = tmp / A[i,i]\n",
    "    return solution\n",
    "\n",
    "def oneday_solve(day_param,derivative):\n",
    "    X = np.zeros((3,2))\n",
    "    y = np.zeros((3,1))\n",
    "    i_s_n = (day_param.loc['S(t)'] * day_param.loc['I(t)'])/ (population)\n",
    "    X[0,0] = -i_s_n\n",
    "    X[1,0] = i_s_n\n",
    "    X[1,1] = -day_param.loc['I(t)']\n",
    "    X[2,1] = day_param.loc['I(t)']\n",
    "\n",
    "    y[0,0] = derivative.loc['ds/dt']\n",
    "    y[1,0] = derivative.loc['di/dt']\n",
    "    y[2,0] = derivative.loc['dr/dt']\n",
    "\n",
    "    A = np.matmul(X.T,X)\n",
    "    b  = np.matmul(X.T,y)\n",
    "\n",
    "    A_sym = convert_to_symmetric(A)\n",
    "    A_tri = cholesky(A_sym)\n",
    "  \n",
    "    inter = forward_substitute(A_tri,b)\n",
    "    inter = np.expand_dims(inter,1)\n",
    "    sol = back_substitution(A_tri.T,inter)\n",
    "    solution = nnls(X,y.squeeze())\n",
    "    \n",
    "    return sol,solution[0]\n",
    "    #\n",
    "    #solution = np.linalg.solve(A,b)\n",
    "    #print(solution)\n",
    "\n"
   ]
  },
  {
   "cell_type": "code",
   "execution_count": null,
   "metadata": {},
   "outputs": [],
   "source": [
    "indices = []\n",
    "plot_points = []\n",
    "\n",
    "for i in range(len(time_series_df)):\n",
    "\n",
    "    sol,solution = oneday_solve(time_series_df.loc[i],derivative_df.loc[i])\n",
    "    plot_points.append(sol[0]/sol[1])\n",
    "    indices.append(i+1)"
   ]
  },
  {
   "cell_type": "code",
   "execution_count": null,
   "metadata": {},
   "outputs": [],
   "source": [
    "plot_points"
   ]
  },
  {
   "cell_type": "code",
   "execution_count": null,
   "metadata": {},
   "outputs": [],
   "source": [
    "plt.plot(indices[100:],plot_points[100:])"
   ]
  },
  {
   "cell_type": "code",
   "execution_count": null,
   "metadata": {},
   "outputs": [],
   "source": [
    "f = np.array([[1,-1,1],[0,2,-5],[0,0,3]])\n",
    "b = np.array([[8],[-27],[15]])\n",
    "back_substitution(f,b)"
   ]
  },
  {
   "cell_type": "code",
   "execution_count": null,
   "metadata": {},
   "outputs": [],
   "source": [
    "f = np.array([[3,0,0],[-5,2,0],[1,-1,1]])\n",
    "b = np.array([[15],[-27],[8]])\n",
    "forward_substitute(f,b)"
   ]
  },
  {
   "cell_type": "code",
   "execution_count": null,
   "metadata": {},
   "outputs": [],
   "source": [
    "import numpy as np\n",
    "\n",
    "\n",
    "matrix = np.array([[4,12,-16],[12,37,-43],[-16,-43,98]])  \n",
    "\n",
    "cholesky(matrix)\n"
   ]
  },
  {
   "cell_type": "code",
   "execution_count": null,
   "metadata": {},
   "outputs": [],
   "source": []
  }
 ],
 "metadata": {
  "kernelspec": {
   "display_name": "Python 3.9.13 64-bit",
   "language": "python",
   "name": "python3"
  },
  "language_info": {
   "codemirror_mode": {
    "name": "ipython",
    "version": 3
   },
   "file_extension": ".py",
   "mimetype": "text/x-python",
   "name": "python",
   "nbconvert_exporter": "python",
   "pygments_lexer": "ipython3",
   "version": "3.9.13"
  },
  "orig_nbformat": 4,
  "vscode": {
   "interpreter": {
    "hash": "d1b0110cf1cb03549be737c5657a86ea4daeeb81469a7991ed915d907f3e629c"
   }
  }
 },
 "nbformat": 4,
 "nbformat_minor": 2
}
