{
 "cells": [
  {
   "cell_type": "markdown",
   "metadata": {},
   "source": [
    "\n",
    "## **Question : 1** \n",
    "\n",
    "\n",
    " **Linear Least Squares** **[5 points]**\n",
    "\n",
    "\n",
    "The simplest model to predict the spread of infectious diseases is the SIR model. This model is a set of ordinary differential equations that describe the evolution of the number of susceptible (S(t)), infected (I(t)) and recovered/removed (R(t)) populations in a closed system. The equations are\n",
    "\n",
    "$\\frac{dS}{dt} = \\frac {−βIS} {N} $, (1)\n",
    "\n",
    "$\\frac{dI}{dt} =\\frac {βIS} {N} −γI$, (2)\n",
    "\n",
    "$\\frac{dR}{dt} = γI$, (3)\n",
    "\n",
    "where $N = S(t)+I(t)+R(t)$. The basic reproduction number $R_0 = β/γ$ is defined to quantify the new infections that one infected person causes and is considered as a magic number to identify if an infectious disease is under control. For example, if $R_0 > 1$, the disease has an exponential growth whereas if $R_0 < 1$, the disease is under control and the infectious population will eventually go to zero. At peak $R_0$ will cross 1.\n",
    "As with simple models, there exist analytical solutions to the SIR model. One form of the solution is given as\n",
    "\n",
    "$S(t) = S(0) exp(−χ(t))$ , (4)\n",
    "\n",
    "$I(t) = N − S(t) − R(t)$ , (5)\n",
    "\n",
    "$R(t) = R(0) + ρχ(t)$ , (6)\n",
    "\n",
    "$χ(t) = \\frac {β} {N} \\int_{0}^{t}I(t^*) dt^*$. (7)\n",
    "\n",
    "\n",
    "For this assignment, we will consider a time unit of days, total population of India as 130 crores and the time horizon of interest as March 23, 2020 to Oct 15, 2020. Removed is a sum of recovered and deceased, i.e., the population that will not get infected again. Data in CSV form for state-wise-daily is available at\n",
    "https://data.covid19india.org/csv/latest/state_wise_daily.csv\n",
    "\n",
    "1. Download the state wise daily data of infected, recovered and deceased from the covid19india website. The data gives daily new infections, recovery and deceased. Use Pandas and create time-series of all India $I(t), S(t)$ and $R(t)$. Plot these time- series. Hint: Apply yourself and see what $I(t)$ means and what the data provides.\n",
    "2. Formulate the problem of estimating $γ$ and $β$ as a linear least squares problem.\n",
    "3. Form the Jacobian matrix and calculate its rank and condition number.\n",
    "4. Form the coefficient matrix and calculate its condition number. Find the relation between this condition number and condition number of the Jacobian.\n",
    "5. Code the cholesky factorization approach to solve the linear least squares problem.\n",
    "6. Apply your code and estimate $β, γ$ and $R_0$.\n",
    "7. Use scipy.optimize and estimate $β, γ$ and $R_0$.\n",
    "8. State your observations in the above two items and give reasons.\n",
    "9. Estimate $R_0(t)$ as a function of time by utilizing data until t to estimate the different parameters. Plot $R_0(t)$. \n",
    "10. Based on the above analyse the state of the pandemic in India. Has the peak passed as on Oct 2020?"
   ]
  },
  {
   "cell_type": "code",
   "execution_count": 9,
   "metadata": {},
   "outputs": [],
   "source": [
    "import pandas as pd\n",
    "import matplotlib.pyplot as plt\n",
    "import numpy as np\n",
    "\n",
    "POPULATION = 130 * (10**7)\n",
    "\n",
    "df = pd.read_csv('./data/state_wise_daily.csv')\n",
    "summed_data = df.sum(axis=1,numeric_only=True)   # Sum up along rows"
   ]
  },
  {
   "cell_type": "markdown",
   "metadata": {},
   "source": [
    "#### Formula Used\n",
    "\n",
    "- S(1) = Initial_population - Infected count from csv on day 1\n",
    "- R(1) = Recovered count from csv on day 1\n",
    "- I(1) = Infected count from csv on day 1 - R(1)\n",
    "\n",
    "Further on\n",
    "- S(t) = S(t-1) - Infected count from csv on day t\n",
    "- R(t) = R(t-1) + Recovered count from csv on day t\n",
    "- I(t) = I(t-1) + ( Infected count from csv on day t - Recovered count on day t)"
   ]
  },
  {
   "cell_type": "code",
   "execution_count": 7,
   "metadata": {},
   "outputs": [
    {
     "data": {
      "image/png": "[encoded data removed]",
      "text/plain": [
       "<Figure size 1080x288 with 3 Axes>"
      ]
     },
     "metadata": {
      "needs_background": "light"
     },
     "output_type": "display_data"
    }
   ],
   "source": [
    "def get_susceptible_infected_recovered(data_frame):\n",
    "    \n",
    "    \n",
    "    infected_indices = [3*i for i in range(int(len(data_frame)/3))]\n",
    "    recovered_indices = [ 3*i+1 for i in range(int(len(data_frame)/3)) ]  # Add indices of Recovered\n",
    "    recovered_indices =  recovered_indices +  [ 3*i+2 for i in range(int(len(data_frame)/3)) ] # Add indices of Decesesed\n",
    "    recovered_indices = sorted(recovered_indices) \n",
    "\n",
    "    recovered_deceased = summed_data[recovered_indices]  # Get only rows related to recovered and deceased\n",
    "    recovered_dup = recovered_deceased.groupby(recovered_deceased.index//3).transform('sum')\n",
    "    rec_indices = [ 3*i + 1 for i in range(int(len(recovered_dup)//2))]\n",
    "    \n",
    "\n",
    "    recovered = recovered_dup[rec_indices]\n",
    "    recovered = recovered.reset_index(drop = True)\n",
    "    infected = summed_data[infected_indices]\n",
    "    infected = infected.reset_index(drop=True)\n",
    "\n",
    "    new_dataframe = pd.DataFrame({'infected' :  infected , 'recovered' : recovered})\n",
    "    time_series = new_dataframe.index.array\n",
    "\n",
    "\n",
    "\n",
    "    time_series_df = pd.DataFrame()\n",
    "    time_series_df.insert(0,\"time\",time_series)\n",
    "    time_series_df[\"S(t)\"] = 0\n",
    "    time_series_df[\"I(t)\"] = 0\n",
    "    \n",
    "    time_series_df.insert(3,\"R(t)\",new_dataframe['recovered'].cumsum()) # R(t) increases as more people recover each day So taking cumulative sum\n",
    "\n",
    "    time_series_df.loc[0,\"S(t)\"] = POPULATION- new_dataframe.loc[0,'infected'] # Infected people will only get deducted from susceptible\n",
    "    time_series_df.loc[0,\"I(t)\"] = new_dataframe.loc[0,'infected'] - new_dataframe.loc[0,'recovered'] # Formuala derived from I(t) = N - S(t) - R(t)\n",
    "    \n",
    "    # Continue for all timesteps\n",
    "    for i in range(1,len(new_dataframe)):\n",
    "    \n",
    "        time_series_df.loc[i,\"S(t)\"] = time_series_df.loc[i-1,\"S(t)\"] - new_dataframe.loc[i,'infected']\n",
    "        time_series_df.loc[i,\"I(t)\"] = time_series_df.loc[i-1,\"I(t)\"] + (new_dataframe.loc[i,'infected'] - new_dataframe.loc[i,'recovered'])\n",
    "    return time_series_df\n",
    "\n",
    "\n",
    "# To plot the time series graph for infected recovered and deceased.\n",
    "def plot_time_series(data_frame):\n",
    "\n",
    "    def set_axis_title(ax,title):\n",
    "        ax.set_ylabel('People Count')\n",
    "        ax.set_xlabel('Time in days')\n",
    "        ax.set_title(title)\n",
    "\n",
    "    figure,axes = plt.subplots(1,3)\n",
    "    figure.set_figwidth(15)\n",
    "\n",
    "    axes[0].plot(time_series_df['time'],time_series_df['S(t)'] ,color='b', label = 'S(t)')\n",
    "    axes[1].plot(time_series_df['time'],time_series_df['I(t)'] ,color='r', label = 'I(t)')\n",
    "    axes[2].plot(time_series_df['time'],time_series_df['R(t)'] ,color='g', label = 'R(t)')\n",
    "    set_axis_title(axes[0],'S(t)')\n",
    "    set_axis_title(axes[1],'I(t)')\n",
    "    set_axis_title(axes[2],'R(t)')\n",
    "    plt.show()\n",
    "\n",
    "\n",
    "\n",
    "time_series_df = get_susceptible_infected_recovered(summed_data)\n",
    "plot_time_series(time_series_df)"
   ]
  },
  {
   "cell_type": "markdown",
   "metadata": {},
   "source": [
    "#### Least Square Problem Formulation\n",
    "\n",
    "- We will be considering the case of a particular day t\n",
    "- $\\beta(t)$ and $\\gamma(t)$ are the unknown parameters\n",
    "- $dS/dt$ , $dI/dt$ and $dR/dt$ can be estimated using the central difference method whose general form is\n",
    "   <br> <br> $\\frac{\\partial f(t)}{dt} = \\frac{f(t+1) - f(t-1)}{2}$\n",
    "\n",
    "- Edge cases handled by taking forward difference only and vice versa\n",
    "\n",
    "The least squares formulation would be\n",
    "\n",
    "<br> <br>\n",
    "$$\n",
    "\\left[\\begin{array}{cc} \n",
    "-\\frac{I(t)*S(t)}{N} & 0\\\\ \\\\\n",
    "\\frac{I(t)*S(t)}{N} & -I(t) \\\\ \\\\\n",
    "0 & I(t) \\\\\n",
    "\\end{array}\\right]\n",
    "\\left[\\begin{array}{c} \n",
    "\\beta \\\\\n",
    "\\gamma\n",
    "\\end{array}\\right]\n",
    "= \n",
    "\\left[\\begin{array}{c} \n",
    "\\frac{dS(t)}{dt}\\\\ \\\\\n",
    "\\frac{dI(t)}{dt} \\\\ \\\\\n",
    "\\frac{dR(t)}{dt}\n",
    "\\end{array}\\right]\n",
    "$$ \n"
   ]
  },
  {
   "cell_type": "markdown",
   "metadata": {},
   "source": [
    "### Jacobian\n",
    "\n",
    "\n",
    "\n",
    "\n",
    "The vector valued function is \n",
    "    $$f(\\left[ \\begin{array}{c} \n",
    "    \\beta \\\\\n",
    "    \\gamma\n",
    "    \\end{array} \\right]) = \\left[\\begin{array}{c} \n",
    "\\frac{dS(t)}{dt}\\\\ \\\\\n",
    "\\frac{dI(t)}{dt} \\\\ \\\\\n",
    "\\frac{dR(t)}{dt}\n",
    "\\end{array}\\right] = \\left[\\begin{array}{c} \n",
    "\\frac {−βIS} {N} \\\\ \\\\\n",
    "\\frac {βIS} {N} −γI \\\\ \\\\\n",
    "γI\n",
    "\\end{array}\\right] = \\left[\\begin{array}{c} \n",
    "f_1\\\\ \\\\\n",
    "f_2 \\\\ \\\\\n",
    "f_3\n",
    "\\end{array}\\right]$$  \n",
    "\n",
    "Calculating the Jacobian Matrix\n",
    "$$ J = \\left[\\begin{array}{cc} \n",
    "\\frac{df_1(t)}{d\\beta} & \\frac{df_1(t)}{d\\gamma} \\\\ \\\\\n",
    "\\frac{df_2(t)}{d\\beta} & \\frac{df_2(t)}{d\\gamma} \\\\ \\\\\n",
    "\\frac{df_3(t)}{d\\beta} & \\frac{df_3(t)}{d\\gamma}\n",
    "\\end{array}\\right] = \\left[\\begin{array}{cc} \n",
    "-\\frac{I*S}{N} & 0\\\\ \\\\\n",
    "\\frac{I*S}{N} & -I \\\\ \\\\\n",
    "0 & I \\\\\n",
    "\\end{array}\\right]$$ \n",
    "\n",
    "The jacobian matrix is equivalent to the coefficient matrix which we used for the formulating the least squares problem."
   ]
  },
  {
   "cell_type": "markdown",
   "metadata": {},
   "source": [
    "### Condition Number of Coefficient Matrix\n",
    "\n",
    "Since the Coefficient Matrix and Jacobian are equaivalent. The coefficient matrix will have a condition number of \n"
   ]
  },
  {
   "cell_type": "code",
   "execution_count": 14,
   "metadata": {},
   "outputs": [],
   "source": [
    "\n",
    "# Cholesky Factorization Alogrithm\n",
    "def cholesky(A):\n",
    "    n = A.shape[0]\n",
    "    ANS = np.zeros((A.shape[0],A.shape[1]))\n",
    "    for j in range(n):\n",
    "        s = 0.0\n",
    "        for k in range(j):\n",
    "            s += ANS[j][k] * ANS[j][k]\n",
    "        \n",
    "        ANS[j][j] = np.sqrt(A[j][j] - s)\n",
    "        for i in range(j+1,n):\n",
    "            s = 0.0\n",
    "            for k in range(0,j):\n",
    "                s += ANS[i][k] * ANS[j][k]\n",
    "            ANS[i][j] = (1.0/ANS[j][j] * (A[i][j]-s))\n",
    "    return ANS\n",
    "\n",
    "# Convert Matrix to Symmetric Matrix.\n",
    "def convert_to_symmetric(X):\n",
    "    return 0.5*(X + X.T)\n",
    "\n",
    "\n",
    "# Back Subsitution.\n",
    "def back_substitution(A,b):\n",
    "    solution = np.zeros(A.shape[0])\n",
    "    for i in range(A.shape[0]- 1, -1,-1):\n",
    "        tmp = b[i][0]\n",
    "\n",
    "        for j in range(A.shape[0]-1,i,-1):\n",
    "            tmp -= solution[j] * A[i,j]\n",
    "        solution[i] = tmp / A[i,i]\n",
    "    return solution\n",
    "\n",
    "# Forward Substitution Algorithm.\n",
    "def forward_substitute(A,b):\n",
    "    \n",
    "    solution = np.zeros(A.shape[0])\n",
    "    for i in range(A.shape[0]):        \n",
    "        tmp = b[i][0]\n",
    "        for j in range(i):\n",
    "            tmp -= solution[j]*A[i,j]\n",
    "        solution[i] = tmp / A[i,i]\n",
    "    return solution"
   ]
  },
  {
   "cell_type": "code",
   "execution_count": 71,
   "metadata": {},
   "outputs": [],
   "source": [
    "# Solve the linear system of equations for a particualar day \n",
    "# Returns the solution for cholesky factorization based computation and builtin function scipy.optimize.\n",
    "\n",
    "from scipy.optimize import nnls\n",
    "def oneday_solve(day_param,derivative):\n",
    "    '''\n",
    "        day_param : A dataframe with single row having columns S(t),I(t),R(t) for a single day\n",
    "        derivative : ds/dt, di/dt and dr/dt for a particular day.\n",
    "    '''\n",
    "    A_rank = set()  # Used to store the rank of matrix A (Existence of Cholesky Factorization)\n",
    "    X = np.zeros((3,2))\n",
    "    y = np.zeros((3,1))\n",
    "    i_s_n = (day_param.loc['S(t)'] * day_param.loc['I(t)'])/ (POPULATION)\n",
    "    X[0,0] = -i_s_n\n",
    "    X[1,0] = i_s_n\n",
    "    X[1,1] = -day_param.loc['I(t)']\n",
    "    X[2,1] = day_param.loc['I(t)']  \n",
    "\n",
    "    y[0,0] = derivative.loc['ds/dt']\n",
    "    y[1,0] = derivative.loc['di/dt']\n",
    "    y[2,0] = derivative.loc['dr/dt']\n",
    "\n",
    "    A = np.matmul(X.T,X)\n",
    "    b  = np.matmul(X.T,y)\n",
    "    A_rank.add(np.linalg.matrix_rank(A))\n",
    "    #A_sym = convert_to_symmetric(A)\n",
    "    \n",
    "    A_tri = cholesky(A)\n",
    "    inter = forward_substitute(A_tri,b)\n",
    "    inter = np.expand_dims(inter,1)\n",
    "\n",
    "    sol = back_substitution(A_tri.T,inter)\n",
    "    scipy_solution = nnls(X,y.squeeze())\n",
    "    \n",
    "    return sol,scipy_solution,A_rank\n",
    "    "
   ]
  },
  {
   "cell_type": "code",
   "execution_count": 72,
   "metadata": {},
   "outputs": [],
   "source": [
    "# Calculate ds/dt, di/dt and dr/dt\n",
    "derivative_df = pd.DataFrame(0.0,index=np.arange(len(time_series_df)),columns=['ds/dt','di/dt','dr/dt'])\n",
    "\n",
    "for i in range(len(time_series_df)):\n",
    "    if i==0:\n",
    "        derivative_df.loc[i,\"ds/dt\"] = (time_series_df.loc[i+1,\"S(t)\"] - time_series_df.loc[i,\"S(t)\"])\n",
    "        derivative_df.loc[i,\"di/dt\"] = (time_series_df.loc[i+1,\"I(t)\"] - time_series_df.loc[i,\"I(t)\"])\n",
    "        derivative_df.loc[i,\"dr/dt\"] = (time_series_df.loc[i+1,\"R(t)\"] - time_series_df.loc[i,\"R(t)\"])\n",
    "    elif i == len(time_series_df)-1:\n",
    "        derivative_df.loc[i,\"ds/dt\"] = (time_series_df.loc[i,\"S(t)\"] - time_series_df.loc[i-1,\"S(t)\"])\n",
    "        derivative_df.loc[i,\"di/dt\"] = (time_series_df.loc[i,\"I(t)\"] - time_series_df.loc[i-1,\"I(t)\"])\n",
    "        derivative_df.loc[i,\"dr/dt\"] = (time_series_df.loc[i,\"R(t)\"] - time_series_df.loc[i-1,\"R(t)\"])\n",
    "    else:\n",
    "        derivative_df.loc[i,\"ds/dt\"] = (time_series_df.loc[i+1,\"S(t)\"] - time_series_df.loc[i-1,\"S(t)\"])/2.0\n",
    "        derivative_df.loc[i,\"di/dt\"] = (time_series_df.loc[i+1,\"I(t)\"] - time_series_df.loc[i-1,\"I(t)\"])/2.0\n",
    "        derivative_df.loc[i,\"dr/dt\"] = (time_series_df.loc[i+1,\"R(t)\"] - time_series_df.loc[i-1,\"R(t)\"])/2.0"
   ]
  },
  {
   "cell_type": "code",
   "execution_count": 73,
   "metadata": {},
   "outputs": [],
   "source": [
    "indices = []\n",
    "plot_points = []\n",
    "scipy_solutions = []\n",
    "scipy_sol_error = []\n",
    "\n",
    "# Get Ro(t)\n",
    "for i in range(len(time_series_df)):\n",
    "    sol,scipy_solution,MatrixA_rank = oneday_solve(time_series_df.loc[i],derivative_df.loc[i])\n",
    "    scipy_solutions.append(scipy_solution[0][0]/scipy_solution[0][1])\n",
    "    scipy_sol_error.append(scipy_solution[1])\n",
    "    plot_points.append(sol[0]/sol[1])\n",
    "    indices.append(i+1)"
   ]
  },
  {
   "cell_type": "code",
   "execution_count": 74,
   "metadata": {},
   "outputs": [
    {
     "data": {
      "image/png": "[encoded data removed]",
      "text/plain": [
       "<Figure size 432x288 with 1 Axes>"
      ]
     },
     "metadata": {
      "needs_background": "light"
     },
     "output_type": "display_data"
    },
    {
     "data": {
      "image/png": "[encoded data removed]",
      "text/plain": [
       "<Figure size 432x288 with 1 Axes>"
      ]
     },
     "metadata": {
      "needs_background": "light"
     },
     "output_type": "display_data"
    }
   ],
   "source": [
    "plt.ylabel('Ro(t)')\n",
    "plt.plot(indices,plot_points)\n",
    "plt.show()\n",
    "plt.ylabel('Ro(t)')\n",
    "plt.plot(indices,scipy_solutions,'--',color = 'orange',alpha=1.0)\n",
    "plt.show()"
   ]
  },
  {
   "cell_type": "code",
   "execution_count": 75,
   "metadata": {},
   "outputs": [
    {
     "data": {
      "image/png": "[encoded data removed]",
      "text/plain": [
       "<Figure size 432x288 with 1 Axes>"
      ]
     },
     "metadata": {
      "needs_background": "light"
     },
     "output_type": "display_data"
    }
   ],
   "source": [
    "# Overlaying the plots on one another\n",
    "plt.ylabel('Ro(t)')\n",
    "plt.plot(indices,plot_points)\n",
    "plt.plot(indices,scipy_solutions,'--',color = 'orange',alpha=0.7)\n",
    "plt.show()"
   ]
  },
  {
   "cell_type": "markdown",
   "metadata": {},
   "source": [
    "- Couldnt find any visible difference between the plots Ro(t) from the values computed using cholesky and scipy.optimize"
   ]
  },
  {
   "cell_type": "code",
   "execution_count": 76,
   "metadata": {},
   "outputs": [
    {
     "name": "stdout",
     "output_type": "stream",
     "text": [
      "Average error = 1.1834940249103009e-15\n"
     ]
    }
   ],
   "source": [
    "# Check if Ro(t) computed from cholesky and scipy are the same\n",
    "# Computing the absolute difference between the two summing and averaging up\n",
    "error = 0.0\n",
    "for i in range(len(indices)):\n",
    "    error += np.abs(scipy_solutions[i] - plot_points[i] )\n",
    "    #print(str(scipy_solutions[i]) + \"    ;;;; \" + str(plot_points[i]) + \",,,,\" + str(scipy_sol_error[i])) \n",
    "print(\"Average error = \" + str(error/len(indices)))\n"
   ]
  },
  {
   "cell_type": "markdown",
   "metadata": {},
   "source": [
    "The average error is very small (10^-15). The solutions obtained using the cholesky factorization based solver and builtin solver is almost equal to each other.\n"
   ]
  },
  {
   "cell_type": "code",
   "execution_count": null,
   "metadata": {},
   "outputs": [],
   "source": []
  },
  {
   "cell_type": "code",
   "execution_count": null,
   "metadata": {},
   "outputs": [],
   "source": []
  }
 ],
 "metadata": {
  "kernelspec": {
   "display_name": "Python 3.9.13 64-bit",
   "language": "python",
   "name": "python3"
  },
  "language_info": {
   "codemirror_mode": {
    "name": "ipython",
    "version": 3
   },
   "file_extension": ".py",
   "mimetype": "text/x-python",
   "name": "python",
   "nbconvert_exporter": "python",
   "pygments_lexer": "ipython3",
   "version": "3.9.13"
  },
  "orig_nbformat": 4,
  "vscode": {
   "interpreter": {
    "hash": "d1b0110cf1cb03549be737c5657a86ea4daeeb81469a7991ed915d907f3e629c"
   }
  }
 },
 "nbformat": 4,
 "nbformat_minor": 2
}
